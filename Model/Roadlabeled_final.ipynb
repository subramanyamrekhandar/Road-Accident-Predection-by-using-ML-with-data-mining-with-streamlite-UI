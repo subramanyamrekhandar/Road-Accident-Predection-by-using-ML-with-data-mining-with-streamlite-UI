{
 "cells": [
  {
   "cell_type": "code",
   "execution_count": 1,
   "id": "a90e7ff3",
   "metadata": {
    "id": "a90e7ff3"
   },
   "outputs": [
    {
     "name": "stdout",
     "output_type": "stream",
     "text": [
      "Requirement already satisfied: lightgbm in c:\\users\\shivk\\anaconda3\\lib\\site-packages (3.3.5)\n",
      "Requirement already satisfied: scikit-learn!=0.22.0 in c:\\users\\shivk\\anaconda3\\lib\\site-packages (from lightgbm) (1.0.2)\n",
      "Requirement already satisfied: numpy in c:\\users\\shivk\\anaconda3\\lib\\site-packages (from lightgbm) (1.22.4)\n",
      "Requirement already satisfied: wheel in c:\\users\\shivk\\anaconda3\\lib\\site-packages (from lightgbm) (0.37.1)\n",
      "Requirement already satisfied: scipy in c:\\users\\shivk\\anaconda3\\lib\\site-packages (from lightgbm) (1.7.3)\n",
      "Requirement already satisfied: threadpoolctl>=2.0.0 in c:\\users\\shivk\\anaconda3\\lib\\site-packages (from scikit-learn!=0.22.0->lightgbm) (2.2.0)\n",
      "Requirement already satisfied: joblib>=0.11 in c:\\users\\shivk\\anaconda3\\lib\\site-packages (from scikit-learn!=0.22.0->lightgbm) (1.1.0)\n"
     ]
    }
   ],
   "source": [
    "import numpy as np\n",
    "import pandas as pd\n",
    "import seaborn as sns\n",
    "\n",
    "import matplotlib.pyplot as plt\n",
    "# plt.style.use('dark_background')\n",
    "%matplotlib inline\n",
    "\n",
    "import sklearn\n",
    "from sklearn.utils import resample\n",
    "from sklearn.metrics import accuracy_score, f1_score, precision_score, log_loss, recall_score \n",
    "from sklearn.metrics import classification_report, confusion_matrix, roc_auc_score\n",
    "from sklearn.model_selection import cross_val_score, GridSearchCV, train_test_split\n",
    "from sklearn.preprocessing import LabelEncoder, OneHotEncoder, StandardScaler, OrdinalEncoder\n",
    "from sklearn.ensemble import AdaBoostClassifier, BaggingClassifier, ExtraTreesClassifier\n",
    "from sklearn.ensemble import RandomForestClassifier\n",
    "from xgboost import XGBClassifier\n",
    "!pip install lightgbm\n",
    "from lightgbm import LGBMClassifier"
   ]
  },
  {
   "cell_type": "code",
   "execution_count": 2,
   "id": "e2576137",
   "metadata": {
    "id": "e2576137"
   },
   "outputs": [],
   "source": [
    "df = pd.read_csv(r\"Road_accident_analysis\\database\\6accident_data.csv\")\n"
   ]
  },
  {
   "cell_type": "code",
   "execution_count": 3,
   "id": "3065d285",
   "metadata": {
    "colab": {
     "base_uri": "https://localhost:8080/",
     "height": 490
    },
    "id": "3065d285",
    "outputId": "278ba7f4-4aea-4a4c-8091-5c77780bb264"
   },
   "outputs": [
    {
     "data": {
      "text/html": [
       "<div>\n",
       "<style scoped>\n",
       "    .dataframe tbody tr th:only-of-type {\n",
       "        vertical-align: middle;\n",
       "    }\n",
       "\n",
       "    .dataframe tbody tr th {\n",
       "        vertical-align: top;\n",
       "    }\n",
       "\n",
       "    .dataframe thead th {\n",
       "        text-align: right;\n",
       "    }\n",
       "</style>\n",
       "<table border=\"1\" class=\"dataframe\">\n",
       "  <thead>\n",
       "    <tr style=\"text-align: right;\">\n",
       "      <th></th>\n",
       "      <th>Accident_Index</th>\n",
       "      <th>1st_Road_Class</th>\n",
       "      <th>1st_Road_Number</th>\n",
       "      <th>2nd_Road_Class</th>\n",
       "      <th>2nd_Road_Number</th>\n",
       "      <th>Accident_Severity</th>\n",
       "      <th>Carriageway_Hazards</th>\n",
       "      <th>Date</th>\n",
       "      <th>Day_of_Week</th>\n",
       "      <th>Did_Police_Officer_Attend_Scene_of_Accident</th>\n",
       "      <th>...</th>\n",
       "      <th>Skidding_and_Overturning</th>\n",
       "      <th>Towing_and_Articulation</th>\n",
       "      <th>Vehicle_Leaving_Carriageway</th>\n",
       "      <th>Vehicle_Location.Restricted_Lane</th>\n",
       "      <th>Vehicle_Manoeuvre</th>\n",
       "      <th>Vehicle_Reference</th>\n",
       "      <th>Vehicle_Type</th>\n",
       "      <th>Was_Vehicle_Left_Hand_Drive</th>\n",
       "      <th>X1st_Point_of_Impact</th>\n",
       "      <th>Year</th>\n",
       "    </tr>\n",
       "  </thead>\n",
       "  <tbody>\n",
       "    <tr>\n",
       "      <th>0</th>\n",
       "      <td>200754AM08507</td>\n",
       "      <td>A</td>\n",
       "      <td>345</td>\n",
       "      <td>NaN</td>\n",
       "      <td>0.0</td>\n",
       "      <td>Fatal</td>\n",
       "      <td>None</td>\n",
       "      <td>28-01-2021</td>\n",
       "      <td>Tuesday</td>\n",
       "      <td>1</td>\n",
       "      <td>...</td>\n",
       "      <td>Skidded</td>\n",
       "      <td>No tow/articulation</td>\n",
       "      <td>Offside</td>\n",
       "      <td>0</td>\n",
       "      <td>Overtaking moving vehicle - offside</td>\n",
       "      <td>1</td>\n",
       "      <td>Car</td>\n",
       "      <td>No</td>\n",
       "      <td>Back</td>\n",
       "      <td>2021</td>\n",
       "    </tr>\n",
       "    <tr>\n",
       "      <th>1</th>\n",
       "      <td>2009559D02192</td>\n",
       "      <td>A</td>\n",
       "      <td>30</td>\n",
       "      <td>NaN</td>\n",
       "      <td>0.0</td>\n",
       "      <td>Fatal</td>\n",
       "      <td>None</td>\n",
       "      <td>29-11-2021</td>\n",
       "      <td>Thursday</td>\n",
       "      <td>1</td>\n",
       "      <td>...</td>\n",
       "      <td>None</td>\n",
       "      <td>No tow/articulation</td>\n",
       "      <td>Offside</td>\n",
       "      <td>0</td>\n",
       "      <td>Going ahead left-hand bend</td>\n",
       "      <td>1</td>\n",
       "      <td>Motorcycle over 500cc</td>\n",
       "      <td>No</td>\n",
       "      <td>Front</td>\n",
       "      <td>2020</td>\n",
       "    </tr>\n",
       "    <tr>\n",
       "      <th>2</th>\n",
       "      <td>201054MB04210</td>\n",
       "      <td>Motorway</td>\n",
       "      <td>4</td>\n",
       "      <td>NaN</td>\n",
       "      <td>0.0</td>\n",
       "      <td>Fatal</td>\n",
       "      <td>None</td>\n",
       "      <td>15-03-2021</td>\n",
       "      <td>Saturday</td>\n",
       "      <td>1</td>\n",
       "      <td>...</td>\n",
       "      <td>None</td>\n",
       "      <td>No tow/articulation</td>\n",
       "      <td>Did not leave carriageway</td>\n",
       "      <td>0</td>\n",
       "      <td>Going ahead other</td>\n",
       "      <td>2</td>\n",
       "      <td>Motorcycle over 125cc and up to 500cc</td>\n",
       "      <td>No</td>\n",
       "      <td>Back</td>\n",
       "      <td>2019</td>\n",
       "    </tr>\n",
       "    <tr>\n",
       "      <th>3</th>\n",
       "      <td>201014A194610</td>\n",
       "      <td>Motorway</td>\n",
       "      <td>18</td>\n",
       "      <td>A</td>\n",
       "      <td>630.0</td>\n",
       "      <td>Fatal</td>\n",
       "      <td>None</td>\n",
       "      <td>08-07-2020</td>\n",
       "      <td>Tuesday</td>\n",
       "      <td>1</td>\n",
       "      <td>...</td>\n",
       "      <td>None</td>\n",
       "      <td>No tow/articulation</td>\n",
       "      <td>Did not leave carriageway</td>\n",
       "      <td>0</td>\n",
       "      <td>Reversing</td>\n",
       "      <td>3</td>\n",
       "      <td>Other vehicle</td>\n",
       "      <td>No</td>\n",
       "      <td>Back</td>\n",
       "      <td>2019</td>\n",
       "    </tr>\n",
       "    <tr>\n",
       "      <th>4</th>\n",
       "      <td>201014A194610</td>\n",
       "      <td>Motorway</td>\n",
       "      <td>18</td>\n",
       "      <td>A</td>\n",
       "      <td>630.0</td>\n",
       "      <td>Fatal</td>\n",
       "      <td>None</td>\n",
       "      <td>30-11-2010</td>\n",
       "      <td>Tuesday</td>\n",
       "      <td>1</td>\n",
       "      <td>...</td>\n",
       "      <td>None</td>\n",
       "      <td>No tow/articulation</td>\n",
       "      <td>Did not leave carriageway</td>\n",
       "      <td>0</td>\n",
       "      <td>Reversing</td>\n",
       "      <td>3</td>\n",
       "      <td>Other vehicle</td>\n",
       "      <td>No</td>\n",
       "      <td>Back</td>\n",
       "      <td>2010</td>\n",
       "    </tr>\n",
       "  </tbody>\n",
       "</table>\n",
       "<p>5 rows × 53 columns</p>\n",
       "</div>"
      ],
      "text/plain": [
       "  Accident_Index 1st_Road_Class  1st_Road_Number 2nd_Road_Class  \\\n",
       "0  200754AM08507              A              345            NaN   \n",
       "1  2009559D02192              A               30            NaN   \n",
       "2  201054MB04210       Motorway                4            NaN   \n",
       "3  201014A194610       Motorway               18              A   \n",
       "4  201014A194610       Motorway               18              A   \n",
       "\n",
       "   2nd_Road_Number Accident_Severity Carriageway_Hazards        Date  \\\n",
       "0              0.0             Fatal                None  28-01-2021   \n",
       "1              0.0             Fatal                None  29-11-2021   \n",
       "2              0.0             Fatal                None  15-03-2021   \n",
       "3            630.0             Fatal                None  08-07-2020   \n",
       "4            630.0             Fatal                None  30-11-2010   \n",
       "\n",
       "  Day_of_Week  Did_Police_Officer_Attend_Scene_of_Accident  ...  \\\n",
       "0     Tuesday                                            1  ...   \n",
       "1    Thursday                                            1  ...   \n",
       "2    Saturday                                            1  ...   \n",
       "3     Tuesday                                            1  ...   \n",
       "4     Tuesday                                            1  ...   \n",
       "\n",
       "  Skidding_and_Overturning Towing_and_Articulation  \\\n",
       "0                  Skidded     No tow/articulation   \n",
       "1                     None     No tow/articulation   \n",
       "2                     None     No tow/articulation   \n",
       "3                     None     No tow/articulation   \n",
       "4                     None     No tow/articulation   \n",
       "\n",
       "   Vehicle_Leaving_Carriageway Vehicle_Location.Restricted_Lane  \\\n",
       "0                      Offside                                0   \n",
       "1                      Offside                                0   \n",
       "2    Did not leave carriageway                                0   \n",
       "3    Did not leave carriageway                                0   \n",
       "4    Did not leave carriageway                                0   \n",
       "\n",
       "                     Vehicle_Manoeuvre  Vehicle_Reference  \\\n",
       "0  Overtaking moving vehicle - offside                  1   \n",
       "1           Going ahead left-hand bend                  1   \n",
       "2                    Going ahead other                  2   \n",
       "3                            Reversing                  3   \n",
       "4                            Reversing                  3   \n",
       "\n",
       "                            Vehicle_Type Was_Vehicle_Left_Hand_Drive  \\\n",
       "0                                    Car                          No   \n",
       "1                  Motorcycle over 500cc                          No   \n",
       "2  Motorcycle over 125cc and up to 500cc                          No   \n",
       "3                          Other vehicle                          No   \n",
       "4                          Other vehicle                          No   \n",
       "\n",
       "   X1st_Point_of_Impact  Year  \n",
       "0                  Back  2021  \n",
       "1                 Front  2020  \n",
       "2                  Back  2019  \n",
       "3                  Back  2019  \n",
       "4                  Back  2010  \n",
       "\n",
       "[5 rows x 53 columns]"
      ]
     },
     "execution_count": 3,
     "metadata": {},
     "output_type": "execute_result"
    }
   ],
   "source": [
    "df.head()"
   ]
  },
  {
   "cell_type": "code",
   "execution_count": 4,
   "id": "48d75ce5",
   "metadata": {
    "colab": {
     "base_uri": "https://localhost:8080/"
    },
    "id": "48d75ce5",
    "outputId": "21eabb5c-6a4f-41d1-a3ec-80768c525521"
   },
   "outputs": [
    {
     "name": "stdout",
     "output_type": "stream",
     "text": [
      "Accident_Index                                     0\n",
      "1st_Road_Class                                     0\n",
      "1st_Road_Number                                    0\n",
      "2nd_Road_Class                                 11419\n",
      "2nd_Road_Number                                  290\n",
      "Accident_Severity                                  0\n",
      "Carriageway_Hazards                                0\n",
      "Date                                               0\n",
      "Day_of_Week                                        0\n",
      "Did_Police_Officer_Attend_Scene_of_Accident        0\n",
      "Junction_Control                                   0\n",
      "Junction_Detail                                    0\n",
      "Latitude                                           0\n",
      "Light_Conditions                                   0\n",
      "Location_Easting_OSGR                              0\n",
      "Location_Northing_OSGR                             0\n",
      "Longitude                                          0\n",
      "LSOA_of_Accident_Location                        493\n",
      "Number_of_Casualties                               0\n",
      "Number_of_Vehicles                                 0\n",
      "Pedestrian_Crossing-Human_Control                  0\n",
      "Pedestrian_Crossing-Physical_Facilities            0\n",
      "Road_Surface_Conditions                            0\n",
      "Road_Type                                          0\n",
      "Special_Conditions_at_Site                         0\n",
      "Speed_limit                                        0\n",
      "Time                                               0\n",
      "Urban_or_Rural_Area                                0\n",
      "Weather_Conditions                                 0\n",
      "InScotland                                         0\n",
      "Age_Band_of_Driver                                 0\n",
      "Age_of_Vehicle                                     0\n",
      "Driver_Home_Area_Type                              0\n",
      "Driver_IMD_Decile                               3165\n",
      "Engine_Capacity_.CC.                             132\n",
      "Hit_Object_in_Carriageway                          0\n",
      "Hit_Object_off_Carriageway                         0\n",
      "Journey_Purpose_of_Driver                          0\n",
      "Junction_Location                                  0\n",
      "make                                            5537\n",
      "model                                           2067\n",
      "Propulsion_Code                                    0\n",
      "Sex_of_Driver                                      0\n",
      "Skidding_and_Overturning                           0\n",
      "Towing_and_Articulation                            0\n",
      "Vehicle_Leaving_Carriageway                        0\n",
      "Vehicle_Location.Restricted_Lane                   0\n",
      "Vehicle_Manoeuvre                                  0\n",
      "Vehicle_Reference                                  0\n",
      "Vehicle_Type                                       0\n",
      "Was_Vehicle_Left_Hand_Drive                        0\n",
      "X1st_Point_of_Impact                               0\n",
      "Year                                               0\n",
      "dtype: int64\n"
     ]
    }
   ],
   "source": [
    "print(df.isnull().sum())"
   ]
  },
  {
   "cell_type": "code",
   "execution_count": 5,
   "id": "7837c238",
   "metadata": {
    "colab": {
     "base_uri": "https://localhost:8080/"
    },
    "id": "7837c238",
    "outputId": "18b3dd1c-2dda-4389-b1d0-ce01aa27f15b"
   },
   "outputs": [
    {
     "name": "stdout",
     "output_type": "stream",
     "text": [
      "\n",
      " Index(['Accident_Index', '1st_Road_Class', '1st_Road_Number', '2nd_Road_Class',\n",
      "       '2nd_Road_Number', 'Accident_Severity', 'Carriageway_Hazards', 'Date',\n",
      "       'Day_of_Week', 'Did_Police_Officer_Attend_Scene_of_Accident',\n",
      "       'Junction_Control', 'Junction_Detail', 'Latitude', 'Light_Conditions',\n",
      "       'Location_Easting_OSGR', 'Location_Northing_OSGR', 'Longitude',\n",
      "       'LSOA_of_Accident_Location', 'Number_of_Casualties',\n",
      "       'Number_of_Vehicles', 'Pedestrian_Crossing-Human_Control',\n",
      "       'Pedestrian_Crossing-Physical_Facilities', 'Road_Surface_Conditions',\n",
      "       'Road_Type', 'Special_Conditions_at_Site', 'Speed_limit', 'Time',\n",
      "       'Urban_or_Rural_Area', 'Weather_Conditions', 'InScotland',\n",
      "       'Age_Band_of_Driver', 'Age_of_Vehicle', 'Driver_Home_Area_Type',\n",
      "       'Driver_IMD_Decile', 'Engine_Capacity_.CC.',\n",
      "       'Hit_Object_in_Carriageway', 'Hit_Object_off_Carriageway',\n",
      "       'Journey_Purpose_of_Driver', 'Junction_Location', 'make', 'model',\n",
      "       'Propulsion_Code', 'Sex_of_Driver', 'Skidding_and_Overturning',\n",
      "       'Towing_and_Articulation', 'Vehicle_Leaving_Carriageway',\n",
      "       'Vehicle_Location.Restricted_Lane', 'Vehicle_Manoeuvre',\n",
      "       'Vehicle_Reference', 'Vehicle_Type', 'Was_Vehicle_Left_Hand_Drive',\n",
      "       'X1st_Point_of_Impact', 'Year'],\n",
      "      dtype='object')\n",
      "\n",
      " (26001, 53)\n"
     ]
    }
   ],
   "source": [
    "#check columns\n",
    "print(\"\\n\",df.columns)\n",
    "print(\"\\n\",df.shape)"
   ]
  },
  {
   "cell_type": "code",
   "execution_count": 6,
   "id": "a038ef6c",
   "metadata": {
    "colab": {
     "base_uri": "https://localhost:8080/",
     "height": 522
    },
    "id": "a038ef6c",
    "outputId": "19eab55d-25be-4f9d-93a2-28fa0a4cf8d5",
    "scrolled": true
   },
   "outputs": [
    {
     "data": {
      "text/html": [
       "<div>\n",
       "<style scoped>\n",
       "    .dataframe tbody tr th:only-of-type {\n",
       "        vertical-align: middle;\n",
       "    }\n",
       "\n",
       "    .dataframe tbody tr th {\n",
       "        vertical-align: top;\n",
       "    }\n",
       "\n",
       "    .dataframe thead th {\n",
       "        text-align: right;\n",
       "    }\n",
       "</style>\n",
       "<table border=\"1\" class=\"dataframe\">\n",
       "  <thead>\n",
       "    <tr style=\"text-align: right;\">\n",
       "      <th></th>\n",
       "      <th>Accident_Index</th>\n",
       "      <th>1st_Road_Class</th>\n",
       "      <th>1st_Road_Number</th>\n",
       "      <th>2nd_Road_Class</th>\n",
       "      <th>2nd_Road_Number</th>\n",
       "      <th>Accident_Severity</th>\n",
       "      <th>Carriageway_Hazards</th>\n",
       "      <th>Date</th>\n",
       "      <th>Day_of_Week</th>\n",
       "      <th>Did_Police_Officer_Attend_Scene_of_Accident</th>\n",
       "      <th>...</th>\n",
       "      <th>Skidding_and_Overturning</th>\n",
       "      <th>Towing_and_Articulation</th>\n",
       "      <th>Vehicle_Leaving_Carriageway</th>\n",
       "      <th>Vehicle_Location.Restricted_Lane</th>\n",
       "      <th>Vehicle_Manoeuvre</th>\n",
       "      <th>Vehicle_Reference</th>\n",
       "      <th>Vehicle_Type</th>\n",
       "      <th>Was_Vehicle_Left_Hand_Drive</th>\n",
       "      <th>X1st_Point_of_Impact</th>\n",
       "      <th>Year</th>\n",
       "    </tr>\n",
       "  </thead>\n",
       "  <tbody>\n",
       "    <tr>\n",
       "      <th>count</th>\n",
       "      <td>26001</td>\n",
       "      <td>26001</td>\n",
       "      <td>26001.000000</td>\n",
       "      <td>14582</td>\n",
       "      <td>25711.000000</td>\n",
       "      <td>26001</td>\n",
       "      <td>26001</td>\n",
       "      <td>26001</td>\n",
       "      <td>26001</td>\n",
       "      <td>26001.000000</td>\n",
       "      <td>...</td>\n",
       "      <td>26001</td>\n",
       "      <td>26001</td>\n",
       "      <td>26001</td>\n",
       "      <td>26001.000000</td>\n",
       "      <td>26001</td>\n",
       "      <td>26001.000000</td>\n",
       "      <td>26001</td>\n",
       "      <td>26001</td>\n",
       "      <td>26001</td>\n",
       "      <td>26001.000000</td>\n",
       "    </tr>\n",
       "    <tr>\n",
       "      <th>unique</th>\n",
       "      <td>18837</td>\n",
       "      <td>6</td>\n",
       "      <td>NaN</td>\n",
       "      <td>6</td>\n",
       "      <td>NaN</td>\n",
       "      <td>3</td>\n",
       "      <td>6</td>\n",
       "      <td>1460</td>\n",
       "      <td>7</td>\n",
       "      <td>NaN</td>\n",
       "      <td>...</td>\n",
       "      <td>6</td>\n",
       "      <td>6</td>\n",
       "      <td>9</td>\n",
       "      <td>NaN</td>\n",
       "      <td>18</td>\n",
       "      <td>NaN</td>\n",
       "      <td>13</td>\n",
       "      <td>3</td>\n",
       "      <td>6</td>\n",
       "      <td>NaN</td>\n",
       "    </tr>\n",
       "    <tr>\n",
       "      <th>top</th>\n",
       "      <td>201006XP26465</td>\n",
       "      <td>A</td>\n",
       "      <td>NaN</td>\n",
       "      <td>Unclassified</td>\n",
       "      <td>NaN</td>\n",
       "      <td>Slight</td>\n",
       "      <td>None</td>\n",
       "      <td>12-11-2010</td>\n",
       "      <td>Friday</td>\n",
       "      <td>NaN</td>\n",
       "      <td>...</td>\n",
       "      <td>None</td>\n",
       "      <td>No tow/articulation</td>\n",
       "      <td>Did not leave carriageway</td>\n",
       "      <td>NaN</td>\n",
       "      <td>Going ahead other</td>\n",
       "      <td>NaN</td>\n",
       "      <td>Car</td>\n",
       "      <td>No</td>\n",
       "      <td>Front</td>\n",
       "      <td>NaN</td>\n",
       "    </tr>\n",
       "    <tr>\n",
       "      <th>freq</th>\n",
       "      <td>9</td>\n",
       "      <td>12508</td>\n",
       "      <td>NaN</td>\n",
       "      <td>9895</td>\n",
       "      <td>NaN</td>\n",
       "      <td>17775</td>\n",
       "      <td>25443</td>\n",
       "      <td>82</td>\n",
       "      <td>4340</td>\n",
       "      <td>NaN</td>\n",
       "      <td>...</td>\n",
       "      <td>19441</td>\n",
       "      <td>25751</td>\n",
       "      <td>20362</td>\n",
       "      <td>NaN</td>\n",
       "      <td>12552</td>\n",
       "      <td>NaN</td>\n",
       "      <td>19621</td>\n",
       "      <td>25975</td>\n",
       "      <td>14638</td>\n",
       "      <td>NaN</td>\n",
       "    </tr>\n",
       "    <tr>\n",
       "      <th>mean</th>\n",
       "      <td>NaN</td>\n",
       "      <td>NaN</td>\n",
       "      <td>982.875812</td>\n",
       "      <td>NaN</td>\n",
       "      <td>435.147058</td>\n",
       "      <td>NaN</td>\n",
       "      <td>NaN</td>\n",
       "      <td>NaN</td>\n",
       "      <td>NaN</td>\n",
       "      <td>1.093843</td>\n",
       "      <td>...</td>\n",
       "      <td>NaN</td>\n",
       "      <td>NaN</td>\n",
       "      <td>NaN</td>\n",
       "      <td>0.077497</td>\n",
       "      <td>NaN</td>\n",
       "      <td>1.441021</td>\n",
       "      <td>NaN</td>\n",
       "      <td>NaN</td>\n",
       "      <td>NaN</td>\n",
       "      <td>2014.482405</td>\n",
       "    </tr>\n",
       "    <tr>\n",
       "      <th>std</th>\n",
       "      <td>NaN</td>\n",
       "      <td>NaN</td>\n",
       "      <td>1789.917052</td>\n",
       "      <td>NaN</td>\n",
       "      <td>1446.424444</td>\n",
       "      <td>NaN</td>\n",
       "      <td>NaN</td>\n",
       "      <td>NaN</td>\n",
       "      <td>NaN</td>\n",
       "      <td>0.295545</td>\n",
       "      <td>...</td>\n",
       "      <td>NaN</td>\n",
       "      <td>NaN</td>\n",
       "      <td>NaN</td>\n",
       "      <td>0.749432</td>\n",
       "      <td>NaN</td>\n",
       "      <td>0.719022</td>\n",
       "      <td>NaN</td>\n",
       "      <td>NaN</td>\n",
       "      <td>NaN</td>\n",
       "      <td>4.929699</td>\n",
       "    </tr>\n",
       "    <tr>\n",
       "      <th>min</th>\n",
       "      <td>NaN</td>\n",
       "      <td>NaN</td>\n",
       "      <td>0.000000</td>\n",
       "      <td>NaN</td>\n",
       "      <td>0.000000</td>\n",
       "      <td>NaN</td>\n",
       "      <td>NaN</td>\n",
       "      <td>NaN</td>\n",
       "      <td>NaN</td>\n",
       "      <td>1.000000</td>\n",
       "      <td>...</td>\n",
       "      <td>NaN</td>\n",
       "      <td>NaN</td>\n",
       "      <td>NaN</td>\n",
       "      <td>0.000000</td>\n",
       "      <td>NaN</td>\n",
       "      <td>1.000000</td>\n",
       "      <td>NaN</td>\n",
       "      <td>NaN</td>\n",
       "      <td>NaN</td>\n",
       "      <td>2010.000000</td>\n",
       "    </tr>\n",
       "    <tr>\n",
       "      <th>25%</th>\n",
       "      <td>NaN</td>\n",
       "      <td>NaN</td>\n",
       "      <td>4.000000</td>\n",
       "      <td>NaN</td>\n",
       "      <td>0.000000</td>\n",
       "      <td>NaN</td>\n",
       "      <td>NaN</td>\n",
       "      <td>NaN</td>\n",
       "      <td>NaN</td>\n",
       "      <td>1.000000</td>\n",
       "      <td>...</td>\n",
       "      <td>NaN</td>\n",
       "      <td>NaN</td>\n",
       "      <td>NaN</td>\n",
       "      <td>0.000000</td>\n",
       "      <td>NaN</td>\n",
       "      <td>1.000000</td>\n",
       "      <td>NaN</td>\n",
       "      <td>NaN</td>\n",
       "      <td>NaN</td>\n",
       "      <td>2010.000000</td>\n",
       "    </tr>\n",
       "    <tr>\n",
       "      <th>50%</th>\n",
       "      <td>NaN</td>\n",
       "      <td>NaN</td>\n",
       "      <td>158.000000</td>\n",
       "      <td>NaN</td>\n",
       "      <td>0.000000</td>\n",
       "      <td>NaN</td>\n",
       "      <td>NaN</td>\n",
       "      <td>NaN</td>\n",
       "      <td>NaN</td>\n",
       "      <td>1.000000</td>\n",
       "      <td>...</td>\n",
       "      <td>NaN</td>\n",
       "      <td>NaN</td>\n",
       "      <td>NaN</td>\n",
       "      <td>0.000000</td>\n",
       "      <td>NaN</td>\n",
       "      <td>1.000000</td>\n",
       "      <td>NaN</td>\n",
       "      <td>NaN</td>\n",
       "      <td>NaN</td>\n",
       "      <td>2010.000000</td>\n",
       "    </tr>\n",
       "    <tr>\n",
       "      <th>75%</th>\n",
       "      <td>NaN</td>\n",
       "      <td>NaN</td>\n",
       "      <td>684.000000</td>\n",
       "      <td>NaN</td>\n",
       "      <td>0.000000</td>\n",
       "      <td>NaN</td>\n",
       "      <td>NaN</td>\n",
       "      <td>NaN</td>\n",
       "      <td>NaN</td>\n",
       "      <td>1.000000</td>\n",
       "      <td>...</td>\n",
       "      <td>NaN</td>\n",
       "      <td>NaN</td>\n",
       "      <td>NaN</td>\n",
       "      <td>0.000000</td>\n",
       "      <td>NaN</td>\n",
       "      <td>2.000000</td>\n",
       "      <td>NaN</td>\n",
       "      <td>NaN</td>\n",
       "      <td>NaN</td>\n",
       "      <td>2020.000000</td>\n",
       "    </tr>\n",
       "    <tr>\n",
       "      <th>max</th>\n",
       "      <td>NaN</td>\n",
       "      <td>NaN</td>\n",
       "      <td>9999.000000</td>\n",
       "      <td>NaN</td>\n",
       "      <td>9999.000000</td>\n",
       "      <td>NaN</td>\n",
       "      <td>NaN</td>\n",
       "      <td>NaN</td>\n",
       "      <td>NaN</td>\n",
       "      <td>3.000000</td>\n",
       "      <td>...</td>\n",
       "      <td>NaN</td>\n",
       "      <td>NaN</td>\n",
       "      <td>NaN</td>\n",
       "      <td>9.000000</td>\n",
       "      <td>NaN</td>\n",
       "      <td>17.000000</td>\n",
       "      <td>NaN</td>\n",
       "      <td>NaN</td>\n",
       "      <td>NaN</td>\n",
       "      <td>2021.000000</td>\n",
       "    </tr>\n",
       "  </tbody>\n",
       "</table>\n",
       "<p>11 rows × 53 columns</p>\n",
       "</div>"
      ],
      "text/plain": [
       "       Accident_Index 1st_Road_Class  1st_Road_Number 2nd_Road_Class  \\\n",
       "count           26001          26001     26001.000000          14582   \n",
       "unique          18837              6              NaN              6   \n",
       "top     201006XP26465              A              NaN   Unclassified   \n",
       "freq                9          12508              NaN           9895   \n",
       "mean              NaN            NaN       982.875812            NaN   \n",
       "std               NaN            NaN      1789.917052            NaN   \n",
       "min               NaN            NaN         0.000000            NaN   \n",
       "25%               NaN            NaN         4.000000            NaN   \n",
       "50%               NaN            NaN       158.000000            NaN   \n",
       "75%               NaN            NaN       684.000000            NaN   \n",
       "max               NaN            NaN      9999.000000            NaN   \n",
       "\n",
       "        2nd_Road_Number Accident_Severity Carriageway_Hazards        Date  \\\n",
       "count      25711.000000             26001               26001       26001   \n",
       "unique              NaN                 3                   6        1460   \n",
       "top                 NaN            Slight                None  12-11-2010   \n",
       "freq                NaN             17775               25443          82   \n",
       "mean         435.147058               NaN                 NaN         NaN   \n",
       "std         1446.424444               NaN                 NaN         NaN   \n",
       "min            0.000000               NaN                 NaN         NaN   \n",
       "25%            0.000000               NaN                 NaN         NaN   \n",
       "50%            0.000000               NaN                 NaN         NaN   \n",
       "75%            0.000000               NaN                 NaN         NaN   \n",
       "max         9999.000000               NaN                 NaN         NaN   \n",
       "\n",
       "       Day_of_Week  Did_Police_Officer_Attend_Scene_of_Accident  ...  \\\n",
       "count        26001                                 26001.000000  ...   \n",
       "unique           7                                          NaN  ...   \n",
       "top         Friday                                          NaN  ...   \n",
       "freq          4340                                          NaN  ...   \n",
       "mean           NaN                                     1.093843  ...   \n",
       "std            NaN                                     0.295545  ...   \n",
       "min            NaN                                     1.000000  ...   \n",
       "25%            NaN                                     1.000000  ...   \n",
       "50%            NaN                                     1.000000  ...   \n",
       "75%            NaN                                     1.000000  ...   \n",
       "max            NaN                                     3.000000  ...   \n",
       "\n",
       "       Skidding_and_Overturning Towing_and_Articulation  \\\n",
       "count                     26001                   26001   \n",
       "unique                        6                       6   \n",
       "top                        None     No tow/articulation   \n",
       "freq                      19441                   25751   \n",
       "mean                        NaN                     NaN   \n",
       "std                         NaN                     NaN   \n",
       "min                         NaN                     NaN   \n",
       "25%                         NaN                     NaN   \n",
       "50%                         NaN                     NaN   \n",
       "75%                         NaN                     NaN   \n",
       "max                         NaN                     NaN   \n",
       "\n",
       "        Vehicle_Leaving_Carriageway Vehicle_Location.Restricted_Lane  \\\n",
       "count                         26001                     26001.000000   \n",
       "unique                            9                              NaN   \n",
       "top       Did not leave carriageway                              NaN   \n",
       "freq                          20362                              NaN   \n",
       "mean                            NaN                         0.077497   \n",
       "std                             NaN                         0.749432   \n",
       "min                             NaN                         0.000000   \n",
       "25%                             NaN                         0.000000   \n",
       "50%                             NaN                         0.000000   \n",
       "75%                             NaN                         0.000000   \n",
       "max                             NaN                         9.000000   \n",
       "\n",
       "        Vehicle_Manoeuvre  Vehicle_Reference  Vehicle_Type  \\\n",
       "count               26001       26001.000000         26001   \n",
       "unique                 18                NaN            13   \n",
       "top     Going ahead other                NaN           Car   \n",
       "freq                12552                NaN         19621   \n",
       "mean                  NaN           1.441021           NaN   \n",
       "std                   NaN           0.719022           NaN   \n",
       "min                   NaN           1.000000           NaN   \n",
       "25%                   NaN           1.000000           NaN   \n",
       "50%                   NaN           1.000000           NaN   \n",
       "75%                   NaN           2.000000           NaN   \n",
       "max                   NaN          17.000000           NaN   \n",
       "\n",
       "       Was_Vehicle_Left_Hand_Drive  X1st_Point_of_Impact          Year  \n",
       "count                        26001                 26001  26001.000000  \n",
       "unique                           3                     6           NaN  \n",
       "top                             No                 Front           NaN  \n",
       "freq                         25975                 14638           NaN  \n",
       "mean                           NaN                   NaN   2014.482405  \n",
       "std                            NaN                   NaN      4.929699  \n",
       "min                            NaN                   NaN   2010.000000  \n",
       "25%                            NaN                   NaN   2010.000000  \n",
       "50%                            NaN                   NaN   2010.000000  \n",
       "75%                            NaN                   NaN   2020.000000  \n",
       "max                            NaN                   NaN   2021.000000  \n",
       "\n",
       "[11 rows x 53 columns]"
      ]
     },
     "execution_count": 6,
     "metadata": {},
     "output_type": "execute_result"
    }
   ],
   "source": [
    "df.describe(include ='all')"
   ]
  },
  {
   "cell_type": "markdown",
   "id": "7acd396b",
   "metadata": {
    "id": "7acd396b"
   },
   "source": [
    "### DataCleaning"
   ]
  },
  {
   "cell_type": "code",
   "execution_count": 7,
   "id": "3fdfc2f2",
   "metadata": {
    "id": "3fdfc2f2"
   },
   "outputs": [],
   "source": [
    "df = df.drop(['Location_Easting_OSGR', 'Location_Northing_OSGR'], axis=1)"
   ]
  },
  {
   "cell_type": "code",
   "execution_count": 8,
   "id": "c59a2403",
   "metadata": {
    "colab": {
     "base_uri": "https://localhost:8080/"
    },
    "id": "c59a2403",
    "outputId": "9148e0bc-ea83-4e5d-9fde-04d3cc9aeac6",
    "scrolled": true
   },
   "outputs": [
    {
     "data": {
      "text/plain": [
       "(26001, 51)"
      ]
     },
     "execution_count": 8,
     "metadata": {},
     "output_type": "execute_result"
    }
   ],
   "source": [
    "df.shape"
   ]
  },
  {
   "cell_type": "code",
   "execution_count": 9,
   "id": "829b9b55",
   "metadata": {
    "colab": {
     "base_uri": "https://localhost:8080/"
    },
    "id": "829b9b55",
    "outputId": "72b52ce0-a460-4b55-ed9c-5026a09c32f7"
   },
   "outputs": [],
   "source": [
    "#standardize all column names to lowercase, and remove some characters \n",
    "#for ease of use in querying\n",
    "df.columns = map(str.lower, df.columns)\n",
    "df.columns = df.columns.str.replace(\".\", '', regex=False)\n",
    "df.columns = df.columns.str.replace(\"(\", '', regex=False)\n",
    "df.columns = df.columns.str.replace(\")\", '', regex=False)"
   ]
  },
  {
   "cell_type": "code",
   "execution_count": 10,
   "id": "c126eff0",
   "metadata": {
    "id": "c126eff0"
   },
   "outputs": [],
   "source": [
    "#convert date/time to datetime datatype\n",
    "\n",
    "df['date'] = pd.to_datetime((df['date']), format= \"%d-%m-%Y\")"
   ]
  },
  {
   "cell_type": "code",
   "execution_count": 11,
   "id": "3cb3e5cf",
   "metadata": {
    "colab": {
     "base_uri": "https://localhost:8080/"
    },
    "id": "3cb3e5cf",
    "outputId": "140ef201-17ea-4163-e066-68655c44aa37"
   },
   "outputs": [
    {
     "data": {
      "text/plain": [
       "accident_index                                         object\n",
       "1st_road_class                                         object\n",
       "1st_road_number                                         int64\n",
       "2nd_road_class                                         object\n",
       "2nd_road_number                                       float64\n",
       "accident_severity                                      object\n",
       "carriageway_hazards                                    object\n",
       "date                                           datetime64[ns]\n",
       "day_of_week                                            object\n",
       "did_police_officer_attend_scene_of_accident             int64\n",
       "junction_control                                       object\n",
       "junction_detail                                        object\n",
       "latitude                                              float64\n",
       "light_conditions                                       object\n",
       "longitude                                             float64\n",
       "lsoa_of_accident_location                              object\n",
       "number_of_casualties                                    int64\n",
       "number_of_vehicles                                      int64\n",
       "pedestrian_crossing-human_control                       int64\n",
       "pedestrian_crossing-physical_facilities                 int64\n",
       "road_surface_conditions                                object\n",
       "road_type                                              object\n",
       "special_conditions_at_site                             object\n",
       "speed_limit                                             int64\n",
       "time                                                   object\n",
       "urban_or_rural_area                                    object\n",
       "weather_conditions                                     object\n",
       "inscotland                                             object\n",
       "age_band_of_driver                                     object\n",
       "age_of_vehicle                                          int64\n",
       "driver_home_area_type                                  object\n",
       "driver_imd_decile                                     float64\n",
       "engine_capacity_cc                                    float64\n",
       "hit_object_in_carriageway                              object\n",
       "hit_object_off_carriageway                             object\n",
       "journey_purpose_of_driver                              object\n",
       "junction_location                                      object\n",
       "make                                                   object\n",
       "model                                                  object\n",
       "propulsion_code                                        object\n",
       "sex_of_driver                                          object\n",
       "skidding_and_overturning                               object\n",
       "towing_and_articulation                                object\n",
       "vehicle_leaving_carriageway                            object\n",
       "vehicle_locationrestricted_lane                         int64\n",
       "vehicle_manoeuvre                                      object\n",
       "vehicle_reference                                       int64\n",
       "vehicle_type                                           object\n",
       "was_vehicle_left_hand_drive                            object\n",
       "x1st_point_of_impact                                   object\n",
       "year                                                    int64\n",
       "dtype: object"
      ]
     },
     "execution_count": 11,
     "metadata": {},
     "output_type": "execute_result"
    }
   ],
   "source": [
    "df.dtypes"
   ]
  },
  {
   "cell_type": "code",
   "execution_count": 12,
   "id": "8e7da2f3",
   "metadata": {
    "id": "8e7da2f3"
   },
   "outputs": [],
   "source": [
    "#mistyped datatypes\n",
    "df[['did_police_officer_attend_scene_of_accident',\n",
    "    '1st_road_number',\n",
    "    '2nd_road_number',\n",
    "    'pedestrian_crossing-physical_facilities',\n",
    "    'pedestrian_crossing-human_control']]= df[['did_police_officer_attend_scene_of_accident',\n",
    "    '1st_road_number',\n",
    "    '2nd_road_number',\n",
    "    'pedestrian_crossing-physical_facilities',\n",
    "   'pedestrian_crossing-human_control']].astype('object')"
   ]
  },
  {
   "cell_type": "code",
   "execution_count": 13,
   "id": "da8fd451",
   "metadata": {
    "colab": {
     "base_uri": "https://localhost:8080/"
    },
    "id": "da8fd451",
    "outputId": "dad5ecb1-1561-4509-9643-3c79f832814b"
   },
   "outputs": [
    {
     "data": {
      "text/plain": [
       "{datetime64[ns]: ['date'], int64: ['number_of_casualties', 'number_of_vehicles', 'speed_limit', 'age_of_vehicle', 'vehicle_locationrestricted_lane', 'vehicle_reference', 'year'], float64: ['latitude', 'longitude', 'driver_imd_decile', 'engine_capacity_cc'], object: ['accident_index', '1st_road_class', '1st_road_number', '2nd_road_class', '2nd_road_number', 'accident_severity', 'carriageway_hazards', 'day_of_week', 'did_police_officer_attend_scene_of_accident', 'junction_control', 'junction_detail', 'light_conditions', 'lsoa_of_accident_location', 'pedestrian_crossing-human_control', 'pedestrian_crossing-physical_facilities', 'road_surface_conditions', 'road_type', 'special_conditions_at_site', 'time', 'urban_or_rural_area', 'weather_conditions', 'inscotland', 'age_band_of_driver', 'driver_home_area_type', 'hit_object_in_carriageway', 'hit_object_off_carriageway', 'journey_purpose_of_driver', 'junction_location', 'make', 'model', 'propulsion_code', 'sex_of_driver', 'skidding_and_overturning', 'towing_and_articulation', 'vehicle_leaving_carriageway', 'vehicle_manoeuvre', 'vehicle_type', 'was_vehicle_left_hand_drive', 'x1st_point_of_impact']}"
      ]
     },
     "execution_count": 13,
     "metadata": {},
     "output_type": "execute_result"
    }
   ],
   "source": [
    "df.columns.to_series().groupby(df.dtypes).groups"
   ]
  },
  {
   "cell_type": "code",
   "execution_count": 14,
   "id": "67d84973",
   "metadata": {
    "colab": {
     "base_uri": "https://localhost:8080/"
    },
    "id": "67d84973",
    "outputId": "2e387934-5e96-44d4-8c09-a1fba9b6face"
   },
   "outputs": [
    {
     "data": {
      "text/plain": [
       "2nd_road_class                                 43.917542\n",
       "make                                           21.295335\n",
       "driver_imd_decile                              12.172609\n",
       "model                                           7.949694\n",
       "lsoa_of_accident_location                       1.896081\n",
       "2nd_road_number                                 1.115342\n",
       "engine_capacity_cc                              0.507673\n",
       "accident_index                                  0.000000\n",
       "age_of_vehicle                                  0.000000\n",
       "driver_home_area_type                           0.000000\n",
       "hit_object_in_carriageway                       0.000000\n",
       "hit_object_off_carriageway                      0.000000\n",
       "journey_purpose_of_driver                       0.000000\n",
       "junction_location                               0.000000\n",
       "sex_of_driver                                   0.000000\n",
       "propulsion_code                                 0.000000\n",
       "inscotland                                      0.000000\n",
       "skidding_and_overturning                        0.000000\n",
       "towing_and_articulation                         0.000000\n",
       "vehicle_leaving_carriageway                     0.000000\n",
       "vehicle_locationrestricted_lane                 0.000000\n",
       "vehicle_manoeuvre                               0.000000\n",
       "vehicle_reference                               0.000000\n",
       "vehicle_type                                    0.000000\n",
       "was_vehicle_left_hand_drive                     0.000000\n",
       "x1st_point_of_impact                            0.000000\n",
       "age_band_of_driver                              0.000000\n",
       "urban_or_rural_area                             0.000000\n",
       "weather_conditions                              0.000000\n",
       "light_conditions                                0.000000\n",
       "1st_road_number                                 0.000000\n",
       "accident_severity                               0.000000\n",
       "carriageway_hazards                             0.000000\n",
       "date                                            0.000000\n",
       "day_of_week                                     0.000000\n",
       "did_police_officer_attend_scene_of_accident     0.000000\n",
       "junction_control                                0.000000\n",
       "junction_detail                                 0.000000\n",
       "latitude                                        0.000000\n",
       "longitude                                       0.000000\n",
       "1st_road_class                                  0.000000\n",
       "number_of_casualties                            0.000000\n",
       "number_of_vehicles                              0.000000\n",
       "pedestrian_crossing-human_control               0.000000\n",
       "pedestrian_crossing-physical_facilities         0.000000\n",
       "road_surface_conditions                         0.000000\n",
       "road_type                                       0.000000\n",
       "special_conditions_at_site                      0.000000\n",
       "speed_limit                                     0.000000\n",
       "time                                            0.000000\n",
       "year                                            0.000000\n",
       "dtype: float64"
      ]
     },
     "execution_count": 14,
     "metadata": {},
     "output_type": "execute_result"
    }
   ],
   "source": [
    "df.isnull().sum().sort_values(ascending=False)/df.shape[0]*100"
   ]
  },
  {
   "cell_type": "code",
   "execution_count": 15,
   "id": "4202a928",
   "metadata": {
    "colab": {
     "base_uri": "https://localhost:8080/"
    },
    "id": "4202a928",
    "outputId": "1a90ea0b-d3cb-404b-c3e2-ca12485640ae"
   },
   "outputs": [
    {
     "data": {
      "text/plain": [
       "Unclassified    38.056229\n",
       "A                8.465059\n",
       "C                5.230568\n",
       "B                3.711396\n",
       "Motorway         0.569209\n",
       "A(M)             0.049998\n",
       "Name: 2nd_road_class, dtype: float64"
      ]
     },
     "execution_count": 15,
     "metadata": {},
     "output_type": "execute_result"
    }
   ],
   "source": [
    "df['2nd_road_class'].value_counts()/df.shape[0]*100"
   ]
  },
  {
   "cell_type": "code",
   "execution_count": 16,
   "id": "34a03e5d",
   "metadata": {
    "id": "34a03e5d"
   },
   "outputs": [],
   "source": [
    "#df = df.drop(['2nd_road_class'], axis=1)"
   ]
  },
  {
   "cell_type": "code",
   "execution_count": 17,
   "id": "20ca0542",
   "metadata": {
    "id": "20ca0542"
   },
   "outputs": [],
   "source": [
    "df['driver_imd_decile'].fillna(method='ffill', inplace=True)"
   ]
  },
  {
   "cell_type": "code",
   "execution_count": 18,
   "id": "b6dd6c8e",
   "metadata": {
    "colab": {
     "base_uri": "https://localhost:8080/"
    },
    "id": "b6dd6c8e",
    "outputId": "44f7d405-e86f-4c59-8d0a-e5d0bc9afbd8"
   },
   "outputs": [
    {
     "data": {
      "text/plain": [
       "count    26001.000000\n",
       "mean         7.701204\n",
       "std          4.465731\n",
       "min          1.000000\n",
       "25%          4.000000\n",
       "50%          7.000000\n",
       "75%         10.000000\n",
       "max         58.000000\n",
       "Name: age_of_vehicle, dtype: float64"
      ]
     },
     "execution_count": 18,
     "metadata": {},
     "output_type": "execute_result"
    }
   ],
   "source": [
    "df['age_of_vehicle'].describe()"
   ]
  },
  {
   "cell_type": "code",
   "execution_count": 19,
   "id": "aec980c0",
   "metadata": {
    "colab": {
     "base_uri": "https://localhost:8080/"
    },
    "id": "aec980c0",
    "outputId": "a846e6f9-bd02-4ede-d5e0-686a498ec858"
   },
   "outputs": [
    {
     "data": {
      "text/plain": [
       "7.0"
      ]
     },
     "execution_count": 19,
     "metadata": {},
     "output_type": "execute_result"
    }
   ],
   "source": [
    "df['age_of_vehicle'].median()"
   ]
  },
  {
   "cell_type": "code",
   "execution_count": 20,
   "id": "81498b15",
   "metadata": {
    "id": "81498b15"
   },
   "outputs": [],
   "source": [
    "df['age_of_vehicle'].fillna(7, inplace=True)\n",
    "\n",
    "def fixedvehicleage(age):\n",
    "    if age>=0 and age<=120:\n",
    "        return age\n",
    "    else:\n",
    "        return np.nan\n",
    "\n",
    "df['age_of_vehicle'] = df['age_of_vehicle'].apply(fixedvehicleage)\n",
    "\n",
    "df['age_of_vehicle'] = pd.cut(df['age_of_vehicle'], [0,2,5,8,11,14,17,120], labels=['1', '2', '3','4','5','6','7'])"
   ]
  },
  {
   "cell_type": "code",
   "execution_count": 21,
   "id": "7c7529b1",
   "metadata": {
    "colab": {
     "base_uri": "https://localhost:8080/"
    },
    "id": "7c7529b1",
    "outputId": "68d3c1d9-d992-4b99-f5ea-ceaa1a12fe00"
   },
   "outputs": [
    {
     "data": {
      "text/plain": [
       "KA                    1.449944\n",
       "CLIO DYNAMIQUE 16V    1.134572\n",
       "KA 2                  0.680743\n",
       "PUNTO 1.2             0.646129\n",
       "SAXO VTR              0.634591\n",
       "                        ...   \n",
       "121 GSI 16V           0.003846\n",
       "C5 HDI LX AUTO        0.003846\n",
       "330I SE AUTO          0.003846\n",
       "106 EXTRA TIME        0.003846\n",
       "A4 SE TDI 6SP         0.003846\n",
       "Name: model, Length: 5119, dtype: float64"
      ]
     },
     "execution_count": 21,
     "metadata": {},
     "output_type": "execute_result"
    }
   ],
   "source": [
    "df['model'].value_counts()/df.shape[0]*100"
   ]
  },
  {
   "cell_type": "code",
   "execution_count": 22,
   "id": "6938937a",
   "metadata": {
    "colab": {
     "base_uri": "https://localhost:8080/"
    },
    "id": "6938937a",
    "outputId": "d210b657-8dc3-43d5-bc05-e9cba7bf7a26"
   },
   "outputs": [
    {
     "data": {
      "text/plain": [
       "count     23934\n",
       "unique     5119\n",
       "top          KA\n",
       "freq        377\n",
       "Name: model, dtype: object"
      ]
     },
     "execution_count": 22,
     "metadata": {},
     "output_type": "execute_result"
    }
   ],
   "source": [
    "df['model'].describe()"
   ]
  },
  {
   "cell_type": "code",
   "execution_count": 23,
   "id": "37d6d54d",
   "metadata": {
    "id": "37d6d54d"
   },
   "outputs": [],
   "source": [
    "df['model'].fillna(method='ffill', inplace=True)"
   ]
  },
  {
   "cell_type": "code",
   "execution_count": 24,
   "id": "bede496d",
   "metadata": {
    "id": "bede496d"
   },
   "outputs": [],
   "source": [
    "#engine_capacity_cc\n",
    "#df['engine_capacity_cc'].describe()\n"
   ]
  },
  {
   "cell_type": "code",
   "execution_count": 25,
   "id": "15d2863a",
   "metadata": {
    "id": "15d2863a"
   },
   "outputs": [],
   "source": [
    "#quantiles and the interquartile range (IQR).\n",
    "#q75, q25 = np.percentile(df['engine_capacity_cc'].dropna(), [75 ,25])\n",
    "#iqr = q75 - q25\n",
    " \n",
    "#ecmin = q25 - (iqr*1.5)\n",
    "#ecmax = q75 + (iqr*1.5)\n",
    "\n",
    "#print(ecmax)\n",
    "#print(ecmin)"
   ]
  },
  {
   "cell_type": "code",
   "execution_count": 26,
   "id": "18937a73",
   "metadata": {
    "id": "18937a73"
   },
   "outputs": [],
   "source": [
    "#df = df[df['engine_capacity_cc']<=ecmax]"
   ]
  },
  {
   "cell_type": "code",
   "execution_count": 27,
   "id": "a74abb08",
   "metadata": {
    "id": "a74abb08"
   },
   "outputs": [],
   "source": [
    "#df = df[df['engine_capacity_cc']>=ecmin]"
   ]
  },
  {
   "cell_type": "code",
   "execution_count": 28,
   "id": "f1f226a0",
   "metadata": {
    "id": "f1f226a0"
   },
   "outputs": [],
   "source": [
    "#df['engine_capacity_cc'].describe()"
   ]
  },
  {
   "cell_type": "code",
   "execution_count": 29,
   "id": "c1da6de0",
   "metadata": {
    "id": "c1da6de0"
   },
   "outputs": [],
   "source": [
    "#df['engine_capacity_cc'].mean()\n"
   ]
  },
  {
   "cell_type": "code",
   "execution_count": 30,
   "id": "36f11a02",
   "metadata": {
    "id": "36f11a02"
   },
   "outputs": [],
   "source": [
    "#df['engine_capacity_cc'].fillna(1652, inplace=True)\n"
   ]
  },
  {
   "cell_type": "code",
   "execution_count": 31,
   "id": "435a57c8",
   "metadata": {
    "colab": {
     "base_uri": "https://localhost:8080/"
    },
    "id": "435a57c8",
    "outputId": "46579208-c95d-426f-89b3-16be83e5f4d4"
   },
   "outputs": [
    {
     "data": {
      "text/plain": [
       "2nd_road_class                                 43.917542\n",
       "make                                           21.295335\n",
       "lsoa_of_accident_location                       1.896081\n",
       "2nd_road_number                                 1.115342\n",
       "engine_capacity_cc                              0.507673\n",
       "accident_index                                  0.000000\n",
       "age_of_vehicle                                  0.000000\n",
       "driver_home_area_type                           0.000000\n",
       "driver_imd_decile                               0.000000\n",
       "hit_object_in_carriageway                       0.000000\n",
       "hit_object_off_carriageway                      0.000000\n",
       "journey_purpose_of_driver                       0.000000\n",
       "junction_location                               0.000000\n",
       "model                                           0.000000\n",
       "sex_of_driver                                   0.000000\n",
       "propulsion_code                                 0.000000\n",
       "inscotland                                      0.000000\n",
       "skidding_and_overturning                        0.000000\n",
       "towing_and_articulation                         0.000000\n",
       "vehicle_leaving_carriageway                     0.000000\n",
       "vehicle_locationrestricted_lane                 0.000000\n",
       "vehicle_manoeuvre                               0.000000\n",
       "vehicle_reference                               0.000000\n",
       "vehicle_type                                    0.000000\n",
       "was_vehicle_left_hand_drive                     0.000000\n",
       "x1st_point_of_impact                            0.000000\n",
       "age_band_of_driver                              0.000000\n",
       "urban_or_rural_area                             0.000000\n",
       "weather_conditions                              0.000000\n",
       "light_conditions                                0.000000\n",
       "1st_road_number                                 0.000000\n",
       "accident_severity                               0.000000\n",
       "carriageway_hazards                             0.000000\n",
       "date                                            0.000000\n",
       "day_of_week                                     0.000000\n",
       "did_police_officer_attend_scene_of_accident     0.000000\n",
       "junction_control                                0.000000\n",
       "junction_detail                                 0.000000\n",
       "latitude                                        0.000000\n",
       "longitude                                       0.000000\n",
       "1st_road_class                                  0.000000\n",
       "number_of_casualties                            0.000000\n",
       "number_of_vehicles                              0.000000\n",
       "pedestrian_crossing-human_control               0.000000\n",
       "pedestrian_crossing-physical_facilities         0.000000\n",
       "road_surface_conditions                         0.000000\n",
       "road_type                                       0.000000\n",
       "special_conditions_at_site                      0.000000\n",
       "speed_limit                                     0.000000\n",
       "time                                            0.000000\n",
       "year                                            0.000000\n",
       "dtype: float64"
      ]
     },
     "execution_count": 31,
     "metadata": {},
     "output_type": "execute_result"
    }
   ],
   "source": [
    "df.isnull().sum().sort_values(ascending=False)/df.shape[0]*100\n"
   ]
  },
  {
   "cell_type": "code",
   "execution_count": 32,
   "id": "22bcf51f",
   "metadata": {
    "id": "22bcf51f"
   },
   "outputs": [],
   "source": [
    "df = df.drop(['lsoa_of_accident_location', '2nd_road_number','make'], axis=1)"
   ]
  },
  {
   "cell_type": "code",
   "execution_count": 33,
   "id": "cc497e1a",
   "metadata": {
    "colab": {
     "base_uri": "https://localhost:8080/"
    },
    "id": "cc497e1a",
    "outputId": "4cd0a8cd-f9c3-4726-a523-1654f84e4620"
   },
   "outputs": [
    {
     "data": {
      "text/plain": [
       "accident_index                                 0.0\n",
       "1st_road_class                                 0.0\n",
       "age_band_of_driver                             0.0\n",
       "age_of_vehicle                                 0.0\n",
       "driver_home_area_type                          0.0\n",
       "driver_imd_decile                              0.0\n",
       "engine_capacity_cc                             0.0\n",
       "hit_object_in_carriageway                      0.0\n",
       "hit_object_off_carriageway                     0.0\n",
       "journey_purpose_of_driver                      0.0\n",
       "junction_location                              0.0\n",
       "model                                          0.0\n",
       "propulsion_code                                0.0\n",
       "sex_of_driver                                  0.0\n",
       "skidding_and_overturning                       0.0\n",
       "towing_and_articulation                        0.0\n",
       "vehicle_leaving_carriageway                    0.0\n",
       "vehicle_locationrestricted_lane                0.0\n",
       "vehicle_manoeuvre                              0.0\n",
       "vehicle_reference                              0.0\n",
       "vehicle_type                                   0.0\n",
       "was_vehicle_left_hand_drive                    0.0\n",
       "x1st_point_of_impact                           0.0\n",
       "inscotland                                     0.0\n",
       "weather_conditions                             0.0\n",
       "urban_or_rural_area                            0.0\n",
       "latitude                                       0.0\n",
       "1st_road_number                                0.0\n",
       "2nd_road_class                                 0.0\n",
       "accident_severity                              0.0\n",
       "carriageway_hazards                            0.0\n",
       "date                                           0.0\n",
       "day_of_week                                    0.0\n",
       "did_police_officer_attend_scene_of_accident    0.0\n",
       "junction_control                               0.0\n",
       "junction_detail                                0.0\n",
       "light_conditions                               0.0\n",
       "time                                           0.0\n",
       "longitude                                      0.0\n",
       "number_of_casualties                           0.0\n",
       "number_of_vehicles                             0.0\n",
       "pedestrian_crossing-human_control              0.0\n",
       "pedestrian_crossing-physical_facilities        0.0\n",
       "road_surface_conditions                        0.0\n",
       "road_type                                      0.0\n",
       "special_conditions_at_site                     0.0\n",
       "speed_limit                                    0.0\n",
       "year                                           0.0\n",
       "dtype: float64"
      ]
     },
     "execution_count": 33,
     "metadata": {},
     "output_type": "execute_result"
    }
   ],
   "source": [
    "df.dropna(inplace=True)\n",
    "\n",
    "#last check\n",
    "df.isnull().sum().sort_values(ascending=False)/df.shape[0]*100"
   ]
  },
  {
   "cell_type": "code",
   "execution_count": 34,
   "id": "4446a453",
   "metadata": {
    "colab": {
     "base_uri": "https://localhost:8080/"
    },
    "id": "4446a453",
    "outputId": "4d93baec-6b80-461d-8fdd-c67e79528946"
   },
   "outputs": [
    {
     "data": {
      "text/plain": [
       "(14507, 48)"
      ]
     },
     "execution_count": 34,
     "metadata": {},
     "output_type": "execute_result"
    }
   ],
   "source": [
    "df.shape"
   ]
  },
  {
   "cell_type": "code",
   "execution_count": 35,
   "id": "c62de49a",
   "metadata": {
    "colab": {
     "base_uri": "https://localhost:8080/"
    },
    "id": "c62de49a",
    "outputId": "67c3ab32-ac5b-48c7-cdb8-1eff494718cc"
   },
   "outputs": [
    {
     "name": "stdout",
     "output_type": "stream",
     "text": [
      "<class 'pandas.core.frame.DataFrame'>\n",
      "Int64Index: 14507 entries, 5 to 25999\n",
      "Data columns (total 48 columns):\n",
      " #   Column                                       Non-Null Count  Dtype         \n",
      "---  ------                                       --------------  -----         \n",
      " 0   accident_index                               14507 non-null  object        \n",
      " 1   1st_road_class                               14507 non-null  object        \n",
      " 2   1st_road_number                              14507 non-null  object        \n",
      " 3   2nd_road_class                               14507 non-null  object        \n",
      " 4   accident_severity                            14507 non-null  object        \n",
      " 5   carriageway_hazards                          14507 non-null  object        \n",
      " 6   date                                         14507 non-null  datetime64[ns]\n",
      " 7   day_of_week                                  14507 non-null  object        \n",
      " 8   did_police_officer_attend_scene_of_accident  14507 non-null  object        \n",
      " 9   junction_control                             14507 non-null  object        \n",
      " 10  junction_detail                              14507 non-null  object        \n",
      " 11  latitude                                     14507 non-null  float64       \n",
      " 12  light_conditions                             14507 non-null  object        \n",
      " 13  longitude                                    14507 non-null  float64       \n",
      " 14  number_of_casualties                         14507 non-null  int64         \n",
      " 15  number_of_vehicles                           14507 non-null  int64         \n",
      " 16  pedestrian_crossing-human_control            14507 non-null  object        \n",
      " 17  pedestrian_crossing-physical_facilities      14507 non-null  object        \n",
      " 18  road_surface_conditions                      14507 non-null  object        \n",
      " 19  road_type                                    14507 non-null  object        \n",
      " 20  special_conditions_at_site                   14507 non-null  object        \n",
      " 21  speed_limit                                  14507 non-null  int64         \n",
      " 22  time                                         14507 non-null  object        \n",
      " 23  urban_or_rural_area                          14507 non-null  object        \n",
      " 24  weather_conditions                           14507 non-null  object        \n",
      " 25  inscotland                                   14507 non-null  object        \n",
      " 26  age_band_of_driver                           14507 non-null  object        \n",
      " 27  age_of_vehicle                               14507 non-null  category      \n",
      " 28  driver_home_area_type                        14507 non-null  object        \n",
      " 29  driver_imd_decile                            14507 non-null  float64       \n",
      " 30  engine_capacity_cc                           14507 non-null  float64       \n",
      " 31  hit_object_in_carriageway                    14507 non-null  object        \n",
      " 32  hit_object_off_carriageway                   14507 non-null  object        \n",
      " 33  journey_purpose_of_driver                    14507 non-null  object        \n",
      " 34  junction_location                            14507 non-null  object        \n",
      " 35  model                                        14507 non-null  object        \n",
      " 36  propulsion_code                              14507 non-null  object        \n",
      " 37  sex_of_driver                                14507 non-null  object        \n",
      " 38  skidding_and_overturning                     14507 non-null  object        \n",
      " 39  towing_and_articulation                      14507 non-null  object        \n",
      " 40  vehicle_leaving_carriageway                  14507 non-null  object        \n",
      " 41  vehicle_locationrestricted_lane              14507 non-null  int64         \n",
      " 42  vehicle_manoeuvre                            14507 non-null  object        \n",
      " 43  vehicle_reference                            14507 non-null  int64         \n",
      " 44  vehicle_type                                 14507 non-null  object        \n",
      " 45  was_vehicle_left_hand_drive                  14507 non-null  object        \n",
      " 46  x1st_point_of_impact                         14507 non-null  object        \n",
      " 47  year                                         14507 non-null  int64         \n",
      "dtypes: category(1), datetime64[ns](1), float64(4), int64(6), object(36)\n",
      "memory usage: 5.3+ MB\n"
     ]
    }
   ],
   "source": [
    "df.info()"
   ]
  },
  {
   "cell_type": "code",
   "execution_count": 36,
   "id": "67e42452",
   "metadata": {
    "id": "67e42452"
   },
   "outputs": [],
   "source": [
    "df_num = df[['number_of_casualties','number_of_vehicles','speed_limit']]\n"
   ]
  },
  {
   "cell_type": "code",
   "execution_count": 37,
   "id": "b4c36bfc",
   "metadata": {
    "colab": {
     "base_uri": "https://localhost:8080/",
     "height": 699
    },
    "id": "b4c36bfc",
    "outputId": "433a6a15-85b1-45b5-cd57-d78da0cf5009"
   },
   "outputs": [
    {
     "data": {
      "image/png": "[encoded data removed]",
      "text/plain": [
       "<Figure size 864x576 with 4 Axes>"
      ]
     },
     "metadata": {
      "needs_background": "light"
     },
     "output_type": "display_data"
    }
   ],
   "source": [
    "df_num.hist( bins=25, grid=False, figsize=(12,8))\n",
    "plt.style.use('dark_background')\n"
   ]
  },
  {
   "cell_type": "code",
   "execution_count": 38,
   "id": "4697bdd3",
   "metadata": {
    "colab": {
     "base_uri": "https://localhost:8080/"
    },
    "id": "4697bdd3",
    "outputId": "8da2875f-5ba8-4d63-d542-29530f404ce8"
   },
   "outputs": [
    {
     "data": {
      "text/plain": [
       "1     9866\n",
       "2     3015\n",
       "3     1022\n",
       "4      377\n",
       "5      134\n",
       "6       62\n",
       "7       17\n",
       "8        5\n",
       "9        3\n",
       "11       2\n",
       "10       2\n",
       "29       1\n",
       "18       1\n",
       "Name: number_of_casualties, dtype: int64"
      ]
     },
     "execution_count": 38,
     "metadata": {},
     "output_type": "execute_result"
    }
   ],
   "source": [
    "df['number_of_casualties'].value_counts()\n"
   ]
  },
  {
   "cell_type": "code",
   "execution_count": 39,
   "id": "fd9820cd",
   "metadata": {
    "id": "fd9820cd"
   },
   "outputs": [],
   "source": [
    "def casualities(num_cas):\n",
    "    if num_cas >=1 and num_cas <2:\n",
    "        return \"1\"\n",
    "    elif num_cas >=2 and num_cas <3:\n",
    "        return \"2\"\n",
    "    elif num_cas >=3 and num_cas <4:\n",
    "        return \"3\"\n",
    "    elif num_cas >= 4 and num_cas <5:\n",
    "        return \"4\"\n",
    "    elif num_cas >= 5:\n",
    "        return \"5+\"\n",
    "    \n",
    "df['number_of_casualties']= df['number_of_casualties'].apply(casualities)"
   ]
  },
  {
   "cell_type": "code",
   "execution_count": 40,
   "id": "892bd395",
   "metadata": {
    "colab": {
     "base_uri": "https://localhost:8080/"
    },
    "id": "892bd395",
    "outputId": "d520a5dc-76c2-4177-959b-4d82a70d78bd"
   },
   "outputs": [
    {
     "data": {
      "text/plain": [
       "1     9866\n",
       "2     3015\n",
       "3     1022\n",
       "4      377\n",
       "5+     227\n",
       "Name: number_of_casualties, dtype: int64"
      ]
     },
     "execution_count": 40,
     "metadata": {},
     "output_type": "execute_result"
    }
   ],
   "source": [
    "df['number_of_casualties'].value_counts()\n"
   ]
  },
  {
   "cell_type": "code",
   "execution_count": 41,
   "id": "aa6ab024",
   "metadata": {
    "colab": {
     "base_uri": "https://localhost:8080/"
    },
    "id": "aa6ab024",
    "outputId": "9b49e33b-60f0-4151-9e0d-d66a226fbc6e"
   },
   "outputs": [
    {
     "data": {
      "text/plain": [
       "Petrol              81.353829\n",
       "Heavy oil           18.473840\n",
       "Gas/Bi-fuel          0.068932\n",
       "Hybrid electric      0.055146\n",
       "Petrol/Gas (LPG)     0.041359\n",
       "Gas                  0.006893\n",
       "Name: propulsion_code, dtype: float64"
      ]
     },
     "execution_count": 41,
     "metadata": {},
     "output_type": "execute_result"
    }
   ],
   "source": [
    "df['propulsion_code'].value_counts()/df.shape[0]*100"
   ]
  },
  {
   "cell_type": "code",
   "execution_count": 42,
   "id": "319ac94e",
   "metadata": {
    "id": "319ac94e"
   },
   "outputs": [],
   "source": [
    "df['propulsion_code'] = df['propulsion_code'].replace(to_replace=\"Gas\", value=\"Petrol\")\n",
    "df['propulsion_code'] = df['propulsion_code'].replace(to_replace=\"Gas/Bi-fuel\", value=\"Bio-fuel\")\n",
    "df['propulsion_code'] = df['propulsion_code'].replace(to_replace=\"Petrol/Gas (LPG)\", value=\"LPG Petrol\")\n",
    "df['propulsion_code'] = df['propulsion_code'].replace(to_replace=\"Gas Diesel\", value=\"Diesel\")"
   ]
  },
  {
   "cell_type": "code",
   "execution_count": 43,
   "id": "470e0562",
   "metadata": {
    "colab": {
     "base_uri": "https://localhost:8080/"
    },
    "id": "470e0562",
    "outputId": "9b3699bb-d87a-42f7-cd48-3ca527561bc3"
   },
   "outputs": [
    {
     "data": {
      "text/plain": [
       "Petrol             81.360722\n",
       "Heavy oil          18.473840\n",
       "Bio-fuel            0.068932\n",
       "Hybrid electric     0.055146\n",
       "LPG Petrol          0.041359\n",
       "Name: propulsion_code, dtype: float64"
      ]
     },
     "execution_count": 43,
     "metadata": {},
     "output_type": "execute_result"
    }
   ],
   "source": [
    "df['propulsion_code'].value_counts()/df.shape[0]*100\n"
   ]
  },
  {
   "cell_type": "code",
   "execution_count": 44,
   "id": "e42c8827",
   "metadata": {
    "colab": {
     "base_uri": "https://localhost:8080/"
    },
    "id": "e42c8827",
    "outputId": "b54851b7-8139-460f-e1f2-21ba8fe6f8cc"
   },
   "outputs": [
    {
     "data": {
      "text/plain": [
       "longitude                                      12845\n",
       "latitude                                       12836\n",
       "accident_index                                 10412\n",
       "model                                           3689\n",
       "1st_road_number                                 1642\n",
       "date                                            1450\n",
       "time                                            1285\n",
       "engine_capacity_cc                               541\n",
       "vehicle_manoeuvre                                 18\n",
       "vehicle_type                                      13\n",
       "hit_object_in_carriageway                         12\n",
       "hit_object_off_carriageway                        10\n",
       "driver_imd_decile                                 10\n",
       "vehicle_leaving_carriageway                        9\n",
       "junction_location                                  9\n",
       "age_band_of_driver                                 9\n",
       "weather_conditions                                 9\n",
       "number_of_vehicles                                 9\n",
       "junction_detail                                    8\n",
       "special_conditions_at_site                         8\n",
       "vehicle_locationrestricted_lane                    8\n",
       "vehicle_reference                                  7\n",
       "age_of_vehicle                                     7\n",
       "day_of_week                                        7\n",
       "speed_limit                                        7\n",
       "1st_road_class                                     6\n",
       "2nd_road_class                                     6\n",
       "carriageway_hazards                                6\n",
       "towing_and_articulation                            6\n",
       "road_type                                          6\n",
       "road_surface_conditions                            6\n",
       "journey_purpose_of_driver                          6\n",
       "skidding_and_overturning                           6\n",
       "pedestrian_crossing-physical_facilities            6\n",
       "propulsion_code                                    5\n",
       "x1st_point_of_impact                               5\n",
       "junction_control                                   5\n",
       "number_of_casualties                               5\n",
       "light_conditions                                   4\n",
       "driver_home_area_type                              4\n",
       "year                                               4\n",
       "did_police_officer_attend_scene_of_accident        3\n",
       "accident_severity                                  3\n",
       "was_vehicle_left_hand_drive                        3\n",
       "pedestrian_crossing-human_control                  3\n",
       "sex_of_driver                                      2\n",
       "inscotland                                         2\n",
       "urban_or_rural_area                                2\n",
       "dtype: int64"
      ]
     },
     "execution_count": 44,
     "metadata": {},
     "output_type": "execute_result"
    }
   ],
   "source": [
    "df.nunique().sort_values(ascending=False)"
   ]
  },
  {
   "cell_type": "code",
   "execution_count": 45,
   "id": "31dc2f35",
   "metadata": {
    "id": "31dc2f35"
   },
   "outputs": [],
   "source": [
    "df['date'] = pd.to_datetime(df['date'])"
   ]
  },
  {
   "cell_type": "code",
   "execution_count": 46,
   "id": "b2251426",
   "metadata": {
    "id": "b2251426"
   },
   "outputs": [],
   "source": [
    "df['month'] = df ['date'].apply(lambda time: time.month)\n"
   ]
  },
  {
   "cell_type": "code",
   "execution_count": 47,
   "id": "3357e96e",
   "metadata": {
    "id": "3357e96e"
   },
   "outputs": [],
   "source": [
    "#creating a weekend feature that includes Friday-Sunday\n",
    "df['weekend']= np.where(df['day_of_week'].isin(['Friday', 'Saturday', 'Sunday']), 1, 0)\n"
   ]
  },
  {
   "cell_type": "code",
   "execution_count": 48,
   "id": "1f1d4dcb",
   "metadata": {
    "id": "1f1d4dcb"
   },
   "outputs": [],
   "source": [
    "timeofdaygroups = {1: \"Morning Rush (6-10)\",\n",
    "                   2: \"Day (10-12)\",\n",
    "                   3: \"Lunch Rush (12-14)\",\n",
    "                   4: \"Afternoon (14-16)\",\n",
    "                   5: \"After Work Rush (16-18)\",\n",
    "                   6: \"Evening (18-22)\",\n",
    "                   7: \"Night (22-6)\"}"
   ]
  },
  {
   "cell_type": "code",
   "execution_count": 49,
   "id": "26d1bde8",
   "metadata": {
    "id": "26d1bde8"
   },
   "outputs": [],
   "source": [
    "df['hour'] = df['time'].str[0:2]  \n",
    "df['hour'] =  pd.to_numeric(df['hour'])\n",
    "df['hour'] = df['hour'].astype('int')"
   ]
  },
  {
   "cell_type": "code",
   "execution_count": 50,
   "id": "1d2283af",
   "metadata": {
    "id": "1d2283af"
   },
   "outputs": [],
   "source": [
    "def daygroup(hour):\n",
    "    if hour >= 6 and hour < 10:\n",
    "        return \"1\"\n",
    "    elif hour >= 10 and hour < 12:\n",
    "        return \"2\"\n",
    "    elif hour >= 12 and hour < 14:\n",
    "        return \"3\"\n",
    "    elif hour >= 14 and hour < 16:\n",
    "        return \"4\"\n",
    "    elif hour >= 16 and hour < 18:\n",
    "        return \"5\"\n",
    "    elif hour >= 18 and hour < 22:\n",
    "        return \"6\"\n",
    "    else:\n",
    "        return \"7\"\n",
    "    \n",
    "df['time_of_day']= df['hour'].apply(daygroup)   "
   ]
  },
  {
   "cell_type": "code",
   "execution_count": 51,
   "id": "b3ec329f",
   "metadata": {
    "colab": {
     "base_uri": "https://localhost:8080/",
     "height": 363
    },
    "id": "b3ec329f",
    "outputId": "d7df951b-e2f9-4dcc-8643-2df951d974f3"
   },
   "outputs": [
    {
     "data": {
      "text/html": [
       "<div>\n",
       "<style scoped>\n",
       "    .dataframe tbody tr th:only-of-type {\n",
       "        vertical-align: middle;\n",
       "    }\n",
       "\n",
       "    .dataframe tbody tr th {\n",
       "        vertical-align: top;\n",
       "    }\n",
       "\n",
       "    .dataframe thead th {\n",
       "        text-align: right;\n",
       "    }\n",
       "</style>\n",
       "<table border=\"1\" class=\"dataframe\">\n",
       "  <thead>\n",
       "    <tr style=\"text-align: right;\">\n",
       "      <th></th>\n",
       "      <th>weekend</th>\n",
       "      <th>day_of_week</th>\n",
       "      <th>time</th>\n",
       "      <th>time_of_day</th>\n",
       "    </tr>\n",
       "  </thead>\n",
       "  <tbody>\n",
       "    <tr>\n",
       "      <th>25990</th>\n",
       "      <td>0</td>\n",
       "      <td>Monday</td>\n",
       "      <td>17:05:00</td>\n",
       "      <td>5</td>\n",
       "    </tr>\n",
       "    <tr>\n",
       "      <th>25991</th>\n",
       "      <td>1</td>\n",
       "      <td>Saturday</td>\n",
       "      <td>13:00:00</td>\n",
       "      <td>3</td>\n",
       "    </tr>\n",
       "    <tr>\n",
       "      <th>25992</th>\n",
       "      <td>1</td>\n",
       "      <td>Friday</td>\n",
       "      <td>18:15:00</td>\n",
       "      <td>6</td>\n",
       "    </tr>\n",
       "    <tr>\n",
       "      <th>25993</th>\n",
       "      <td>0</td>\n",
       "      <td>Monday</td>\n",
       "      <td>14:59:00</td>\n",
       "      <td>4</td>\n",
       "    </tr>\n",
       "    <tr>\n",
       "      <th>25994</th>\n",
       "      <td>0</td>\n",
       "      <td>Monday</td>\n",
       "      <td>15:00:00</td>\n",
       "      <td>4</td>\n",
       "    </tr>\n",
       "    <tr>\n",
       "      <th>25995</th>\n",
       "      <td>0</td>\n",
       "      <td>Monday</td>\n",
       "      <td>16:45:00</td>\n",
       "      <td>5</td>\n",
       "    </tr>\n",
       "    <tr>\n",
       "      <th>25996</th>\n",
       "      <td>1</td>\n",
       "      <td>Friday</td>\n",
       "      <td>18:50:00</td>\n",
       "      <td>6</td>\n",
       "    </tr>\n",
       "    <tr>\n",
       "      <th>25997</th>\n",
       "      <td>1</td>\n",
       "      <td>Friday</td>\n",
       "      <td>13:30:00</td>\n",
       "      <td>3</td>\n",
       "    </tr>\n",
       "    <tr>\n",
       "      <th>25998</th>\n",
       "      <td>0</td>\n",
       "      <td>Tuesday</td>\n",
       "      <td>17:50:00</td>\n",
       "      <td>5</td>\n",
       "    </tr>\n",
       "    <tr>\n",
       "      <th>25999</th>\n",
       "      <td>0</td>\n",
       "      <td>Monday</td>\n",
       "      <td>08:25:00</td>\n",
       "      <td>1</td>\n",
       "    </tr>\n",
       "  </tbody>\n",
       "</table>\n",
       "</div>"
      ],
      "text/plain": [
       "       weekend day_of_week      time time_of_day\n",
       "25990        0      Monday  17:05:00           5\n",
       "25991        1    Saturday  13:00:00           3\n",
       "25992        1      Friday  18:15:00           6\n",
       "25993        0      Monday  14:59:00           4\n",
       "25994        0      Monday  15:00:00           4\n",
       "25995        0      Monday  16:45:00           5\n",
       "25996        1      Friday  18:50:00           6\n",
       "25997        1      Friday  13:30:00           3\n",
       "25998        0     Tuesday  17:50:00           5\n",
       "25999        0      Monday  08:25:00           1"
      ]
     },
     "execution_count": 51,
     "metadata": {},
     "output_type": "execute_result"
    }
   ],
   "source": [
    "df[['weekend','day_of_week','time', 'time_of_day']].tail(10)"
   ]
  },
  {
   "cell_type": "code",
   "execution_count": 52,
   "id": "636f521a",
   "metadata": {
    "colab": {
     "base_uri": "https://localhost:8080/"
    },
    "id": "636f521a",
    "outputId": "acf2d949-cbca-49d7-9525-acd4ca69ddb1"
   },
   "outputs": [
    {
     "data": {
      "text/plain": [
       "(14507, 52)"
      ]
     },
     "execution_count": 52,
     "metadata": {},
     "output_type": "execute_result"
    }
   ],
   "source": [
    "df.shape"
   ]
  },
  {
   "cell_type": "code",
   "execution_count": 53,
   "id": "e59ec38d",
   "metadata": {
    "colab": {
     "base_uri": "https://localhost:8080/"
    },
    "id": "e59ec38d",
    "outputId": "ef84cecc-8c6f-422d-9def-b584220726be"
   },
   "outputs": [
    {
     "data": {
      "text/plain": [
       "Car                                      74.122837\n",
       "Motorcycle 125cc and under                7.975460\n",
       "Motorcycle 50cc and under                 5.238850\n",
       "Motorcycle over 500cc                     4.549528\n",
       "Van / Goods 3.5 tonnes mgw or under       3.281175\n",
       "Motorcycle over 125cc and up to 500cc     2.095540\n",
       "Bus or coach (17 or more pass seats)      0.889226\n",
       "Goods 7.5 tonnes mgw and over             0.772041\n",
       "Taxi/Private hire car                     0.689322\n",
       "Goods over 3.5t. and under 7.5t           0.172331\n",
       "Other vehicle                             0.117185\n",
       "Minibus (8 - 16 passenger seats)          0.062039\n",
       "Agricultural vehicle                      0.034466\n",
       "Name: vehicle_type, dtype: float64"
      ]
     },
     "execution_count": 53,
     "metadata": {},
     "output_type": "execute_result"
    }
   ],
   "source": [
    "df['vehicle_type'].value_counts()/df.shape[0]*100"
   ]
  },
  {
   "cell_type": "code",
   "execution_count": 54,
   "id": "d3a8f646",
   "metadata": {
    "id": "d3a8f646"
   },
   "outputs": [],
   "source": [
    "\n",
    "df['vehicle_type'] = df['vehicle_type'].replace(to_replace=\"Motorcycle over 500cc\", value=\"Motorcycle\")\n",
    "df['vehicle_type'] = df['vehicle_type'].replace(to_replace= \"Motorcycle over 125cc and up to 500cc\",value=\"Motorcycle\")\n",
    "df['vehicle_type'] = df['vehicle_type'].replace(to_replace=\"Motorcycle 125cc and under\", value=\"Motorcycle\")\n",
    "df['vehicle_type'] = df['vehicle_type'].replace(to_replace=\"Motorcycle 50cc and under\", value=\"Motorcycle\")\n",
    "df['vehicle_type'] = df['vehicle_type'].replace(to_replace=\"Motorcycle - unknown cc\", value=\"Motorcycle\")\n",
    "\n",
    "df['vehicle_type'] = df['vehicle_type'].replace(to_replace=\"Van / Goods 3.5 tonnes mgw or under\", value=\"Goods Vehicle\")\n",
    "df['vehicle_type'] = df['vehicle_type'].replace(to_replace=\"Goods over 3.5t. and under 7.5t\", value=\"Goods Vehicle\")\n",
    "df['vehicle_type'] = df['vehicle_type'].replace(to_replace=\"Goods 7.5 tonnes mgw and over\", value=\"Goods Vehicle\")\n",
    "\n",
    "df['vehicle_type'] = df['vehicle_type'].replace(to_replace=\"Taxi/Private hire car\", value=\"Car\")\n",
    "\n",
    "df['vehicle_type'] = df['vehicle_type'].replace(to_replace=\"Minibus (8 - 16 passenger seats)\", value=\"Bus\")\n",
    "df['vehicle_type'] = df['vehicle_type'].replace(to_replace=\"Bus or coach (17 or more pass seats)\",value=\"Bus\")\n",
    "df['vehicle_type'] = df['vehicle_type'].replace(to_replace=\"Agricultural vehicle\", value=\"Other Vehicle\")\n",
    "df['vehicle_type'] = df['vehicle_type'].replace(to_replace=\"Other vehicle\", value=\"Other Vehicle\")"
   ]
  },
  {
   "cell_type": "code",
   "execution_count": 55,
   "id": "f0cac2f4",
   "metadata": {
    "colab": {
     "base_uri": "https://localhost:8080/"
    },
    "id": "f0cac2f4",
    "outputId": "a05eb47e-1bf0-4f65-8fd7-44cb7281e79c"
   },
   "outputs": [
    {
     "data": {
      "text/plain": [
       "Car              74.812160\n",
       "Motorcycle       19.859378\n",
       "Goods Vehicle     4.225546\n",
       "Bus               0.951265\n",
       "Other Vehicle     0.151651\n",
       "Name: vehicle_type, dtype: float64"
      ]
     },
     "execution_count": 55,
     "metadata": {},
     "output_type": "execute_result"
    }
   ],
   "source": [
    "df['vehicle_type'].value_counts()/df.shape[0]*100"
   ]
  },
  {
   "cell_type": "code",
   "execution_count": 56,
   "id": "25b3dc32",
   "metadata": {
    "colab": {
     "base_uri": "https://localhost:8080/"
    },
    "id": "25b3dc32",
    "outputId": "b6172ac9-af32-4471-c9b3-514f1825a3ef"
   },
   "outputs": [
    {
     "data": {
      "text/plain": [
       "16 - 20                         53.787827\n",
       "21 - 25                         34.728062\n",
       "46 - 55                          4.990694\n",
       "26 - 35                          4.687392\n",
       "36 - 45                          1.413111\n",
       "56 - 65                          0.172331\n",
       "Over 75                          0.103398\n",
       "66 - 75                          0.103398\n",
       "Data missing or out of range     0.013786\n",
       "Name: age_band_of_driver, dtype: float64"
      ]
     },
     "execution_count": 56,
     "metadata": {},
     "output_type": "execute_result"
    }
   ],
   "source": [
    "df['age_band_of_driver'].value_counts()/df.shape[0]*100\n"
   ]
  },
  {
   "cell_type": "code",
   "execution_count": 57,
   "id": "06fc17a7",
   "metadata": {
    "id": "06fc17a7"
   },
   "outputs": [],
   "source": [
    "df['age_band_of_driver']=df['age_band_of_driver'].replace(\"Over 75\",\"75-100\")"
   ]
  },
  {
   "cell_type": "code",
   "execution_count": 58,
   "id": "f97d70c1",
   "metadata": {
    "id": "f97d70c1"
   },
   "outputs": [],
   "source": [
    "#df.drop(df[df['age_band_of_driver'] == 'Data missing or out of range'].index, inplace=True)\n",
    "df['age_band_of_driver']=df['age_band_of_driver'].replace(\"Data missing or out of range\",\"11 - 15\")"
   ]
  },
  {
   "cell_type": "code",
   "execution_count": 59,
   "id": "118ff9ae",
   "metadata": {
    "id": "118ff9ae"
   },
   "outputs": [],
   "source": [
    "df.drop(df[df['age_band_of_driver'] == 'Nov-15'].index, inplace=True)"
   ]
  },
  {
   "cell_type": "code",
   "execution_count": 60,
   "id": "d0081a22",
   "metadata": {
    "id": "d0081a22"
   },
   "outputs": [],
   "source": [
    "df.drop(df[df['age_band_of_driver'] == '06-Oct'].index, inplace=True)"
   ]
  },
  {
   "cell_type": "code",
   "execution_count": 61,
   "id": "111d9906",
   "metadata": {
    "colab": {
     "base_uri": "https://localhost:8080/"
    },
    "id": "111d9906",
    "outputId": "62b1384c-96ec-460f-911a-0e0a6037919e"
   },
   "outputs": [
    {
     "data": {
      "text/plain": [
       "16 - 20    53.787827\n",
       "21 - 25    34.728062\n",
       "46 - 55     4.990694\n",
       "26 - 35     4.687392\n",
       "36 - 45     1.413111\n",
       "56 - 65     0.172331\n",
       "75-100      0.103398\n",
       "66 - 75     0.103398\n",
       "11 - 15     0.013786\n",
       "Name: age_band_of_driver, dtype: float64"
      ]
     },
     "execution_count": 61,
     "metadata": {},
     "output_type": "execute_result"
    }
   ],
   "source": [
    "df['age_band_of_driver'].value_counts()/df.shape[0]*100"
   ]
  },
  {
   "cell_type": "code",
   "execution_count": 62,
   "id": "6130b32e",
   "metadata": {
    "id": "6130b32e"
   },
   "outputs": [],
   "source": [
    "age1 = [\"0 - 5\", \"6 - 10\", \"11 - 15\"]\n",
    "age2 = [\"16 - 20\",\"21 - 25\"]\n",
    "age3 = [\"26 - 35\",\"36 - 45\"]\n",
    "age4 = [\"46 - 55\", \"56 - 65\"]\n",
    "age5 = [\"66 - 75\", \"75-100\"]"
   ]
  },
  {
   "cell_type": "code",
   "execution_count": 63,
   "id": "5a74c0cb",
   "metadata": {
    "id": "5a74c0cb"
   },
   "outputs": [],
   "source": [
    "for (row, col) in df.iterrows():\n",
    "\n",
    "    if str.lower(col.age_band_of_driver) in age1:\n",
    "        df['age_band_of_driver'].replace(to_replace=col.age_band_of_driver, value='Under 16', inplace=True)\n",
    "\n",
    "    if str.lower(col.age_band_of_driver) in age2:\n",
    "        df['age_band_of_driver'].replace(to_replace=col.age_band_of_driver, value='16-25', inplace=True)\n",
    "    \n",
    "    if str.lower(col.age_band_of_driver) in age3:\n",
    "        df['age_band_of_driver'].replace(to_replace=col.age_band_of_driver, value='26-45', inplace=True)\n",
    "    if str.lower(col.age_band_of_driver) in age4:\n",
    "        df['age_band_of_driver'].replace(to_replace=col.age_band_of_driver, value='46-65', inplace=True)\n",
    "    if str.lower(col.age_band_of_driver) in age5:\n",
    "        df['age_band_of_driver'].replace(to_replace=col.age_band_of_driver, value='Over 65', inplace=True)"
   ]
  },
  {
   "cell_type": "code",
   "execution_count": 64,
   "id": "54e5c33d",
   "metadata": {
    "colab": {
     "base_uri": "https://localhost:8080/"
    },
    "id": "54e5c33d",
    "outputId": "572b5dd4-0568-4492-fbc0-2eb99062ca4c"
   },
   "outputs": [
    {
     "name": "stdout",
     "output_type": "stream",
     "text": [
      "Distinct responses for age_band_of_driver:\n",
      " {'Over 65', '26-45', '46-65', 'Under 16', '16-25'}\n"
     ]
    }
   ],
   "source": [
    "print(\"Distinct responses for age_band_of_driver:\\n\", set(df['age_band_of_driver']))"
   ]
  },
  {
   "cell_type": "code",
   "execution_count": 65,
   "id": "79265b80",
   "metadata": {
    "colab": {
     "base_uri": "https://localhost:8080/"
    },
    "id": "79265b80",
    "outputId": "19870c45-cf55-4335-bb4f-1deb05a61e2f"
   },
   "outputs": [
    {
     "data": {
      "text/plain": [
       "(14507, 52)"
      ]
     },
     "execution_count": 65,
     "metadata": {},
     "output_type": "execute_result"
    }
   ],
   "source": [
    "df.shape"
   ]
  },
  {
   "cell_type": "code",
   "execution_count": 66,
   "id": "373a6228",
   "metadata": {
    "colab": {
     "base_uri": "https://localhost:8080/"
    },
    "id": "373a6228",
    "outputId": "b18d29b6-2a65-45c3-fe35-051d66a16da3"
   },
   "outputs": [
    {
     "data": {
      "text/plain": [
       "2     71.524092\n",
       "1     15.254705\n",
       "3     10.753429\n",
       "4      1.785345\n",
       "5      0.358448\n",
       "6      0.255049\n",
       "7      0.048253\n",
       "8      0.013786\n",
       "11     0.006893\n",
       "Name: number_of_vehicles, dtype: float64"
      ]
     },
     "execution_count": 66,
     "metadata": {},
     "output_type": "execute_result"
    }
   ],
   "source": [
    "df['number_of_vehicles'].value_counts()/df.shape[0]*100"
   ]
  },
  {
   "cell_type": "code",
   "execution_count": 67,
   "id": "9918a03d",
   "metadata": {
    "id": "9918a03d"
   },
   "outputs": [],
   "source": [
    "def vehicles(num_veh):\n",
    "    if num_veh >=1 and num_veh <2:\n",
    "        return \"1\"\n",
    "    elif num_veh >=2 and num_veh <3:\n",
    "        return \"2\"\n",
    "    elif num_veh >=3 and num_veh <4:\n",
    "        return \"3\"\n",
    "    elif num_veh >= 4: \n",
    "        return \"4+\"\n",
    "  \n",
    "\n",
    "df['number_of_vehicles']= df['number_of_vehicles'].apply(vehicles)"
   ]
  },
  {
   "cell_type": "code",
   "execution_count": 68,
   "id": "1dbe0abb",
   "metadata": {
    "colab": {
     "base_uri": "https://localhost:8080/"
    },
    "id": "1dbe0abb",
    "outputId": "f1df1303-a06f-4107-d236-3dc5d772273e"
   },
   "outputs": [
    {
     "data": {
      "text/plain": [
       "2     71.524092\n",
       "1     15.254705\n",
       "3     10.753429\n",
       "4+     2.467774\n",
       "Name: number_of_vehicles, dtype: float64"
      ]
     },
     "execution_count": 68,
     "metadata": {},
     "output_type": "execute_result"
    }
   ],
   "source": [
    "df['number_of_vehicles'].value_counts()/df.shape[0]*100"
   ]
  },
  {
   "cell_type": "code",
   "execution_count": 69,
   "id": "c840078e",
   "metadata": {
    "colab": {
     "base_uri": "https://localhost:8080/"
    },
    "id": "c840078e",
    "outputId": "f0877f3c-7cd4-42c1-edd4-868647b37681"
   },
   "outputs": [
    {
     "data": {
      "text/plain": [
       "dtype('O')"
      ]
     },
     "execution_count": 69,
     "metadata": {},
     "output_type": "execute_result"
    }
   ],
   "source": [
    "df['number_of_vehicles'].dtypes"
   ]
  },
  {
   "cell_type": "code",
   "execution_count": 70,
   "id": "6eb66f9f",
   "metadata": {
    "id": "6eb66f9f"
   },
   "outputs": [],
   "source": [
    "df['number_of_vehicles']=df['number_of_vehicles'].astype('object')"
   ]
  },
  {
   "cell_type": "code",
   "execution_count": 71,
   "id": "fee04de8",
   "metadata": {
    "id": "fee04de8"
   },
   "outputs": [],
   "source": [
    "def getSeason(month):\n",
    "    if (month == 2 or month == 12 or month == 1):\n",
    "       return \"Winter\"\n",
    "    elif(month == 6 or month == 7 or month ==8 or month == 9):\n",
    "       return \"Rainy\"\n",
    "    elif(month == 3 or month== 4 or month == 5):\n",
    "       return \"Summer\"\n",
    "    else:\n",
    "       return \"Autumn\"\n",
    "\n",
    "df['season'] = df['month'].apply(getSeason)"
   ]
  },
  {
   "cell_type": "code",
   "execution_count": 72,
   "id": "428e96d9",
   "metadata": {
    "colab": {
     "base_uri": "https://localhost:8080/"
    },
    "id": "428e96d9",
    "outputId": "2f844e74-db16-423a-fb9d-88b9879a310f"
   },
   "outputs": [
    {
     "data": {
      "text/plain": [
       "Rainy     33.680292\n",
       "Summer    25.429103\n",
       "Winter    22.575308\n",
       "Autumn    18.315296\n",
       "Name: season, dtype: float64"
      ]
     },
     "execution_count": 72,
     "metadata": {},
     "output_type": "execute_result"
    }
   ],
   "source": [
    "df['season'].value_counts()/df.shape[0]*100"
   ]
  },
  {
   "cell_type": "code",
   "execution_count": 73,
   "id": "fb96487e",
   "metadata": {
    "id": "fb96487e"
   },
   "outputs": [],
   "source": [
    "def enginecap(eng_cc):\n",
    "    if eng_cc <=1500:\n",
    "        return \"small engine cc\"\n",
    "    if eng_cc >1500 and eng_cc <=2000:\n",
    "        return \"medium engine cc\"\n",
    "    if eng_cc >2000:\n",
    "        return \"large engine cc\"\n",
    "\n",
    "\n",
    "df['engine_capacity_cc_size'] = df['engine_capacity_cc'].apply(enginecap)"
   ]
  },
  {
   "cell_type": "code",
   "execution_count": 74,
   "id": "434430a7",
   "metadata": {
    "colab": {
     "base_uri": "https://localhost:8080/"
    },
    "id": "434430a7",
    "outputId": "740c7a4f-6d95-40b8-c1f8-3ca0d60a299f",
    "scrolled": true
   },
   "outputs": [
    {
     "data": {
      "text/plain": [
       "Slight     74.736334\n",
       "Serious    20.038602\n",
       "Fatal       5.225064\n",
       "Name: accident_severity, dtype: float64"
      ]
     },
     "execution_count": 74,
     "metadata": {},
     "output_type": "execute_result"
    }
   ],
   "source": [
    "df['accident_severity'].value_counts()/df.shape[0]*100"
   ]
  },
  {
   "cell_type": "code",
   "execution_count": 75,
   "id": "c29ebbc5",
   "metadata": {
    "colab": {
     "base_uri": "https://localhost:8080/"
    },
    "id": "c29ebbc5",
    "outputId": "2c8bd14f-bef4-41fb-b0df-c66648014ff8"
   },
   "outputs": [
    {
     "data": {
      "text/plain": [
       "small engine cc     9280\n",
       "medium engine cc    4002\n",
       "large engine cc     1225\n",
       "Name: engine_capacity_cc_size, dtype: int64"
      ]
     },
     "execution_count": 75,
     "metadata": {},
     "output_type": "execute_result"
    }
   ],
   "source": [
    "df.engine_capacity_cc_size.value_counts()"
   ]
  },
  {
   "cell_type": "code",
   "execution_count": 76,
   "id": "846b9e58",
   "metadata": {
    "colab": {
     "base_uri": "https://localhost:8080/"
    },
    "id": "846b9e58",
    "outputId": "df431d0f-b6f4-4f4b-cf37-3bc44de79c53"
   },
   "outputs": [
    {
     "data": {
      "text/plain": [
       "(14507, 55)"
      ]
     },
     "execution_count": 76,
     "metadata": {},
     "output_type": "execute_result"
    }
   ],
   "source": [
    "df['accident_seriousness'] = df['accident_severity']\n",
    "df['accident_seriousness'] = df['accident_seriousness'].replace(to_replace=\"Slight\",value=\"Not Serious\")\n",
    "df['accident_seriousness'] = df['accident_seriousness'].replace(to_replace=\"Serious\",value=\"Serious\")\n",
    "df['accident_seriousness'] = df['accident_seriousness'].replace(to_replace=\"Fatal\",value=\"Fatal\")\n",
    "df.shape"
   ]
  },
  {
   "cell_type": "code",
   "execution_count": 77,
   "id": "022e5b51",
   "metadata": {
    "colab": {
     "base_uri": "https://localhost:8080/"
    },
    "id": "022e5b51",
    "outputId": "56b87110-8ce7-4d71-9772-0dbfa9cdd5ca"
   },
   "outputs": [
    {
     "data": {
      "text/plain": [
       "Not Serious    74.736334\n",
       "Serious        20.038602\n",
       "Fatal           5.225064\n",
       "Name: accident_seriousness, dtype: float64"
      ]
     },
     "execution_count": 77,
     "metadata": {},
     "output_type": "execute_result"
    }
   ],
   "source": [
    "df['accident_seriousness'].value_counts()/df.shape[0]*100"
   ]
  },
  {
   "cell_type": "code",
   "execution_count": 78,
   "id": "2c1e86e6",
   "metadata": {
    "colab": {
     "base_uri": "https://localhost:8080/"
    },
    "id": "2c1e86e6",
    "outputId": "70d5288a-18f2-4338-82d9-19b876b14486"
   },
   "outputs": [
    {
     "data": {
      "text/plain": [
       "Not Serious    10842\n",
       "Serious         2907\n",
       "Fatal            758\n",
       "Name: accident_seriousness, dtype: int64"
      ]
     },
     "execution_count": 78,
     "metadata": {},
     "output_type": "execute_result"
    }
   ],
   "source": [
    "df.accident_seriousness.value_counts()"
   ]
  },
  {
   "cell_type": "markdown",
   "id": "588406b2",
   "metadata": {
    "id": "588406b2"
   },
   "source": [
    "## v"
   ]
  },
  {
   "cell_type": "code",
   "execution_count": 79,
   "id": "75fea62d",
   "metadata": {
    "id": "75fea62d"
   },
   "outputs": [
    {
     "data": {
      "image/png": "[encoded data removed]",
      "text/plain": [
       "<Figure size 2000x1000 with 1 Axes>"
      ]
     },
     "metadata": {},
     "output_type": "display_data"
    }
   ],
   "source": [
    "accidentspermonth = df.groupby(['month'])['accident_index'].count()\n",
    "\n",
    "# prepare plot\n",
    "plt.style.use('default')\n",
    "plt.figure(figsize=(20,10))\n",
    "colors = sns.color_palette(\"plasma_r\", n_colors=12)\n",
    "mt=sns.barplot(x=accidentspermonth.index, y=accidentspermonth.values, palette=colors)\n",
    "sns.despine(top=True, right=True, left=True, bottom=True)\n",
    "#ax is the axes instance\n",
    "group_labels = ['Jan', 'Feb','Mar','Apr','May','June','July','Aug','Sept','Oct','Nov','Dec' ]\n",
    "\n",
    "mt.set_xticklabels(group_labels)\n",
    "plt.title(\"Accidents Per Month\",fontsize=20,fontweight=\"bold\")\n",
    "plt.xticks(fontsize=18)\n",
    "plt.yticks(fontsize=12)\n",
    "plt.xlabel(\"\\nMonth\", fontsize=15, fontweight=\"bold\")\n",
    "plt.ylabel(\"\\nNumber of Accidents\", fontsize=15, fontweight=\"bold\")\n",
    "plt.savefig('acc_month.png')\n",
    "plt.tight_layout()\n"
   ]
  },
  {
   "cell_type": "code",
   "execution_count": 80,
   "id": "fc4c5d23",
   "metadata": {},
   "outputs": [
    {
     "data": {
      "image/png": "[encoded data removed]",
      "text/plain": [
       "<Figure size 1500x1000 with 2 Axes>"
      ]
     },
     "metadata": {},
     "output_type": "display_data"
    }
   ],
   "source": [
    "weekdays = ['Monday', 'Tuesday','Wednesday','Thursday', 'Friday', 'Saturday', 'Sunday']\n",
    "accweekday = df.groupby(['year', 'day_of_week']).size()\n",
    "accweekday = accweekday.rename_axis(['year', 'day_of_week'])\\\n",
    "                                    .unstack('day_of_week')\\\n",
    "                                    .reindex(columns=weekdays)\n",
    "plt.figure(figsize=(15,10))\n",
    "plt.style.use('dark_background')\n",
    "sns.heatmap(accweekday, cmap='plasma_r')\n",
    "\n",
    "plt.title('\\nAccidents by Weekday per Year\\n', fontsize=14, fontweight='bold')\n",
    "plt.xticks(fontsize=15)\n",
    "plt.yticks(fontsize=12)\n",
    "plt.xlabel('')\n",
    "plt.ylabel('')\n",
    "plt.savefig('acc_week_vs_year.png')"
   ]
  },
  {
   "cell_type": "code",
   "execution_count": 81,
   "id": "1d01931c",
   "metadata": {},
   "outputs": [
    {
     "data": {
      "image/png": "[encoded data removed]",
      "text/plain": [
       "<Figure size 1500x1000 with 1 Axes>"
      ]
     },
     "metadata": {},
     "output_type": "display_data"
    }
   ],
   "source": [
    "accidentsperseason = df.groupby(['season'])['accident_index'].count()\n",
    "seaord=['Winter', 'Summer', 'Rainy','Autumn']\n",
    "# prepare plot\n",
    "plt.style.use('default')\n",
    "plt.figure(figsize=(15,10))\n",
    "\n",
    "sns.barplot(x=accidentsperseason.index, y=accidentsperseason.values, order=seaord, saturation=1, palette='magma_r')\n",
    "sns.despine(top=True, right=True, left=True, bottom=True)\n",
    "plt.title(\"Accidents Per Season\",fontsize=20,fontweight=\"bold\")\n",
    "plt.xticks(fontsize=15)\n",
    "plt.yticks(fontsize=12)\n",
    "plt.xlabel(\"\\nSeason\", fontsize=15, fontweight=\"bold\")\n",
    "plt.ylabel(\"Number of Accidents\", fontsize=15, fontweight=\"bold\")\n",
    "plt.tight_layout()\n",
    "plt.savefig('acc_season.png')\n"
   ]
  },
  {
   "cell_type": "code",
   "execution_count": 82,
   "id": "727af77d",
   "metadata": {
    "id": "727af77d"
   },
   "outputs": [],
   "source": [
    "timeofdaygroups = {'1': \"Morning Rush\",\n",
    "                   '2': \"Day\",\n",
    "                   '3': \"Lunch Rush\",\n",
    "                   '4': \"Afternoon\",\n",
    "                   '5': \"After Work Rush\",\n",
    "                   '6': \"Evening\",\n",
    "                   '7': \"Night\"}\n",
    "df['time_of_day']=df['time_of_day'].map(timeofdaygroups)"
   ]
  },
  {
   "cell_type": "code",
   "execution_count": 83,
   "id": "602de417",
   "metadata": {
    "colab": {
     "base_uri": "https://localhost:8080/"
    },
    "id": "602de417",
    "outputId": "de9ae8e5-a121-4811-de7b-a1834e6ed04a"
   },
   "outputs": [
    {
     "data": {
      "text/plain": [
       "5                    Day\n",
       "10               Evening\n",
       "11                 Night\n",
       "12            Lunch Rush\n",
       "13             Afternoon\n",
       "              ...       \n",
       "25995    After Work Rush\n",
       "25996            Evening\n",
       "25997         Lunch Rush\n",
       "25998    After Work Rush\n",
       "25999       Morning Rush\n",
       "Name: time_of_day, Length: 14507, dtype: object"
      ]
     },
     "execution_count": 83,
     "metadata": {},
     "output_type": "execute_result"
    }
   ],
   "source": [
    "df['time_of_day']"
   ]
  },
  {
   "cell_type": "code",
   "execution_count": 84,
   "id": "6b56aecf",
   "metadata": {
    "id": "6b56aecf"
   },
   "outputs": [
    {
     "data": {
      "image/png": "[encoded data removed]",
      "text/plain": [
       "<Figure size 1500x1000 with 1 Axes>"
      ]
     },
     "metadata": {},
     "output_type": "display_data"
    }
   ],
   "source": [
    "accidentspertod = df.groupby(['time_of_day'])['accident_index'].count()\n",
    "\n",
    "# prepare plot\n",
    "plt.style.use('dark_background')\n",
    "plt.figure(figsize=(15,10))\n",
    "tod=[\"Morning Rush\", \"Day\", \"Lunch Rush\", \"Afternoon\",\n",
    "     \"After Work Rush\", \"Evening\", \"Night\"]\n",
    "sns.barplot(x=accidentspertod.index, y=accidentspertod.values, order=tod, palette='rainbow')\n",
    "sns.despine(top=True, right=True, left=True, bottom=True)\n",
    "plt.title(\"Accidents Per Time of Day\", fontsize=20, fontweight=\"bold\")\n",
    "plt.xticks(fontsize=15)\n",
    "plt.yticks(fontsize=12)\n",
    "plt.xlabel(\"\", fontsize=15, fontweight=\"bold\")\n",
    "plt.ylabel(\"\\nNumber of Accidents\", fontsize=15, fontweight=\"bold\")\n",
    "plt.tight_layout()\n",
    "plt.savefig('acc_russ.png')\n"
   ]
  },
  {
   "cell_type": "code",
   "execution_count": 85,
   "id": "d2af8d58",
   "metadata": {
    "id": "d2af8d58"
   },
   "outputs": [],
   "source": [
    "#print(df['accident_seriousness'])"
   ]
  },
  {
   "cell_type": "markdown",
   "id": "21236cea",
   "metadata": {
    "id": "21236cea"
   },
   "source": [
    "## Chi-Squared Test"
   ]
  },
  {
   "cell_type": "code",
   "execution_count": 86,
   "id": "eb7af829",
   "metadata": {
    "id": "eb7af829"
   },
   "outputs": [],
   "source": [
    "import scipy.stats as stats"
   ]
  },
  {
   "cell_type": "code",
   "execution_count": 87,
   "id": "bc088696",
   "metadata": {
    "colab": {
     "base_uri": "https://localhost:8080/"
    },
    "id": "bc088696",
    "outputId": "4d40ed22-ed9f-4d63-c038-15ec083ddacd"
   },
   "outputs": [
    {
     "name": "stdout",
     "output_type": "stream",
     "text": [
      "The accident_index is IMPORTANT for Prediction\n",
      "The 1st_road_class is IMPORTANT for Prediction\n",
      "The 1st_road_number is IMPORTANT for Prediction\n",
      "The carriageway_hazards is NOT an important predictor. (Discard carriageway_hazards from model)\n",
      "The date is IMPORTANT for Prediction\n",
      "The day_of_week is IMPORTANT for Prediction\n",
      "The did_police_officer_attend_scene_of_accident is IMPORTANT for Prediction\n",
      "The junction_control is IMPORTANT for Prediction\n",
      "The junction_detail is IMPORTANT for Prediction\n",
      "The latitude is IMPORTANT for Prediction\n",
      "The light_conditions is IMPORTANT for Prediction\n",
      "The longitude is IMPORTANT for Prediction\n",
      "The number_of_casualties is IMPORTANT for Prediction\n",
      "The number_of_vehicles is IMPORTANT for Prediction\n",
      "The pedestrian_crossing-human_control is NOT an important predictor. (Discard pedestrian_crossing-human_control from model)\n",
      "The pedestrian_crossing-physical_facilities is IMPORTANT for Prediction\n",
      "The road_surface_conditions is IMPORTANT for Prediction\n",
      "The road_type is IMPORTANT for Prediction\n",
      "The special_conditions_at_site is NOT an important predictor. (Discard special_conditions_at_site from model)\n",
      "The speed_limit is IMPORTANT for Prediction\n",
      "The time is IMPORTANT for Prediction\n",
      "The urban_or_rural_area is IMPORTANT for Prediction\n",
      "The weather_conditions is IMPORTANT for Prediction\n",
      "The year is IMPORTANT for Prediction\n",
      "The inscotland is IMPORTANT for Prediction\n",
      "The age_band_of_driver is IMPORTANT for Prediction\n",
      "The age_of_vehicle is IMPORTANT for Prediction\n",
      "The driver_home_area_type is IMPORTANT for Prediction\n",
      "The driver_imd_decile is IMPORTANT for Prediction\n",
      "The engine_capacity_cc is IMPORTANT for Prediction\n",
      "The hit_object_in_carriageway is IMPORTANT for Prediction\n",
      "The hit_object_off_carriageway is IMPORTANT for Prediction\n",
      "The journey_purpose_of_driver is IMPORTANT for Prediction\n",
      "The junction_location is IMPORTANT for Prediction\n",
      "The model is IMPORTANT for Prediction\n",
      "The propulsion_code is IMPORTANT for Prediction\n",
      "The sex_of_driver is IMPORTANT for Prediction\n",
      "The skidding_and_overturning is IMPORTANT for Prediction\n",
      "The towing_and_articulation is IMPORTANT for Prediction\n",
      "The vehicle_leaving_carriageway is IMPORTANT for Prediction\n",
      "The vehicle_locationrestricted_lane is IMPORTANT for Prediction\n",
      "The vehicle_manoeuvre is IMPORTANT for Prediction\n",
      "The vehicle_reference is IMPORTANT for Prediction\n",
      "The vehicle_type is IMPORTANT for Prediction\n",
      "The was_vehicle_left_hand_drive is IMPORTANT for Prediction\n",
      "The x1st_point_of_impact is IMPORTANT for Prediction\n",
      "The month is IMPORTANT for Prediction\n",
      "The weekend is NOT an important predictor. (Discard weekend from model)\n",
      "The hour is IMPORTANT for Prediction\n",
      "The time_of_day is IMPORTANT for Prediction\n",
      "The season is IMPORTANT for Prediction\n",
      "The engine_capacity_cc_size is IMPORTANT for Prediction\n"
     ]
    }
   ],
   "source": [
    "class ChiSquare:\n",
    "    def __init__(self, dataframe):\n",
    "        self.df = dataframe\n",
    "        self.p = None #P-Value\n",
    "        self.chi2 = None #Chi Test Statistic\n",
    "        self.dof = None\n",
    "        \n",
    "        self.dfObserved = None\n",
    "        self.dfExpected = None\n",
    "        \n",
    "    def _print_chisquare_result(self, colX, alpha):\n",
    "        result = \"\"\n",
    "        if self.p<alpha:\n",
    "            result=\"The {0} is IMPORTANT for Prediction\".format(colX)\n",
    "        else:\n",
    "            result=\"The {0} is NOT an important predictor. (Discard {0} from model)\".format(colX)\n",
    "\n",
    "        print(result)\n",
    "        \n",
    "    def TestIndependence(self,colX,colY, alpha=0.05):\n",
    "        X = self.df[colX].astype(str)\n",
    "        Y = self.df[colY].astype(str)\n",
    "        \n",
    "        self.dfObserved = pd.crosstab(Y,X) \n",
    "        chi2, p, dof, expected = stats.chi2_contingency(self.dfObserved.values)\n",
    "        self.p = p\n",
    "        self.chi2 = chi2\n",
    "        self.dof = dof \n",
    "        \n",
    "        self.dfExpected = pd.DataFrame(expected, columns=self.dfObserved.columns,index = self.dfObserved.index)\n",
    "        \n",
    "        self._print_chisquare_result(colX,alpha)\n",
    "\n",
    "#Initialize ChiSquare Class\n",
    "cT = ChiSquare(df)\n",
    "\n",
    "#Feature Selection\n",
    "testColumns = ['accident_index', '1st_road_class', '1st_road_number', \n",
    "               'carriageway_hazards', 'date', 'day_of_week', \n",
    "               'did_police_officer_attend_scene_of_accident','junction_control', \n",
    "               'junction_detail', 'latitude', 'light_conditions', \n",
    "               'longitude',\n",
    "               'number_of_casualties', 'number_of_vehicles', 'pedestrian_crossing-human_control',\n",
    "               'pedestrian_crossing-physical_facilities','road_surface_conditions', \n",
    "               'road_type', 'special_conditions_at_site', 'speed_limit', 'time', \n",
    "               'urban_or_rural_area', 'weather_conditions', 'year', 'inscotland', \n",
    "               'age_band_of_driver', 'age_of_vehicle', 'driver_home_area_type', \n",
    "               'driver_imd_decile', 'engine_capacity_cc','hit_object_in_carriageway', \n",
    "               'hit_object_off_carriageway', 'journey_purpose_of_driver', 'junction_location', \n",
    "               'model','propulsion_code', 'sex_of_driver', 'skidding_and_overturning',\n",
    "               'towing_and_articulation', 'vehicle_leaving_carriageway',\n",
    "               'vehicle_locationrestricted_lane', 'vehicle_manoeuvre','vehicle_reference',\n",
    "               'vehicle_type', 'was_vehicle_left_hand_drive', 'x1st_point_of_impact', 'month',\n",
    "               'weekend', 'hour', 'time_of_day','season', 'engine_capacity_cc_size']\n",
    "for var in testColumns:\n",
    "    cT.TestIndependence(colX=var,colY=\"accident_seriousness\" )  "
   ]
  },
  {
   "cell_type": "markdown",
   "id": "e5ebd15c",
   "metadata": {
    "id": "e5ebd15c"
   },
   "source": [
    "import pickle\n",
    "df.to_pickle(\"df.pkl\")\n",
    "df = pd.read_pickle(\"df.pkl\")\n",
    "df.head()\n",
    "df.to_csv('clean_accident_data.csv', index=False)     #to cteate new csv file with modify data"
   ]
  },
  {
   "cell_type": "code",
   "execution_count": 88,
   "id": "802672a7",
   "metadata": {
    "colab": {
     "base_uri": "https://localhost:8080/"
    },
    "id": "802672a7",
    "outputId": "91a80750-ef77-4f0d-f233-695424ec24f3"
   },
   "outputs": [
    {
     "data": {
      "text/plain": [
       "Fine no high winds       82.567037\n",
       "Raining no high winds    10.863721\n",
       "Other                     2.605639\n",
       "Fine + high winds         0.923692\n",
       "Unknown                   0.861653\n",
       "Snowing no high winds     0.834080\n",
       "Raining + high winds      0.723789\n",
       "Fog or mist               0.558351\n",
       "Snowing + high winds      0.062039\n",
       "Name: weather_conditions, dtype: float64"
      ]
     },
     "execution_count": 88,
     "metadata": {},
     "output_type": "execute_result"
    }
   ],
   "source": [
    "df['weather_conditions'].value_counts()/df.shape[0]*100\n"
   ]
  },
  {
   "cell_type": "code",
   "execution_count": 89,
   "id": "b34b3706",
   "metadata": {
    "id": "b34b3706"
   },
   "outputs": [],
   "source": [
    "df.drop(df[df['weather_conditions'] == 'Data missing or out of range'].index, inplace=True)"
   ]
  },
  {
   "cell_type": "code",
   "execution_count": 90,
   "id": "a7da1d5b",
   "metadata": {
    "id": "a7da1d5b"
   },
   "outputs": [],
   "source": [
    "df['weather_conditions'] = df['weather_conditions'].replace(to_replace=\"Unknown\",value=\"Fog or mist\")\n",
    "df['weather_conditions'] = df['weather_conditions'].replace(to_replace=\"Other\",value=\"Mud\")"
   ]
  },
  {
   "cell_type": "code",
   "execution_count": 91,
   "id": "882dc8c5",
   "metadata": {
    "colab": {
     "base_uri": "https://localhost:8080/"
    },
    "id": "882dc8c5",
    "outputId": "5f44cb16-2f46-4a74-94c7-8df89a7daf5c"
   },
   "outputs": [
    {
     "data": {
      "text/plain": [
       "Fine no high winds       82.567037\n",
       "Raining no high winds    10.863721\n",
       "Mud                       2.605639\n",
       "Fog or mist               1.420004\n",
       "Fine + high winds         0.923692\n",
       "Snowing no high winds     0.834080\n",
       "Raining + high winds      0.723789\n",
       "Snowing + high winds      0.062039\n",
       "Name: weather_conditions, dtype: float64"
      ]
     },
     "execution_count": 91,
     "metadata": {},
     "output_type": "execute_result"
    }
   ],
   "source": [
    "df['weather_conditions'].value_counts()/df.shape[0]*100"
   ]
  },
  {
   "cell_type": "code",
   "execution_count": 92,
   "id": "b04f1048",
   "metadata": {
    "colab": {
     "base_uri": "https://localhost:8080/"
    },
    "id": "b04f1048",
    "outputId": "09e8eeeb-4303-4422-fbac-53e1b2636f98"
   },
   "outputs": [
    {
     "data": {
      "text/plain": [
       "Male      73.778176\n",
       "Female    26.221824\n",
       "Name: sex_of_driver, dtype: float64"
      ]
     },
     "execution_count": 92,
     "metadata": {},
     "output_type": "execute_result"
    }
   ],
   "source": [
    "df['sex_of_driver'].value_counts()/df.shape[0]*100"
   ]
  },
  {
   "cell_type": "code",
   "execution_count": 93,
   "id": "1de1beba",
   "metadata": {
    "id": "1de1beba"
   },
   "outputs": [],
   "source": [
    "df.drop(df[df['sex_of_driver'] == 'Not known'].index, inplace=True)"
   ]
  },
  {
   "cell_type": "code",
   "execution_count": 94,
   "id": "4491a1ab",
   "metadata": {
    "colab": {
     "base_uri": "https://localhost:8080/"
    },
    "id": "4491a1ab",
    "outputId": "d5ee6604-3389-4c27-8165-9d57722bf04e"
   },
   "outputs": [
    {
     "data": {
      "text/plain": [
       "Daylight                   59.371338\n",
       "Darkness - lights lit      36.265251\n",
       "Darkness - no lighting      3.922244\n",
       "Darkness - lights unlit     0.441166\n",
       "Name: light_conditions, dtype: float64"
      ]
     },
     "execution_count": 94,
     "metadata": {},
     "output_type": "execute_result"
    }
   ],
   "source": [
    "df['light_conditions'].value_counts()/df.shape[0]*100"
   ]
  },
  {
   "cell_type": "code",
   "execution_count": 95,
   "id": "294efb01",
   "metadata": {
    "id": "294efb01"
   },
   "outputs": [],
   "source": [
    "df.drop(df[df['light_conditions'] == 'Darkness - lighting unknown'].index, inplace=True)"
   ]
  },
  {
   "cell_type": "code",
   "execution_count": 96,
   "id": "270e6cd5",
   "metadata": {
    "colab": {
     "base_uri": "https://localhost:8080/"
    },
    "id": "270e6cd5",
    "outputId": "1dbd2af0-4927-402e-c8d5-51d91179ac79"
   },
   "outputs": [
    {
     "data": {
      "text/plain": [
       "Daylight                   59.371338\n",
       "Darkness - lights lit      36.265251\n",
       "Darkness - no lighting      3.922244\n",
       "Darkness - lights unlit     0.441166\n",
       "Name: light_conditions, dtype: float64"
      ]
     },
     "execution_count": 96,
     "metadata": {},
     "output_type": "execute_result"
    }
   ],
   "source": [
    "df['light_conditions'].value_counts()/df.shape[0]*100"
   ]
  },
  {
   "cell_type": "code",
   "execution_count": 97,
   "id": "03557909",
   "metadata": {
    "colab": {
     "base_uri": "https://localhost:8080/"
    },
    "id": "03557909",
    "outputId": "de3a3d8e-9b7c-43a6-e6c3-6c8ba9fc3d05"
   },
   "outputs": [
    {
     "data": {
      "text/plain": [
       "Rainy     33.680292\n",
       "Summer    25.429103\n",
       "Winter    22.575308\n",
       "Autumn    18.315296\n",
       "Name: season, dtype: float64"
      ]
     },
     "execution_count": 97,
     "metadata": {},
     "output_type": "execute_result"
    }
   ],
   "source": [
    "df['season'].value_counts()/df.shape[0]*100"
   ]
  },
  {
   "cell_type": "code",
   "execution_count": 98,
   "id": "48fff667",
   "metadata": {
    "colab": {
     "base_uri": "https://localhost:8080/"
    },
    "id": "48fff667",
    "outputId": "49a21dae-ae7b-4776-aa44-d1b9347441fa"
   },
   "outputs": [
    {
     "data": {
      "text/plain": [
       "Rainy     33.680292\n",
       "Summer    25.429103\n",
       "Winter    22.575308\n",
       "Autumn    18.315296\n",
       "Name: season, dtype: float64"
      ]
     },
     "execution_count": 98,
     "metadata": {},
     "output_type": "execute_result"
    }
   ],
   "source": [
    "df['season'].value_counts()/df.shape[0]*100"
   ]
  },
  {
   "cell_type": "code",
   "execution_count": 99,
   "id": "6ef97630",
   "metadata": {
    "colab": {
     "base_uri": "https://localhost:8080/"
    },
    "id": "6ef97630",
    "outputId": "5f4ff58a-a97f-4ba6-e234-898544d89a35",
    "scrolled": true
   },
   "outputs": [
    {
     "data": {
      "text/plain": [
       "Car              74.812160\n",
       "Motorcycle       19.859378\n",
       "Goods Vehicle     4.225546\n",
       "Bus               0.951265\n",
       "Other Vehicle     0.151651\n",
       "Name: vehicle_type, dtype: float64"
      ]
     },
     "execution_count": 99,
     "metadata": {},
     "output_type": "execute_result"
    }
   ],
   "source": [
    "df['vehicle_type'].value_counts()/df.shape[0]*100"
   ]
  },
  {
   "cell_type": "code",
   "execution_count": 100,
   "id": "9bed0108",
   "metadata": {
    "colab": {
     "base_uri": "https://localhost:8080/"
    },
    "id": "9bed0108",
    "outputId": "351de00e-82b8-436e-bff1-640a0b408e1e"
   },
   "outputs": [
    {
     "data": {
      "text/plain": [
       "Car              74.812160\n",
       "Motorcycle       19.859378\n",
       "Goods Vehicle     4.225546\n",
       "Bus               0.951265\n",
       "Other Vehicle     0.151651\n",
       "Name: vehicle_type, dtype: float64"
      ]
     },
     "execution_count": 100,
     "metadata": {},
     "output_type": "execute_result"
    }
   ],
   "source": [
    "df['vehicle_type'].value_counts()/df.shape[0]*100"
   ]
  },
  {
   "cell_type": "code",
   "execution_count": 101,
   "id": "304827f4",
   "metadata": {
    "colab": {
     "base_uri": "https://localhost:8080/"
    },
    "id": "304827f4",
    "outputId": "8a13da1e-13fd-40c9-ab5d-2f784b9f755a"
   },
   "outputs": [
    {
     "data": {
      "text/plain": [
       "3    24.029779\n",
       "2    22.602881\n",
       "4    21.782588\n",
       "1    13.903633\n",
       "5    11.518577\n",
       "6     4.046322\n",
       "7     2.116220\n",
       "Name: age_of_vehicle, dtype: float64"
      ]
     },
     "execution_count": 101,
     "metadata": {},
     "output_type": "execute_result"
    }
   ],
   "source": [
    "df['age_of_vehicle'].value_counts()/df.shape[0]*100"
   ]
  },
  {
   "cell_type": "code",
   "execution_count": 102,
   "id": "fb4b9c8d",
   "metadata": {
    "colab": {
     "base_uri": "https://localhost:8080/"
    },
    "id": "fb4b9c8d",
    "outputId": "4cc77853-15c2-4da9-e701-0fb8bb30ce00"
   },
   "outputs": [
    {
     "data": {
      "text/plain": [
       "16-25       88.515889\n",
       "26-45        6.100503\n",
       "46-65        5.163025\n",
       "Over 65      0.206797\n",
       "Under 16     0.013786\n",
       "Name: age_band_of_driver, dtype: float64"
      ]
     },
     "execution_count": 102,
     "metadata": {},
     "output_type": "execute_result"
    }
   ],
   "source": [
    "df['age_band_of_driver'].value_counts()/df.shape[0]*100\n"
   ]
  },
  {
   "cell_type": "code",
   "execution_count": 103,
   "id": "b769c562",
   "metadata": {
    "colab": {
     "base_uri": "https://localhost:8080/"
    },
    "id": "b769c562",
    "outputId": "ad41ec13-df77-441d-82c0-71f65d482825"
   },
   "outputs": [
    {
     "data": {
      "text/plain": [
       "16-25       88.515889\n",
       "26-45        6.100503\n",
       "46-65        5.163025\n",
       "Over 65      0.206797\n",
       "Under 16     0.013786\n",
       "Name: age_band_of_driver, dtype: float64"
      ]
     },
     "execution_count": 103,
     "metadata": {},
     "output_type": "execute_result"
    }
   ],
   "source": [
    "df['age_band_of_driver'].value_counts()/df.shape[0]*100"
   ]
  },
  {
   "cell_type": "code",
   "execution_count": 104,
   "id": "73ad74ef",
   "metadata": {
    "colab": {
     "base_uri": "https://localhost:8080/"
    },
    "id": "73ad74ef",
    "outputId": "43e38705-c9f0-46ec-9a21-c71c0dd3cf33"
   },
   "outputs": [
    {
     "data": {
      "text/plain": [
       "30    69.221755\n",
       "40    12.070035\n",
       "60     9.167988\n",
       "50     4.770111\n",
       "70     3.715448\n",
       "20     1.047770\n",
       "15     0.006893\n",
       "Name: speed_limit, dtype: float64"
      ]
     },
     "execution_count": 104,
     "metadata": {},
     "output_type": "execute_result"
    }
   ],
   "source": [
    "df['speed_limit'].value_counts()/df.shape[0]*100"
   ]
  },
  {
   "cell_type": "code",
   "execution_count": 105,
   "id": "466c9634",
   "metadata": {
    "colab": {
     "base_uri": "https://localhost:8080/"
    },
    "id": "466c9634",
    "outputId": "c6d39609-e82e-428e-85c0-d542fa97f4f3"
   },
   "outputs": [
    {
     "data": {
      "text/plain": [
       "Friday       16.826360\n",
       "Saturday     15.034121\n",
       "Thursday     14.530916\n",
       "Wednesday    13.951885\n",
       "Tuesday      13.938099\n",
       "Monday       13.517612\n",
       "Sunday       12.201006\n",
       "Name: day_of_week, dtype: float64"
      ]
     },
     "execution_count": 105,
     "metadata": {},
     "output_type": "execute_result"
    }
   ],
   "source": [
    "df['day_of_week'].value_counts()/df.shape[0]*100"
   ]
  },
  {
   "cell_type": "code",
   "execution_count": 106,
   "id": "a444d088",
   "metadata": {
    "colab": {
     "base_uri": "https://localhost:8080/"
    },
    "id": "a444d088",
    "outputId": "24ebf8ae-0033-427b-81a0-4548bc61cfa3"
   },
   "outputs": [
    {
     "data": {
      "text/plain": [
       "Friday       16.826360\n",
       "Saturday     15.034121\n",
       "Thursday     14.530916\n",
       "Wednesday    13.951885\n",
       "Tuesday      13.938099\n",
       "Monday       13.517612\n",
       "Sunday       12.201006\n",
       "Name: day_of_week, dtype: float64"
      ]
     },
     "execution_count": 106,
     "metadata": {},
     "output_type": "execute_result"
    }
   ],
   "source": [
    "df['day_of_week'].value_counts()/df.shape[0]*100"
   ]
  },
  {
   "cell_type": "code",
   "execution_count": 107,
   "id": "87e00203",
   "metadata": {
    "colab": {
     "base_uri": "https://localhost:8080/"
    },
    "id": "87e00203",
    "outputId": "52ffa199-95c3-417a-91c9-1f6cf2c45a96"
   },
   "outputs": [
    {
     "data": {
      "text/plain": [
       "Dry                             68.739229\n",
       "Wet or damp                     27.324740\n",
       "Frost or ice                     3.115737\n",
       "Snow                             0.689322\n",
       "Data missing or out of range     0.082719\n",
       "Flood over 3cm. deep             0.048253\n",
       "Name: road_surface_conditions, dtype: float64"
      ]
     },
     "execution_count": 107,
     "metadata": {},
     "output_type": "execute_result"
    }
   ],
   "source": [
    "df['road_surface_conditions'].value_counts()/df.shape[0]*100"
   ]
  },
  {
   "cell_type": "code",
   "execution_count": 108,
   "id": "cb83f4aa",
   "metadata": {
    "colab": {
     "base_uri": "https://localhost:8080/"
    },
    "id": "cb83f4aa",
    "outputId": "94e4556b-d048-4fb9-c8f1-470abd0fa263"
   },
   "outputs": [
    {
     "data": {
      "text/plain": [
       "Dry                             68.739229\n",
       "Wet or damp                     27.324740\n",
       "Frost or ice                     3.115737\n",
       "Snow                             0.689322\n",
       "Data missing or out of range     0.082719\n",
       "Flood over 3cm. deep             0.048253\n",
       "Name: road_surface_conditions, dtype: float64"
      ]
     },
     "execution_count": 108,
     "metadata": {},
     "output_type": "execute_result"
    }
   ],
   "source": [
    "df['road_surface_conditions'].value_counts()/df.shape[0]*100"
   ]
  },
  {
   "cell_type": "code",
   "execution_count": 109,
   "id": "73417145",
   "metadata": {
    "colab": {
     "base_uri": "https://localhost:8080/"
    },
    "id": "73417145",
    "outputId": "a9035786-d062-4e66-bf47-a3eb90b59e05"
   },
   "outputs": [
    {
     "data": {
      "text/plain": [
       "Not Serious    74.736334\n",
       "Serious        20.038602\n",
       "Fatal           5.225064\n",
       "Name: accident_seriousness, dtype: float64"
      ]
     },
     "execution_count": 109,
     "metadata": {},
     "output_type": "execute_result"
    }
   ],
   "source": [
    "df['accident_seriousness'].value_counts()/df.shape[0]*100"
   ]
  },
  {
   "cell_type": "code",
   "execution_count": 110,
   "id": "7eeddcbb",
   "metadata": {
    "colab": {
     "base_uri": "https://localhost:8080/"
    },
    "id": "7eeddcbb",
    "outputId": "f6f5f98f-49a8-43b7-d951-26f93cc864f8"
   },
   "outputs": [
    {
     "data": {
      "text/plain": [
       "(14507, 55)"
      ]
     },
     "execution_count": 110,
     "metadata": {},
     "output_type": "execute_result"
    }
   ],
   "source": [
    "df.shape"
   ]
  },
  {
   "cell_type": "code",
   "execution_count": 111,
   "id": "0f15ca90",
   "metadata": {
    "colab": {
     "base_uri": "https://localhost:8080/",
     "height": 898
    },
    "id": "0f15ca90",
    "outputId": "539eaa28-3962-489b-9d08-e08f6101b5b2"
   },
   "outputs": [
    {
     "data": {
      "text/plain": [
       "<AxesSubplot:>"
      ]
     },
     "execution_count": 111,
     "metadata": {},
     "output_type": "execute_result"
    },
    {
     "data": {
      "image/png": "[encoded data removed]",
      "text/plain": [
       "<Figure size 2000x900 with 2 Axes>"
      ]
     },
     "metadata": {},
     "output_type": "display_data"
    }
   ],
   "source": [
    "corr =  df.corr()\n",
    "plt.subplots(figsize=(20,9))\n",
    "sns.heatmap(corr)"
   ]
  },
  {
   "cell_type": "code",
   "execution_count": 112,
   "id": "3b803b63",
   "metadata": {
    "id": "3b803b63"
   },
   "outputs": [],
   "source": [
    "import pickle\n",
    "df.to_pickle(\"df2.pkl\")\n"
   ]
  },
  {
   "cell_type": "code",
   "execution_count": 113,
   "id": "88ca0251",
   "metadata": {
    "colab": {
     "base_uri": "https://localhost:8080/"
    },
    "id": "88ca0251",
    "outputId": "6f61ff0f-5057-47a4-d689-f2206fcd31cd"
   },
   "outputs": [
    {
     "data": {
      "text/plain": [
       "(14507, 55)"
      ]
     },
     "execution_count": 113,
     "metadata": {},
     "output_type": "execute_result"
    }
   ],
   "source": [
    "df.shape"
   ]
  },
  {
   "cell_type": "markdown",
   "id": "97e51801",
   "metadata": {
    "id": "97e51801"
   },
   "source": [
    "# Ml model\n",
    ".\n",
    ".\n",
    ".\n",
    ".\n",
    ".\n",
    ".\n",
    ".\n",
    ".\n",
    ".\n",
    ".\n",
    ".\n",
    ".\n",
    ".\n",
    ".\n",
    "\n",
    "\n",
    "\n",
    "\n",
    "\n",
    "\n",
    "\n",
    "\n",
    "\n",
    "\n",
    "\n",
    "\n",
    "\n",
    "\n"
   ]
  },
  {
   "cell_type": "code",
   "execution_count": 114,
   "id": "071d14aa",
   "metadata": {
    "id": "071d14aa"
   },
   "outputs": [],
   "source": [
    "from sklearn.metrics import accuracy_score, confusion_matrix, classification_report\n",
    "from sklearn.ensemble import RandomForestClassifier, GradientBoostingClassifier, AdaBoostClassifier\n",
    "from sklearn.svm import SVC\n",
    "from sklearn.neighbors import KNeighborsClassifier\n",
    "from sklearn.linear_model import LogisticRegression\n",
    "from sklearn.naive_bayes import GaussianNB\n",
    "from sklearn.tree import DecisionTreeClassifier\n",
    "from sklearn.neural_network import MLPClassifier\n",
    "from sklearn.metrics import accuracy_score\n",
    "from sklearn.model_selection import train_test_split"
   ]
  },
  {
   "cell_type": "code",
   "execution_count": 115,
   "id": "142308c1",
   "metadata": {
    "id": "142308c1"
   },
   "outputs": [],
   "source": [
    "#df = pd.read_pickle(\"/content/df2.pkl\")"
   ]
  },
  {
   "cell_type": "code",
   "execution_count": 116,
   "id": "79077918",
   "metadata": {
    "colab": {
     "base_uri": "https://localhost:8080/",
     "height": 305
    },
    "id": "79077918",
    "outputId": "00f0f933-7878-4ecc-eaa2-2dd2406b3090"
   },
   "outputs": [
    {
     "data": {
      "text/html": [
       "<div>\n",
       "<style scoped>\n",
       "    .dataframe tbody tr th:only-of-type {\n",
       "        vertical-align: middle;\n",
       "    }\n",
       "\n",
       "    .dataframe tbody tr th {\n",
       "        vertical-align: top;\n",
       "    }\n",
       "\n",
       "    .dataframe thead th {\n",
       "        text-align: right;\n",
       "    }\n",
       "</style>\n",
       "<table border=\"1\" class=\"dataframe\">\n",
       "  <thead>\n",
       "    <tr style=\"text-align: right;\">\n",
       "      <th></th>\n",
       "      <th>age_band_of_driver</th>\n",
       "      <th>vehicle_type</th>\n",
       "      <th>age_of_vehicle</th>\n",
       "      <th>weather_conditions</th>\n",
       "      <th>day_of_week</th>\n",
       "      <th>road_surface_conditions</th>\n",
       "      <th>light_conditions</th>\n",
       "      <th>sex_of_driver</th>\n",
       "      <th>season</th>\n",
       "      <th>speed_limit</th>\n",
       "      <th>accident_seriousness</th>\n",
       "    </tr>\n",
       "  </thead>\n",
       "  <tbody>\n",
       "    <tr>\n",
       "      <th>5</th>\n",
       "      <td>16-25</td>\n",
       "      <td>Car</td>\n",
       "      <td>7</td>\n",
       "      <td>Fine no high winds</td>\n",
       "      <td>Tuesday</td>\n",
       "      <td>Wet or damp</td>\n",
       "      <td>Daylight</td>\n",
       "      <td>Male</td>\n",
       "      <td>Rainy</td>\n",
       "      <td>60</td>\n",
       "      <td>Fatal</td>\n",
       "    </tr>\n",
       "    <tr>\n",
       "      <th>10</th>\n",
       "      <td>26-45</td>\n",
       "      <td>Car</td>\n",
       "      <td>7</td>\n",
       "      <td>Fine no high winds</td>\n",
       "      <td>Friday</td>\n",
       "      <td>Dry</td>\n",
       "      <td>Daylight</td>\n",
       "      <td>Male</td>\n",
       "      <td>Summer</td>\n",
       "      <td>70</td>\n",
       "      <td>Fatal</td>\n",
       "    </tr>\n",
       "    <tr>\n",
       "      <th>11</th>\n",
       "      <td>16-25</td>\n",
       "      <td>Motorcycle</td>\n",
       "      <td>7</td>\n",
       "      <td>Fine no high winds</td>\n",
       "      <td>Saturday</td>\n",
       "      <td>Wet or damp</td>\n",
       "      <td>Darkness - lights lit</td>\n",
       "      <td>Male</td>\n",
       "      <td>Rainy</td>\n",
       "      <td>30</td>\n",
       "      <td>Fatal</td>\n",
       "    </tr>\n",
       "    <tr>\n",
       "      <th>12</th>\n",
       "      <td>26-45</td>\n",
       "      <td>Motorcycle</td>\n",
       "      <td>7</td>\n",
       "      <td>Fine no high winds</td>\n",
       "      <td>Saturday</td>\n",
       "      <td>Dry</td>\n",
       "      <td>Daylight</td>\n",
       "      <td>Male</td>\n",
       "      <td>Autumn</td>\n",
       "      <td>30</td>\n",
       "      <td>Fatal</td>\n",
       "    </tr>\n",
       "    <tr>\n",
       "      <th>13</th>\n",
       "      <td>46-65</td>\n",
       "      <td>Goods Vehicle</td>\n",
       "      <td>7</td>\n",
       "      <td>Fine no high winds</td>\n",
       "      <td>Thursday</td>\n",
       "      <td>Dry</td>\n",
       "      <td>Daylight</td>\n",
       "      <td>Male</td>\n",
       "      <td>Summer</td>\n",
       "      <td>50</td>\n",
       "      <td>Fatal</td>\n",
       "    </tr>\n",
       "  </tbody>\n",
       "</table>\n",
       "</div>"
      ],
      "text/plain": [
       "   age_band_of_driver   vehicle_type age_of_vehicle  weather_conditions  \\\n",
       "5               16-25            Car              7  Fine no high winds   \n",
       "10              26-45            Car              7  Fine no high winds   \n",
       "11              16-25     Motorcycle              7  Fine no high winds   \n",
       "12              26-45     Motorcycle              7  Fine no high winds   \n",
       "13              46-65  Goods Vehicle              7  Fine no high winds   \n",
       "\n",
       "   day_of_week road_surface_conditions       light_conditions sex_of_driver  \\\n",
       "5      Tuesday             Wet or damp               Daylight          Male   \n",
       "10      Friday                     Dry               Daylight          Male   \n",
       "11    Saturday             Wet or damp  Darkness - lights lit          Male   \n",
       "12    Saturday                     Dry               Daylight          Male   \n",
       "13    Thursday                     Dry               Daylight          Male   \n",
       "\n",
       "    season  speed_limit accident_seriousness  \n",
       "5    Rainy           60                Fatal  \n",
       "10  Summer           70                Fatal  \n",
       "11   Rainy           30                Fatal  \n",
       "12  Autumn           30                Fatal  \n",
       "13  Summer           50                Fatal  "
      ]
     },
     "execution_count": 116,
     "metadata": {},
     "output_type": "execute_result"
    }
   ],
   "source": [
    "\n",
    "df1=df[['age_band_of_driver','vehicle_type','age_of_vehicle','weather_conditions','day_of_week','road_surface_conditions', \n",
    "                'light_conditions','sex_of_driver','season','speed_limit','accident_seriousness']]\n",
    "df1.head()"
   ]
  },
  {
   "cell_type": "code",
   "execution_count": 117,
   "id": "4b68a7c4",
   "metadata": {
    "colab": {
     "base_uri": "https://localhost:8080/"
    },
    "id": "4b68a7c4",
    "outputId": "8af232e3-02e0-4c5c-c6a7-314c5ff775ad"
   },
   "outputs": [
    {
     "data": {
      "text/plain": [
       "Index(['age_band_of_driver', 'vehicle_type', 'age_of_vehicle',\n",
       "       'weather_conditions', 'day_of_week', 'road_surface_conditions',\n",
       "       'light_conditions', 'sex_of_driver', 'season', 'speed_limit',\n",
       "       'accident_seriousness'],\n",
       "      dtype='object')"
      ]
     },
     "execution_count": 117,
     "metadata": {},
     "output_type": "execute_result"
    }
   ],
   "source": [
    "df1.columns"
   ]
  },
  {
   "cell_type": "code",
   "execution_count": 118,
   "id": "9ed341aa",
   "metadata": {
    "colab": {
     "base_uri": "https://localhost:8080/"
    },
    "id": "9ed341aa",
    "outputId": "fcfdce02-bbc4-4ff0-bbea-891e79d50133"
   },
   "outputs": [
    {
     "name": "stdout",
     "output_type": "stream",
     "text": [
      "age_band_of_driver         0\n",
      "vehicle_type               0\n",
      "age_of_vehicle             0\n",
      "weather_conditions         0\n",
      "day_of_week                0\n",
      "road_surface_conditions    0\n",
      "light_conditions           0\n",
      "sex_of_driver              0\n",
      "season                     0\n",
      "speed_limit                0\n",
      "accident_seriousness       0\n",
      "dtype: int64\n"
     ]
    }
   ],
   "source": [
    "print(df1.isnull().sum())"
   ]
  },
  {
   "cell_type": "code",
   "execution_count": 119,
   "id": "f826bf0e",
   "metadata": {
    "colab": {
     "base_uri": "https://localhost:8080/"
    },
    "id": "f826bf0e",
    "outputId": "739fe875-637e-4591-bc28-e3a6e7de425d"
   },
   "outputs": [],
   "source": [
    "df1.isnull()\n",
    "df1.isnull().sum()\n",
    "df1_copy = df1.copy()\n",
    "df1_copy.dropna(inplace=True)"
   ]
  },
  {
   "cell_type": "code",
   "execution_count": 120,
   "id": "1a1a38af",
   "metadata": {
    "colab": {
     "base_uri": "https://localhost:8080/"
    },
    "id": "1a1a38af",
    "outputId": "0d38f2d1-99f1-41ed-fd88-49513657ba61"
   },
   "outputs": [
    {
     "data": {
      "text/plain": [
       "age_band_of_driver           object\n",
       "vehicle_type                 object\n",
       "age_of_vehicle             category\n",
       "weather_conditions           object\n",
       "day_of_week                  object\n",
       "road_surface_conditions      object\n",
       "light_conditions             object\n",
       "sex_of_driver                object\n",
       "season                       object\n",
       "speed_limit                   int64\n",
       "accident_seriousness         object\n",
       "dtype: object"
      ]
     },
     "execution_count": 120,
     "metadata": {},
     "output_type": "execute_result"
    }
   ],
   "source": [
    "df1.dtypes"
   ]
  },
  {
   "cell_type": "code",
   "execution_count": 121,
   "id": "b3047df5",
   "metadata": {
    "colab": {
     "base_uri": "https://localhost:8080/"
    },
    "id": "b3047df5",
    "outputId": "d7afc97c-4cd3-48c3-bb8b-7464b5f747f2"
   },
   "outputs": [
    {
     "name": "stderr",
     "output_type": "stream",
     "text": [
      "C:\\Users\\shivk\\AppData\\Local\\Temp\\ipykernel_18240\\3395258895.py:1: SettingWithCopyWarning: \n",
      "A value is trying to be set on a copy of a slice from a DataFrame.\n",
      "Try using .loc[row_indexer,col_indexer] = value instead\n",
      "\n",
      "See the caveats in the documentation: https://pandas.pydata.org/pandas-docs/stable/user_guide/indexing.html#returning-a-view-versus-a-copy\n",
      "  df1.loc[:, 'age_of_vehicle'] = df1['age_of_vehicle'].astype('int64')\n"
     ]
    }
   ],
   "source": [
    "df1.loc[:, 'age_of_vehicle'] = df1['age_of_vehicle'].astype('int64')"
   ]
  },
  {
   "cell_type": "code",
   "execution_count": 122,
   "id": "6f76e62f",
   "metadata": {
    "colab": {
     "base_uri": "https://localhost:8080/"
    },
    "id": "6f76e62f",
    "outputId": "081bfcc7-50ac-4e8e-b029-6024d8b5b210"
   },
   "outputs": [
    {
     "data": {
      "text/plain": [
       "age_band_of_driver         object\n",
       "vehicle_type               object\n",
       "age_of_vehicle              int64\n",
       "weather_conditions         object\n",
       "day_of_week                object\n",
       "road_surface_conditions    object\n",
       "light_conditions           object\n",
       "sex_of_driver              object\n",
       "season                     object\n",
       "speed_limit                 int64\n",
       "accident_seriousness       object\n",
       "dtype: object"
      ]
     },
     "execution_count": 122,
     "metadata": {},
     "output_type": "execute_result"
    }
   ],
   "source": [
    "df1.dtypes"
   ]
  },
  {
   "cell_type": "code",
   "execution_count": 123,
   "id": "03625991",
   "metadata": {
    "colab": {
     "base_uri": "https://localhost:8080/",
     "height": 270
    },
    "id": "03625991",
    "outputId": "23d895cd-8d49-4c0d-c4a3-d379b47ec4e2"
   },
   "outputs": [
    {
     "data": {
      "text/html": [
       "<div>\n",
       "<style scoped>\n",
       "    .dataframe tbody tr th:only-of-type {\n",
       "        vertical-align: middle;\n",
       "    }\n",
       "\n",
       "    .dataframe tbody tr th {\n",
       "        vertical-align: top;\n",
       "    }\n",
       "\n",
       "    .dataframe thead th {\n",
       "        text-align: right;\n",
       "    }\n",
       "</style>\n",
       "<table border=\"1\" class=\"dataframe\">\n",
       "  <thead>\n",
       "    <tr style=\"text-align: right;\">\n",
       "      <th></th>\n",
       "      <th>age_band_of_driver</th>\n",
       "      <th>vehicle_type</th>\n",
       "      <th>age_of_vehicle</th>\n",
       "      <th>weather_conditions</th>\n",
       "      <th>day_of_week</th>\n",
       "      <th>road_surface_conditions</th>\n",
       "      <th>light_conditions</th>\n",
       "      <th>sex_of_driver</th>\n",
       "      <th>season</th>\n",
       "      <th>speed_limit</th>\n",
       "      <th>accident_seriousness</th>\n",
       "    </tr>\n",
       "  </thead>\n",
       "  <tbody>\n",
       "    <tr>\n",
       "      <th>25995</th>\n",
       "      <td>16-25</td>\n",
       "      <td>Car</td>\n",
       "      <td>1</td>\n",
       "      <td>Fine no high winds</td>\n",
       "      <td>Monday</td>\n",
       "      <td>Dry</td>\n",
       "      <td>Daylight</td>\n",
       "      <td>Male</td>\n",
       "      <td>Summer</td>\n",
       "      <td>30</td>\n",
       "      <td>Not Serious</td>\n",
       "    </tr>\n",
       "    <tr>\n",
       "      <th>25996</th>\n",
       "      <td>16-25</td>\n",
       "      <td>Car</td>\n",
       "      <td>1</td>\n",
       "      <td>Fine no high winds</td>\n",
       "      <td>Friday</td>\n",
       "      <td>Dry</td>\n",
       "      <td>Daylight</td>\n",
       "      <td>Male</td>\n",
       "      <td>Rainy</td>\n",
       "      <td>30</td>\n",
       "      <td>Not Serious</td>\n",
       "    </tr>\n",
       "    <tr>\n",
       "      <th>25997</th>\n",
       "      <td>16-25</td>\n",
       "      <td>Car</td>\n",
       "      <td>1</td>\n",
       "      <td>Fine no high winds</td>\n",
       "      <td>Friday</td>\n",
       "      <td>Dry</td>\n",
       "      <td>Daylight</td>\n",
       "      <td>Male</td>\n",
       "      <td>Autumn</td>\n",
       "      <td>30</td>\n",
       "      <td>Not Serious</td>\n",
       "    </tr>\n",
       "    <tr>\n",
       "      <th>25998</th>\n",
       "      <td>16-25</td>\n",
       "      <td>Car</td>\n",
       "      <td>1</td>\n",
       "      <td>Fine no high winds</td>\n",
       "      <td>Tuesday</td>\n",
       "      <td>Dry</td>\n",
       "      <td>Daylight</td>\n",
       "      <td>Male</td>\n",
       "      <td>Rainy</td>\n",
       "      <td>30</td>\n",
       "      <td>Not Serious</td>\n",
       "    </tr>\n",
       "    <tr>\n",
       "      <th>25999</th>\n",
       "      <td>16-25</td>\n",
       "      <td>Goods Vehicle</td>\n",
       "      <td>1</td>\n",
       "      <td>Fine no high winds</td>\n",
       "      <td>Monday</td>\n",
       "      <td>Dry</td>\n",
       "      <td>Daylight</td>\n",
       "      <td>Male</td>\n",
       "      <td>Winter</td>\n",
       "      <td>40</td>\n",
       "      <td>Not Serious</td>\n",
       "    </tr>\n",
       "  </tbody>\n",
       "</table>\n",
       "</div>"
      ],
      "text/plain": [
       "      age_band_of_driver   vehicle_type  age_of_vehicle  weather_conditions  \\\n",
       "25995              16-25            Car               1  Fine no high winds   \n",
       "25996              16-25            Car               1  Fine no high winds   \n",
       "25997              16-25            Car               1  Fine no high winds   \n",
       "25998              16-25            Car               1  Fine no high winds   \n",
       "25999              16-25  Goods Vehicle               1  Fine no high winds   \n",
       "\n",
       "      day_of_week road_surface_conditions light_conditions sex_of_driver  \\\n",
       "25995      Monday                     Dry         Daylight          Male   \n",
       "25996      Friday                     Dry         Daylight          Male   \n",
       "25997      Friday                     Dry         Daylight          Male   \n",
       "25998     Tuesday                     Dry         Daylight          Male   \n",
       "25999      Monday                     Dry         Daylight          Male   \n",
       "\n",
       "       season  speed_limit accident_seriousness  \n",
       "25995  Summer           30          Not Serious  \n",
       "25996   Rainy           30          Not Serious  \n",
       "25997  Autumn           30          Not Serious  \n",
       "25998   Rainy           30          Not Serious  \n",
       "25999  Winter           40          Not Serious  "
      ]
     },
     "execution_count": 123,
     "metadata": {},
     "output_type": "execute_result"
    }
   ],
   "source": [
    "df1.tail()"
   ]
  },
  {
   "cell_type": "code",
   "execution_count": 124,
   "id": "7a44d70b",
   "metadata": {
    "colab": {
     "base_uri": "https://localhost:8080/"
    },
    "id": "7a44d70b",
    "outputId": "1d0538de-b160-4a57-e749-ed298495be89"
   },
   "outputs": [
    {
     "data": {
      "text/plain": [
       "(14507, 55)"
      ]
     },
     "execution_count": 124,
     "metadata": {},
     "output_type": "execute_result"
    }
   ],
   "source": [
    "df.shape"
   ]
  },
  {
   "cell_type": "code",
   "execution_count": 125,
   "id": "37142bc3",
   "metadata": {
    "id": "37142bc3"
   },
   "outputs": [],
   "source": [
    "from sklearn.preprocessing import LabelEncoder\n"
   ]
  },
  {
   "cell_type": "code",
   "execution_count": 126,
   "id": "zOQvvB3T83lm",
   "metadata": {
    "id": "zOQvvB3T83lm"
   },
   "outputs": [],
   "source": [
    "categorical_cols = ['age_band_of_driver','vehicle_type','weather_conditions','day_of_week','road_surface_conditions', \n",
    "                'light_conditions','sex_of_driver','season','accident_seriousness']"
   ]
  },
  {
   "cell_type": "code",
   "execution_count": 127,
   "id": "5pCsvd5q62m0",
   "metadata": {
    "id": "5pCsvd5q62m0"
   },
   "outputs": [],
   "source": [
    "le = LabelEncoder()"
   ]
  },
  {
   "cell_type": "code",
   "execution_count": 128,
   "id": "YEUOKDDe62pz",
   "metadata": {
    "colab": {
     "base_uri": "https://localhost:8080/"
    },
    "id": "YEUOKDDe62pz",
    "outputId": "38d1b03b-6ad8-4722-a82f-846ff72aeb86"
   },
   "outputs": [
    {
     "name": "stderr",
     "output_type": "stream",
     "text": [
      "C:\\Users\\shivk\\AppData\\Local\\Temp\\ipykernel_18240\\1672672872.py:2: SettingWithCopyWarning: \n",
      "A value is trying to be set on a copy of a slice from a DataFrame.\n",
      "Try using .loc[row_indexer,col_indexer] = value instead\n",
      "\n",
      "See the caveats in the documentation: https://pandas.pydata.org/pandas-docs/stable/user_guide/indexing.html#returning-a-view-versus-a-copy\n",
      "  df1.loc[:, col] = le.fit_transform(df1.loc[:, col])\n"
     ]
    },
    {
     "name": "stdout",
     "output_type": "stream",
     "text": [
      "age_band_of_driver \n",
      "\n",
      "Original values: ['16-25' '26-45' '46-65' 'Over 65' 'Under 16']\n",
      "Encoded values: [0 1 2 3 4]\n",
      "vehicle_type \n",
      "\n",
      "Original values: ['Bus' 'Car' 'Goods Vehicle' 'Motorcycle' 'Other Vehicle']\n",
      "Encoded values: [0 1 2 3 4]\n",
      "weather_conditions \n",
      "\n",
      "Original values: ['Fine + high winds' 'Fine no high winds' 'Fog or mist' 'Mud'\n",
      " 'Raining + high winds' 'Raining no high winds' 'Snowing + high winds'\n",
      " 'Snowing no high winds']\n",
      "Encoded values: [0 1 2 3 4 5 6 7]\n",
      "day_of_week \n",
      "\n",
      "Original values: ['Friday' 'Monday' 'Saturday' 'Sunday' 'Thursday' 'Tuesday' 'Wednesday']\n",
      "Encoded values: [0 1 2 3 4 5 6]\n",
      "road_surface_conditions \n",
      "\n",
      "Original values: ['Data missing or out of range' 'Dry' 'Flood over 3cm. deep'\n",
      " 'Frost or ice' 'Snow' 'Wet or damp']\n",
      "Encoded values: [0 1 2 3 4 5]\n",
      "light_conditions \n",
      "\n",
      "Original values: ['Darkness - lights lit' 'Darkness - lights unlit'\n",
      " 'Darkness - no lighting' 'Daylight']\n",
      "Encoded values: [0 1 2 3]\n",
      "sex_of_driver \n",
      "\n",
      "Original values: ['Female' 'Male']\n",
      "Encoded values: [0 1]\n",
      "season \n",
      "\n",
      "Original values: ['Autumn' 'Rainy' 'Summer' 'Winter']\n",
      "Encoded values: [0 1 2 3]\n",
      "accident_seriousness \n",
      "\n",
      "Original values: ['Fatal' 'Not Serious' 'Serious']\n",
      "Encoded values: [0 1 2]\n"
     ]
    }
   ],
   "source": [
    "for col in categorical_cols:\n",
    "    df1.loc[:, col] = le.fit_transform(df1.loc[:, col])\n",
    "    print(col,\"\\n\")\n",
    "    print('Original values:', le.classes_)\n",
    "    print('Encoded values:', le.transform(le.classes_))"
   ]
  },
  {
   "cell_type": "code",
   "execution_count": 129,
   "id": "N9O0l1GA62wv",
   "metadata": {
    "colab": {
     "base_uri": "https://localhost:8080/"
    },
    "id": "N9O0l1GA62wv",
    "outputId": "1ba9953e-8637-4951-d5e6-f876ff88bd0e"
   },
   "outputs": [
    {
     "name": "stdout",
     "output_type": "stream",
     "text": [
      "    age_band_of_driver  vehicle_type  age_of_vehicle  weather_conditions  \\\n",
      "5                    0             1               7                   1   \n",
      "10                   1             1               7                   1   \n",
      "11                   0             3               7                   1   \n",
      "12                   1             3               7                   1   \n",
      "13                   2             2               7                   1   \n",
      "\n",
      "    day_of_week  road_surface_conditions  light_conditions  sex_of_driver  \\\n",
      "5             5                        5                 3              1   \n",
      "10            0                        1                 3              1   \n",
      "11            2                        5                 0              1   \n",
      "12            2                        1                 3              1   \n",
      "13            4                        1                 3              1   \n",
      "\n",
      "    season  speed_limit  accident_seriousness  \n",
      "5        1           60                     0  \n",
      "10       2           70                     0  \n",
      "11       1           30                     0  \n",
      "12       0           30                     0  \n",
      "13       2           50                     0  \n"
     ]
    }
   ],
   "source": [
    "print(df1.head())"
   ]
  },
  {
   "cell_type": "code",
   "execution_count": 130,
   "id": "_a1_Qs1I7ew9",
   "metadata": {
    "colab": {
     "base_uri": "https://localhost:8080/"
    },
    "id": "_a1_Qs1I7ew9",
    "outputId": "6b3af1da-bfb3-4f86-9aad-4cb019a0a61d"
   },
   "outputs": [
    {
     "name": "stdout",
     "output_type": "stream",
     "text": [
      "Encoded values: [1 2 1 ... 0 1 3]\n",
      "Unique values: ['Rainy' 'Summer' 'Autumn' 'Winter']\n"
     ]
    }
   ],
   "source": [
    "encoded_col = le.fit_transform(df1['season'])\n",
    "print('Encoded values:', encoded_col)\n",
    "print('Unique values:', df['season'].unique())"
   ]
  },
  {
   "cell_type": "code",
   "execution_count": 131,
   "id": "w93kSnyyM8mC",
   "metadata": {
    "id": "w93kSnyyM8mC"
   },
   "outputs": [],
   "source": [
    "X = df1.drop('accident_seriousness', axis=1)\n",
    "y = df1['accident_seriousness']"
   ]
  },
  {
   "cell_type": "code",
   "execution_count": 132,
   "id": "26be5c0c",
   "metadata": {
    "id": "26be5c0c"
   },
   "outputs": [],
   "source": [
    "X_train, X_test, y_train, y_test = train_test_split(X, y, test_size=0.3, random_state=42)"
   ]
  },
  {
   "cell_type": "code",
   "execution_count": 133,
   "id": "CSVVrGEU-z3f",
   "metadata": {
    "colab": {
     "base_uri": "https://localhost:8080/"
    },
    "id": "CSVVrGEU-z3f",
    "outputId": "17bd8fed-1031-46bd-a881-e5fd44397b7b"
   },
   "outputs": [
    {
     "name": "stdout",
     "output_type": "stream",
     "text": [
      "X_train shape: (10154, 10)\n",
      "X_test shape: (4353, 10)\n",
      "y_train shape: (10154,)\n",
      "y_test shape: (4353,)\n"
     ]
    }
   ],
   "source": [
    "print('X_train shape:', X_train.shape)\n",
    "print('X_test shape:', X_test.shape)\n",
    "print('y_train shape:', y_train.shape)\n",
    "print('y_test shape:', y_test.shape)"
   ]
  },
  {
   "cell_type": "code",
   "execution_count": 134,
   "id": "51458d5e",
   "metadata": {},
   "outputs": [],
   "source": [
    "def cm_plot(var):\n",
    "    plt.figure(figsize=(15,5))\n",
    "    plt.style.use('dark_background')\n",
    "    plt.clf()\n",
    "    plt.imshow(var, interpolation='nearest', cmap='tab20')\n",
    "    classNames = ['Not Serious','Serious', 'Fatal']\n",
    "    plt.title('Confusion Matrix')\n",
    "    plt.ylabel('Actual\\n')\n",
    "    plt.xlabel('Predicted\\n')\n",
    "    tick_marks = np.arange(len(classNames))\n",
    "    plt.xticks(tick_marks, classNames)\n",
    "    plt.yticks(tick_marks, classNames)\n",
    "    s = [['TN','FP', 'FN'], ['FP', 'TP', 'FN'], ['FP', 'FN', 'TP']]\n",
    "    \n",
    "    for i in range(3):\n",
    "        for j in range(3):\n",
    "            plt.text(j,i, str(s[i][j])+\"=\"+str(var[i][j]),horizontalalignment='center', \n",
    "                     color='black')\n",
    "    plt.show()"
   ]
  },
  {
   "cell_type": "code",
   "execution_count": 135,
   "id": "15ca3dc3",
   "metadata": {
    "colab": {
     "base_uri": "https://localhost:8080/"
    },
    "id": "15ca3dc3",
    "outputId": "34eb16c3-3ac7-4172-c221-1ab5f2b04110"
   },
   "outputs": [
    {
     "name": "stdout",
     "output_type": "stream",
     "text": [
      "Accuracy: 0.8451642545371009\n",
      "Confusion Matrix:\n",
      " [[  74   88   72]\n",
      " [   0 3244    3]\n",
      " [   4  507  361]]\n",
      "Classification Report:\n",
      "               precision    recall  f1-score   support\n",
      "\n",
      "           0       0.95      0.32      0.47       234\n",
      "           1       0.85      1.00      0.92      3247\n",
      "           2       0.83      0.41      0.55       872\n",
      "\n",
      "    accuracy                           0.85      4353\n",
      "   macro avg       0.87      0.58      0.65      4353\n",
      "weighted avg       0.85      0.85      0.82      4353\n",
      "\n",
      "RandomForestClassifier accuracy: 0.8451642545371009 with best hyperparameters: {'bootstrap': True, 'max_depth': 10, 'max_features': 'auto', 'min_samples_leaf': 2, 'min_samples_split': 2, 'n_estimators': 100}\n"
     ]
    },
    {
     "data": {
      "image/png": "[encoded data removed]",
      "text/plain": [
       "<Figure size 1500x500 with 1 Axes>"
      ]
     },
     "metadata": {},
     "output_type": "display_data"
    }
   ],
   "source": [
    "from sklearn.model_selection import GridSearchCV\n",
    "\n",
    "# Define the parameter grid to search over\n",
    "param_grid = {\n",
    "    'n_estimators': [100, 500, 1000,2000],\n",
    "    'max_features': ['auto', 'sqrt', 'log2', None],\n",
    "    'max_depth': [10, 20, 30, 40, None],\n",
    "    'min_samples_split': [2, 5, 10, 15],\n",
    "    'min_samples_leaf': [1, 2, 4, 8],\n",
    "    'bootstrap': [True, False]\n",
    "}\n",
    "\n",
    "# Create a random forest classifier object\n",
    "rf = RandomForestClassifier(random_state=50)\n",
    "\n",
    "# Create a grid search object\n",
    "grid_search = GridSearchCV(rf, param_grid, cv=5, n_jobs=-1)\n",
    "\n",
    "# Fit the grid search object to the training data\n",
    "grid_search.fit(X_train, y_train)\n",
    "\n",
    "# Get the best model from the grid search\n",
    "best_model = grid_search.best_estimator_\n",
    "\n",
    "# Save the best model to a file\n",
    "filename = 'random_forest_model.pkl'\n",
    "with open(filename, 'wb') as file:\n",
    "    pickle.dump(best_model, file)\n",
    "\n",
    "# Use the best model to make predictions on the test set\n",
    "y_pred = best_model.predict(X_test)\n",
    "\n",
    "# Evaluate the model performance\n",
    "acc1=accuracy_score(y_test, y_pred)\n",
    "print('Accuracy:', acc1)\n",
    "print('Confusion Matrix:\\n', confusion_matrix(y_test, y_pred))\n",
    "print('Classification Report:\\n', classification_report(y_test, y_pred))\n",
    "\n",
    "print(type(rf).__name__, \"accuracy:\", acc1, \"with best hyperparameters:\", grid_search.best_params_)\n",
    "cm = confusion_matrix(y_test, y_pred)\n",
    "    #cm = confusion_matrix(y_test-1, y_pred-1, labels=[0,1,2])\n",
    "   \n",
    "\n",
    "# cm = confusion_matrix(y_test, y_pred)\n",
    "#     #cm = confusion_matrix(y_test-1, y_pred-1, labels=[0,1,2])\n",
    "     \n",
    "cm_plot(cm)\n",
    "    \n",
    "tn, fp, fn = cm[0, 0], cm[0, 1], cm[0, 2]\n",
    "tp, fn, fp = cm[1, 1], cm[1, 0], cm[1, 2]\n",
    "tn, fp, fn = cm[2, 0], cm[2, 1], cm[2, 2]\n",
    "\n",
    "fpr = [fp / (fp + tn), fp / (fp + tn), fp / (fp + tn)]\n",
    "ers = 1 - acc1"
   ]
  },
  {
   "cell_type": "markdown",
   "id": "40a90bf4",
   "metadata": {},
   "source": [
    "### Results in highest accuracy\n",
    "##### Now we'll test it's accuracy hands-on"
   ]
  },
  {
   "cell_type": "code",
   "execution_count": 136,
   "id": "230ca76c",
   "metadata": {
    "id": "230ca76c"
   },
   "outputs": [],
   "source": [
    "# # Fit the model on the training data\n",
    "# rf.fit(X_train, y_train)\n",
    "\n",
    "# # Define the new data to make predictions on\n",
    "# new_data = pd.DataFrame({\n",
    "#     'age_band_of_driver': [1],  # sample value for age_band_of_driver\n",
    "#     'vehicle_type': [1],  # sample value for vehicle_type\n",
    "#     'age_of_vehicle': [1],  # sample value for age_of_vehicle\n",
    "#     'weather_conditions': [2],  # sample value for weather_conditions\n",
    "#     'day_of_week': [3],  # sample value for day_of_week\n",
    "#     'road_surface_conditions': [3],  # sample value for road_surface_conditions\n",
    "#     'light_conditions': [2],  # sample value for light_conditions\n",
    "#     'sex_of_driver': [5],  # sample value for sex_of_driver\n",
    "#     'season': [6],  # sample value for season\n",
    "#     'speed_limit': [50],  # sample value for speed_limit\n",
    "# })\n",
    "\n",
    "# # Make predictions on the new data using the trained model\n",
    "# predictions = rf.predict(new_data)"
   ]
  },
  {
   "cell_type": "code",
   "execution_count": 137,
   "id": "05c4d092",
   "metadata": {
    "colab": {
     "base_uri": "https://localhost:8080/"
    },
    "id": "05c4d092",
    "outputId": "25102128-f290-44d0-eb3e-aeb1d9146fa1"
   },
   "outputs": [],
   "source": [
    "# print(predictions)"
   ]
  },
  {
   "cell_type": "code",
   "execution_count": 138,
   "id": "b53031fc",
   "metadata": {
    "colab": {
     "base_uri": "https://localhost:8080/"
    },
    "id": "b53031fc",
    "outputId": "77b7d539-9813-48dc-e657-2434df7ab786"
   },
   "outputs": [
    {
     "data": {
      "text/plain": [
       "(14507, 11)"
      ]
     },
     "execution_count": 138,
     "metadata": {},
     "output_type": "execute_result"
    }
   ],
   "source": [
    "df1.shape"
   ]
  },
  {
   "cell_type": "code",
   "execution_count": 139,
   "id": "8135a108",
   "metadata": {},
   "outputs": [
    {
     "name": "stdout",
     "output_type": "stream",
     "text": [
      "Accuracy: 0.8403399954054674\n",
      "Confusion Matrix:\n",
      " [[  79   88   67]\n",
      " [   3 3224   20]\n",
      " [  16  501  355]]\n",
      "Classification Report:\n",
      "               precision    recall  f1-score   support\n",
      "\n",
      "           0       0.81      0.34      0.48       234\n",
      "           1       0.85      0.99      0.91      3247\n",
      "           2       0.80      0.41      0.54       872\n",
      "\n",
      "    accuracy                           0.84      4353\n",
      "   macro avg       0.82      0.58      0.64      4353\n",
      "weighted avg       0.83      0.84      0.82      4353\n",
      "\n",
      "DecisionTreeClassifier accuracy: 0.8403399954054674 with best hyperparameters: {'criterion': 'entropy', 'max_depth': 10, 'max_features': None, 'min_samples_leaf': 1, 'min_samples_split': 15, 'splitter': 'random'}\n"
     ]
    }
   ],
   "source": [
    "from sklearn.tree import DecisionTreeClassifier\n",
    "from sklearn.model_selection import GridSearchCV\n",
    "from sklearn.metrics import accuracy_score, confusion_matrix, classification_report\n",
    "import pickle\n",
    "\n",
    "# Define the parameter grid to search over\n",
    "param_grid = {\n",
    "    'max_depth': [10, 20, 30, 40, None],\n",
    "    'min_samples_split': [2, 5, 10, 15],\n",
    "    'min_samples_leaf': [1, 2, 4, 8],\n",
    "    'criterion': ['gini', 'entropy'],\n",
    "    'splitter': ['best', 'random'],\n",
    "    'max_features': ['auto', 'sqrt', 'log2', None]\n",
    "}\n",
    "\n",
    "# Create a decision tree classifier object\n",
    "dt = DecisionTreeClassifier(random_state=50)\n",
    "\n",
    "# Create a grid search object\n",
    "grid_search = GridSearchCV(dt, param_grid, cv=5, n_jobs=-1)\n",
    "\n",
    "# Fit the grid search object to the training data\n",
    "grid_search.fit(X_train, y_train)\n",
    "\n",
    "# Get the best model from the grid search\n",
    "best_model = grid_search.best_estimator_\n",
    "\n",
    "# Save the best model to a file\n",
    "filename = 'decision_tree_model.pkl'\n",
    "with open(filename, 'wb') as file:\n",
    "    pickle.dump(best_model, file)\n",
    "\n",
    "# Use the best model to make predictions on the test set\n",
    "y_pred = best_model.predict(X_test)\n",
    "\n",
    "# Evaluate the model performance\n",
    "acc1 = accuracy_score(y_test, y_pred)\n",
    "print('Accuracy:', acc1)\n",
    "print('Confusion Matrix:\\n', confusion_matrix(y_test, y_pred))\n",
    "print('Classification Report:\\n', classification_report(y_test, y_pred))\n",
    "\n",
    "print(type(dt).__name__, \"accuracy:\", acc1, \"with best hyperparameters:\", grid_search.best_params_)\n",
    "\n",
    "cm = confusion_matrix(y_test, y_pred)\n",
    "# cm_plot(cm)\n",
    "\n",
    "tn, fp, fn = cm[0, 0], cm[0, 1], cm[0, 2]\n",
    "tp, fn, fp = cm[1, 1], cm[1, 0], cm[1, 2]\n",
    "tn, fp, fn = cm[2, 0], cm[2, 1], cm[2, 2]\n",
    "\n",
    "fpr = [fp / (fp + tn), fp / (fp + tn), fp / (fp + tn)]\n",
    "ers = 1 - acc1\n"
   ]
  },
  {
   "cell_type": "markdown",
   "id": "537f3a5f",
   "metadata": {
    "id": "537f3a5f"
   },
   "source": []
  },
  {
   "cell_type": "code",
   "execution_count": 140,
   "id": "5687d2a9",
   "metadata": {
    "colab": {
     "base_uri": "https://localhost:8080/"
    },
    "id": "5687d2a9",
    "outputId": "bb93983b-12a4-44f0-a050-b53e854bddbc"
   },
   "outputs": [
    {
     "name": "stdout",
     "output_type": "stream",
     "text": [
      "GradientBoostingClassifier accuracy: 0.8451642545371009 with best hyperparameters: {'n_estimators': 100, 'min_samples_split': 10, 'min_samples_leaf': 1, 'max_depth': 6, 'learning_rate': 0.010722672220103232}\n"
     ]
    }
   ],
   "source": [
    "from sklearn.model_selection import RandomizedSearchCV\n",
    "from sklearn.ensemble import GradientBoostingClassifier\n",
    "from sklearn.metrics import accuracy_score\n",
    "import numpy as np\n",
    "\n",
    "# Define the hyperparameter space for the GradientBoostingClassifier model\n",
    "param_dist = {\n",
    "    'learning_rate': np.logspace(-3, 0, 100),\n",
    "    'n_estimators': [100, 500, 1000, 2000, 3000],\n",
    "    'max_depth': [3, 4, 5, 6],\n",
    "    'min_samples_split': [2, 5, 10],\n",
    "    'min_samples_leaf': [1, 2, 4]\n",
    "}\n",
    "\n",
    "# Create a GradientBoostingClassifier model with default hyperparameters\n",
    "model = GradientBoostingClassifier(random_state=42)\n",
    "\n",
    "# Use RandomizedSearchCV to find the best hyperparameters for the model\n",
    "random_search = RandomizedSearchCV(model, param_distributions=param_dist, cv=5, n_iter=10, random_state=42)\n",
    "random_search.fit(X_train, y_train)\n",
    "best_model = random_search.best_estimator_\n",
    "\n",
    "# Evaluate the best model on the test set\n",
    "y_pred = best_model.predict(X_test)\n",
    "acc = accuracy_score(y_test, y_pred)\n",
    "print(type(model).__name__, \"accuracy:\", acc, \"with best hyperparameters:\", random_search.best_params_)\n"
   ]
  },
  {
   "cell_type": "code",
   "execution_count": 141,
   "id": "dc09f18f",
   "metadata": {
    "colab": {
     "base_uri": "https://localhost:8080/"
    },
    "id": "dc09f18f",
    "outputId": "5b5650d4-a4e1-46cd-f454-97698a51be3e"
   },
   "outputs": [
    {
     "name": "stdout",
     "output_type": "stream",
     "text": [
      "SVC accuracy: 0.8387319090282563\n",
      "Best hyperparameters: {'svm__C': 10, 'svm__gamma': 'scale', 'svm__kernel': 'rbf'}\n",
      "KNeighborsClassifier accuracy: 0.822880771881461\n",
      "Best hyperparameters: {'knn__n_neighbors': 7, 'knn__weights': 'uniform'}\n"
     ]
    },
    {
     "data": {
      "image/png": "[encoded data removed]",
      "text/plain": [
       "<Figure size 1500x500 with 1 Axes>"
      ]
     },
     "metadata": {},
     "output_type": "display_data"
    }
   ],
   "source": [
    "from sklearn.model_selection import GridSearchCV\n",
    "from sklearn.pipeline import Pipeline\n",
    "from sklearn.preprocessing import StandardScaler\n",
    "\n",
    "models = [    Pipeline([        ('scaler', StandardScaler()),        ('svm', SVC(random_state=42))    ]),\n",
    "    Pipeline([        ('scaler', StandardScaler()),        ('knn', KNeighborsClassifier())    ])\n",
    "]\n",
    "\n",
    "# Define hyperparameters to tune\n",
    "svm_params = {\n",
    "    'svm__kernel': ['linear', 'rbf', 'poly', 'sigmoid'],\n",
    "    'svm__C': [0.1, 1, 10],\n",
    "    'svm__gamma': ['scale', 'auto'],\n",
    "}\n",
    "\n",
    "knn_params = {\n",
    "    'knn__n_neighbors': [3, 5, 7, 9],\n",
    "    'knn__weights': ['uniform', 'distance'],\n",
    "}\n",
    "\n",
    "param_grids = [svm_params, knn_params]\n",
    "\n",
    "# Train and evaluate each model with GridSearchCV\n",
    "for i, model in enumerate(models):\n",
    "    param_grid = param_grids[i]\n",
    "    grid = GridSearchCV(model, param_grid, cv=5, n_jobs=-1)\n",
    "    grid.fit(X_train, y_train)\n",
    "    y_pred = grid.predict(X_test)\n",
    "    acc = accuracy_score(y_test, y_pred)\n",
    "    print(type(model.steps[-1][1]).__name__, \"accuracy:\", acc)\n",
    "    print(\"Best hyperparameters:\", grid.best_params_)\n",
    "cm = confusion_matrix(y_test, y_pred)\n",
    "    #cm = confusion_matrix(y_test-1, y_pred-1, labels=[0,1,2])\n",
    "     \n",
    "cm_plot(cm)\n",
    "    \n",
    "tn, fp, fn = cm[0, 0], cm[0, 1], cm[0, 2]\n",
    "tp, fn, fp = cm[1, 1], cm[1, 0], cm[1, 2]\n",
    "tn, fp, fn = cm[2, 0], cm[2, 1], cm[2, 2]\n",
    "\n",
    "fpr = [fp / (fp + tn), fp / (fp + tn), fp / (fp + tn)]\n",
    "ers = 1 - acc"
   ]
  },
  {
   "cell_type": "code",
   "execution_count": 142,
   "id": "3948d23f",
   "metadata": {
    "colab": {
     "base_uri": "https://localhost:8080/"
    },
    "id": "3948d23f",
    "outputId": "f26b064d-61a0-46e9-e909-b5740475d3f9"
   },
   "outputs": [
    {
     "name": "stdout",
     "output_type": "stream",
     "text": [
      "LogisticRegression accuracy: 0.8293131173903056\n",
      "Best hyperparameters: {'logistic__solver': 'newton-cg', 'logistic__penalty': 'l2', 'logistic__C': 0.01}\n",
      "GaussianNB accuracy: 0.8283942108890421\n"
     ]
    },
    {
     "name": "stderr",
     "output_type": "stream",
     "text": [
      "C:\\Users\\shivk\\anaconda3\\lib\\site-packages\\sklearn\\model_selection\\_validation.py:372: FitFailedWarning: \n",
      "60 fits failed out of a total of 250.\n",
      "The score on these train-test partitions for these parameters will be set to nan.\n",
      "If these failures are not expected, you can try to debug them by setting error_score='raise'.\n",
      "\n",
      "Below are more details about the failures:\n",
      "--------------------------------------------------------------------------------\n",
      "30 fits failed with the following error:\n",
      "Traceback (most recent call last):\n",
      "  File \"C:\\Users\\shivk\\anaconda3\\lib\\site-packages\\sklearn\\model_selection\\_validation.py\", line 680, in _fit_and_score\n",
      "    estimator.fit(X_train, y_train, **fit_params)\n",
      "  File \"C:\\Users\\shivk\\anaconda3\\lib\\site-packages\\sklearn\\pipeline.py\", line 394, in fit\n",
      "    self._final_estimator.fit(Xt, y, **fit_params_last_step)\n",
      "  File \"C:\\Users\\shivk\\anaconda3\\lib\\site-packages\\sklearn\\linear_model\\_logistic.py\", line 1461, in fit\n",
      "    solver = _check_solver(self.solver, self.penalty, self.dual)\n",
      "  File \"C:\\Users\\shivk\\anaconda3\\lib\\site-packages\\sklearn\\linear_model\\_logistic.py\", line 447, in _check_solver\n",
      "    raise ValueError(\n",
      "ValueError: Solver newton-cg supports only 'l2' or 'none' penalties, got l1 penalty.\n",
      "\n",
      "--------------------------------------------------------------------------------\n",
      "30 fits failed with the following error:\n",
      "Traceback (most recent call last):\n",
      "  File \"C:\\Users\\shivk\\anaconda3\\lib\\site-packages\\sklearn\\model_selection\\_validation.py\", line 680, in _fit_and_score\n",
      "    estimator.fit(X_train, y_train, **fit_params)\n",
      "  File \"C:\\Users\\shivk\\anaconda3\\lib\\site-packages\\sklearn\\pipeline.py\", line 394, in fit\n",
      "    self._final_estimator.fit(Xt, y, **fit_params_last_step)\n",
      "  File \"C:\\Users\\shivk\\anaconda3\\lib\\site-packages\\sklearn\\linear_model\\_logistic.py\", line 1461, in fit\n",
      "    solver = _check_solver(self.solver, self.penalty, self.dual)\n",
      "  File \"C:\\Users\\shivk\\anaconda3\\lib\\site-packages\\sklearn\\linear_model\\_logistic.py\", line 447, in _check_solver\n",
      "    raise ValueError(\n",
      "ValueError: Solver lbfgs supports only 'l2' or 'none' penalties, got l1 penalty.\n",
      "\n",
      "  warnings.warn(some_fits_failed_message, FitFailedWarning)\n",
      "C:\\Users\\shivk\\anaconda3\\lib\\site-packages\\sklearn\\model_selection\\_search.py:969: UserWarning: One or more of the test scores are non-finite: [0.82312365        nan        nan 0.79495732 0.83041129        nan\n",
      " 0.83031276        nan 0.83031276 0.83041129 0.83041129 0.82312365\n",
      " 0.83031276 0.83031276 0.83031276 0.83041129 0.83041129 0.83031276\n",
      " 0.83031276 0.83050976 0.83031276 0.83031276 0.83041129 0.83031276\n",
      "        nan        nan        nan 0.83041129        nan        nan\n",
      "        nan 0.83031276 0.83050976 0.83031276 0.83050976 0.83031276\n",
      " 0.83050976 0.83050976 0.83050976 0.83050976        nan        nan\n",
      " 0.82982039 0.83041129 0.83050976 0.83041129 0.83031276 0.82312365\n",
      " 0.83041129 0.83041129]\n",
      "  warnings.warn(\n"
     ]
    }
   ],
   "source": [
    "from sklearn.model_selection import RandomizedSearchCV\n",
    "from sklearn.pipeline import Pipeline\n",
    "from sklearn.preprocessing import StandardScaler\n",
    "from sklearn.linear_model import LogisticRegression\n",
    "from sklearn.naive_bayes import GaussianNB\n",
    "\n",
    "models = [\n",
    "    Pipeline([\n",
    "        ('scaler', StandardScaler()),\n",
    "        ('logistic', LogisticRegression(random_state=42))\n",
    "    ]),\n",
    "    GaussianNB()\n",
    "]\n",
    "\n",
    "# Define hyperparameters to tune\n",
    "logistic_params = {\n",
    "    'logistic__C': [0.001, 0.01, 0.1, 1, 10, 100, 1000],\n",
    "    'logistic__penalty': ['l1', 'l2'],\n",
    "    'logistic__solver': ['liblinear', 'saga', 'newton-cg', 'lbfgs']\n",
    "}\n",
    "\n",
    "param_grids = [logistic_params, None]\n",
    "\n",
    "# Train and evaluate each model with randomized search\n",
    "for i, model in enumerate(models):\n",
    "    param_grid = param_grids[i]\n",
    "    if param_grid is not None:\n",
    "        rand_search = RandomizedSearchCV(model, param_grid, cv=5, n_jobs=-1, n_iter=50)\n",
    "        rand_search.fit(X_train, y_train)\n",
    "        y_pred = rand_search.predict(X_test)\n",
    "        acc = accuracy_score(y_test, y_pred)\n",
    "        print(type(model.steps[-1][1]).__name__, \"accuracy:\", acc)\n",
    "        print(\"Best hyperparameters:\", rand_search.best_params_)\n",
    "    else:\n",
    "        model.fit(X_train, y_train)\n",
    "        y_pred = model.predict(X_test)\n",
    "        acc = accuracy_score(y_test, y_pred)\n",
    "        print(type(model).__name__, \"accuracy:\", acc)\n",
    "\n"
   ]
  },
  {
   "cell_type": "code",
   "execution_count": 143,
   "id": "07bbdfae",
   "metadata": {
    "colab": {
     "base_uri": "https://localhost:8080/"
    },
    "id": "07bbdfae",
    "outputId": "685cc162-ac56-4458-cea6-25b7fdcaa30b"
   },
   "outputs": [
    {
     "name": "stdout",
     "output_type": "stream",
     "text": [
      "DecisionTreeClassifier accuracy: 0.8426372616586262 with best hyperparameters: {'max_depth': 5}\n",
      "MLPClassifier accuracy: 0.8290833907649897 with best hyperparameters: {'hidden_layer_sizes': (10, 10), 'max_iter': 500}\n"
     ]
    }
   ],
   "source": [
    "from sklearn.model_selection import GridSearchCV\n",
    "from sklearn.tree import DecisionTreeClassifier\n",
    "from sklearn.neural_network import MLPClassifier\n",
    "from sklearn.metrics import accuracy_score\n",
    "\n",
    "# Define the parameter grids for each model\n",
    "dtc_params = {'max_depth': [3, 5, 7]}\n",
    "mlp_params = {'hidden_layer_sizes': [(10,), (10, 10), (20, 20)], 'max_iter': [500, 1000]}\n",
    "\n",
    "# Create a list of models with their respective parameter grids\n",
    "models = [\n",
    "    (DecisionTreeClassifier(random_state=42), dtc_params),\n",
    "    (MLPClassifier(random_state=42), mlp_params)\n",
    "]\n",
    "\n",
    "# Train and evaluate each model with the best hyperparameters\n",
    "for model, param_grid in models:\n",
    "    grid_search = GridSearchCV(model, param_grid, cv=5)\n",
    "    grid_search.fit(X_train, y_train)\n",
    "    best_model = grid_search.best_estimator_\n",
    "    y_pred = best_model.predict(X_test)\n",
    "    acc = accuracy_score(y_test, y_pred)\n",
    "    print(type(model).__name__, \"accuracy:\", acc, \"with best hyperparameters:\", grid_search.best_params_)\n"
   ]
  },
  {
   "cell_type": "code",
   "execution_count": 144,
   "id": "4ac864ac",
   "metadata": {
    "colab": {
     "base_uri": "https://localhost:8080/"
    },
    "id": "4ac864ac",
    "outputId": "95359c09-4cd7-479d-fa36-b16a092bd382",
    "scrolled": true
   },
   "outputs": [
    {
     "name": "stdout",
     "output_type": "stream",
     "text": [
      "AdaBoostClassifier accuracy: 0.8293131173903056 with best hyperparameters: {'n_estimators': 100, 'learning_rate': 0.01, 'algorithm': 'SAMME'}\n"
     ]
    }
   ],
   "source": [
    "from sklearn.model_selection import RandomizedSearchCV\n",
    "from sklearn.ensemble import AdaBoostClassifier\n",
    "from sklearn.metrics import accuracy_score\n",
    "\n",
    "# Define the parameter distributions for each model\n",
    "ada_params = {'n_estimators': [100, 500, 1000],\n",
    "              'algorithm': ['SAMME', 'SAMME.R'],\n",
    "              'learning_rate': [0.01, 0.1, 1]\n",
    "             }\n",
    "# rf_params = {'n_estimators': [1000, 2000, 3000, 4000, 5000, 6000, 7000, 8000, 9000, 10000]}\n",
    "\n",
    "# Create a list of models with their respective parameter distributions\n",
    "models = [\n",
    "    (AdaBoostClassifier(random_state=42), ada_params)\n",
    "]\n",
    "\n",
    "# Train and evaluate each model with the best hyperparameters\n",
    "for model, param_dist in models:\n",
    "    random_search = RandomizedSearchCV(model, param_dist, cv=5, n_iter=3, random_state=42)\n",
    "    random_search.fit(X_train, y_train)\n",
    "    best_model = random_search.best_estimator_\n",
    "    y_pred = best_model.predict(X_test)\n",
    "    acc = accuracy_score(y_test, y_pred)\n",
    "    print(type(model).__name__, \"accuracy:\", acc, \"with best hyperparameters:\", random_search.best_params_)\n"
   ]
  },
  {
   "cell_type": "code",
   "execution_count": 145,
   "id": "PoHM_oBY9M1j",
   "metadata": {
    "id": "PoHM_oBY9M1j"
   },
   "outputs": [],
   "source": [
    "import xgboost as xgb"
   ]
  },
  {
   "cell_type": "code",
   "execution_count": 146,
   "id": "d0LPvYP49NHo",
   "metadata": {
    "colab": {
     "base_uri": "https://localhost:8080/"
    },
    "id": "d0LPvYP49NHo",
    "outputId": "45786c60-37a0-4132-d652-e22749d4613d"
   },
   "outputs": [
    {
     "name": "stdout",
     "output_type": "stream",
     "text": [
      "Best parameters:  {'subsample': 0.5, 'n_estimators': 50, 'max_depth': 4, 'learning_rate': 0.001, 'gamma': 0.1, 'colsample_bytree': 1}\n",
      "Best score:  0.8478427235000352\n",
      "Test accuracy: 0.8451642545371009\n"
     ]
    }
   ],
   "source": [
    "# comment out\n",
    "from sklearn.model_selection import RandomizedSearchCV\n",
    "import xgboost as xgb\n",
    "\n",
    "# Define the classifier\n",
    "clf = xgb.XGBClassifier()\n",
    "\n",
    "# Define the hyperparameters to tune and their ranges\n",
    "param_dist = {'n_estimators': [50, 100, 200, 400, 800, 2400],\n",
    "              'max_depth': [2, 4, 6, 8, 10],\n",
    "              'learning_rate': [0.001, 0.01, 0.1, 1],\n",
    "              'subsample': [0.25, 0.5, 0.75, 1],\n",
    "              'colsample_bytree': [0.25, 0.5, 0.75, 1],\n",
    "              'gamma': [0, 0.1, 0.2, 0.3]}\n",
    "\n",
    "# Define the RandomizedSearchCV object\n",
    "rs = RandomizedSearchCV(clf, param_distributions=param_dist, cv=5, n_iter=10, n_jobs=-1, random_state=42)\n",
    "\n",
    "# Fit the RandomizedSearchCV object to the training data\n",
    "rs.fit(X_train, y_train)\n",
    "\n",
    "# Print the best hyperparameters and their corresponding score\n",
    "print(\"Best parameters: \", rs.best_params_)\n",
    "print(\"Best score: \", rs.best_score_)\n",
    "\n",
    "# Predict labels for the testing set using the best hyperparameters\n",
    "y_pred = rs.predict(X_test)\n",
    "\n",
    "# Evaluate the classifier using the best hyperparameters\n",
    "accuracy = rs.score(X_test, y_test)\n",
    "print(\"Test accuracy:\", accuracy)\n"
   ]
  },
  {
   "cell_type": "code",
   "execution_count": 147,
   "id": "XXDxgHWO34ob",
   "metadata": {
    "id": "XXDxgHWO34ob"
   },
   "outputs": [
    {
     "name": "stdout",
     "output_type": "stream",
     "text": [
      "Test accuracy: 0.8456237077877325\n",
      "Best hyperparameters: {'colsample_bytree': 0.8, 'learning_rate': 0.1, 'max_depth': 3, 'n_estimators': 100, 'subsample': 1.0}\n"
     ]
    }
   ],
   "source": [
    "from sklearn.model_selection import GridSearchCV\n",
    "from sklearn.metrics import accuracy_score\n",
    "import xgboost as xgb\n",
    "\n",
    "# Define the parameter grid for the XGBClassifier\n",
    "param_grid = {\n",
    "    'max_depth': [3, 5, 7],\n",
    "    'learning_rate': [0.01, 0.1, 1],\n",
    "    'n_estimators': [50, 100, 200],\n",
    "    'subsample': [0.5, 0.8, 1.0],\n",
    "    'colsample_bytree': [0.5, 0.8, 1.0]\n",
    "}\n",
    "\n",
    "# Create an XGBClassifier object\n",
    "clf = xgb.XGBClassifier(random_state=42)\n",
    "\n",
    "# Use GridSearchCV to search for the best hyperparameters\n",
    "grid_search = GridSearchCV(clf, param_grid, cv=5, n_jobs=-1)\n",
    "grid_search.fit(X_train, y_train)\n",
    "\n",
    "# Get the best classifier and predict labels for the testing set\n",
    "best_clf = grid_search.best_estimator_\n",
    "y_pred = best_clf.predict(X_test)\n",
    "\n",
    "# Evaluate the classifier\n",
    "accuracy = accuracy_score(y_test, y_pred)\n",
    "print(\"Test accuracy:\", accuracy)\n",
    "print(\"Best hyperparameters:\", grid_search.best_params_)\n"
   ]
  },
  {
   "cell_type": "code",
   "execution_count": 148,
   "id": "25f25a24",
   "metadata": {},
   "outputs": [
    {
     "name": "stdout",
     "output_type": "stream",
     "text": [
      "Test accuracy: 0.8463128876636802\n",
      "Best hyperparameters: {'subsample': 1.0, 'n_estimators': 500, 'min_child_weight': 3, 'max_depth': 5, 'learning_rate': 0.004641588833612782, 'gamma': 0.01484968262254465, 'colsample_bytree': 0.6111111111111112}\n"
     ]
    }
   ],
   "source": [
    "# comment out\n",
    "from sklearn.model_selection import RandomizedSearchCV\n",
    "from sklearn.metrics import accuracy_score\n",
    "import xgboost as xgb\n",
    "import numpy as np\n",
    "\n",
    "# Define the parameter distribution for the XGBClassifier\n",
    "param_dist = {\n",
    "    'max_depth': range(3, 11),\n",
    "    'learning_rate': np.logspace(-3, 0, 100),\n",
    "    'n_estimators': range(50, 501, 50),\n",
    "    'subsample': np.linspace(0.5, 1, 10),\n",
    "    'colsample_bytree': np.linspace(0.5, 1, 10),\n",
    "    'gamma': np.logspace(-3, 1, 100),\n",
    "    'min_child_weight': range(1, 11)\n",
    "}\n",
    "\n",
    "# Create an XGBClassifier object\n",
    "clf = xgb.XGBClassifier(random_state=42)\n",
    "\n",
    "# Use RandomizedSearchCV to search for the best hyperparameters\n",
    "random_search = RandomizedSearchCV(clf, param_distributions=param_dist, n_iter=100,\n",
    "                                   scoring='accuracy', cv=5, n_jobs=-1, random_state=42)\n",
    "random_search.fit(X_train, y_train)\n",
    "\n",
    "# Get the best classifier and predict labels for the testing set\n",
    "best_clf = random_search.best_estimator_\n",
    "y_pred = best_clf.predict(X_test)\n",
    "\n",
    "# Evaluate the classifier\n",
    "accuracy = accuracy_score(y_test, y_pred)\n",
    "print(\"Test accuracy:\", accuracy)\n",
    "print(\"Best hyperparameters:\", random_search.best_params_)\n"
   ]
  },
  {
   "cell_type": "code",
   "execution_count": 149,
   "id": "n5XN2fJ3cLDT",
   "metadata": {
    "colab": {
     "base_uri": "https://localhost:8080/",
     "height": 1000
    },
    "id": "n5XN2fJ3cLDT",
    "outputId": "e5dfdc55-40da-40fe-ea90-3948345b5a38"
   },
   "outputs": [],
   "source": [
    "\n",
    "# # Try modeling using  different classification models\n",
    "# classifiers = [\n",
    "#     BaggingClassifier(max_features=X.shape[1], n_estimators=500, random_state=42),\n",
    "#     AdaBoostClassifier( n_estimators=500, learning_rate=0.05, random_state=42),\n",
    "#     RandomForestClassifier(criterion='entropy', max_depth=40,max_features=X.shape[1], \n",
    "#                            min_samples_split=8, n_estimators=500, random_state=42),\n",
    "#     LGBMClassifier(learning_rate =0.03, max_depth=40, min_data_in_leaf=10,\n",
    "#                    n_estimators=500, num_leaves=50, random_state = 42),\n",
    "#      XGBClassifier(learning_rate=0.05, n_estimators=500, subsample= 1,random_state = 42,gamma = 1, max_depth=40)\n",
    "#     ]\n",
    "    \n",
    "\n",
    "# #putting results in df\n",
    "# res_cols=[\"Classifier\", \"Accuracy\", \"Log Loss\", \"Cross Val\", \"Recall\", \"Roc Auc\",\"F1\", \n",
    "#           \"False Positive Rate\", \"Error Rate\"]\n",
    "# results = pd.DataFrame(columns=res_cols)\n",
    "\n",
    "# for clf in classifiers:\n",
    "#     clf.fit(X_train, y_train)\n",
    "#     name = clf.__class__.__name__\n",
    "    \n",
    "#     print(\"\\n\"*3)\n",
    "#     print(name,\"Results:\")\n",
    "       \n",
    "#     print('~'*40)\n",
    "#     y_pred = clf.predict(X_test)\n",
    "#     acc = accuracy_score(y_test, y_pred)\n",
    "#     print(\"Accuracy: {:.4%}\".format(acc))\n",
    "    \n",
    "#     #cv= np.mean(cross_val_score(clf, res_X_train, res_y_train, cv=3))\n",
    "#     #print(\"Cross validation scores:\",cv)\n",
    "    \n",
    "    \n",
    "#     cv= np.mean(cross_val_score(clf,X_train, y_train, cv=3))\n",
    "#     if isinstance(cv, list):\n",
    "#         cv = [round(x * 100, 3) for x in cv]\n",
    "#     else:\n",
    "#         cv = round(cv * 100, 3)\n",
    "#     print(\"Cross validation scores:\", cv)\n",
    "    \n",
    "    \n",
    "    \n",
    "#     train_predictions = clf.predict_proba(X_test)\n",
    "#     logloss = log_loss(y_test, train_predictions)\n",
    "#     print(\"Log Loss: {}\".format(logloss))\n",
    "    \n",
    "#     cm = confusion_matrix(y_test, y_pred)\n",
    "#     #cm = confusion_matrix(y_test-1, y_pred-1, labels=[0,1,2])\n",
    "     \n",
    "#     cm_plot(cm)\n",
    "    \n",
    "#     tn, fp, fn = cm[0, 0], cm[0, 1], cm[0, 2]\n",
    "#     tp, fn, fp = cm[1, 1], cm[1, 0], cm[1, 2]\n",
    "#     tn, fp, fn = cm[2, 0], cm[2, 1], cm[2, 2]\n",
    "\n",
    "#     fpr = [fp / (fp + tn), fp / (fp + tn), fp / (fp + tn)]\n",
    "#     ers = 1 - acc\n",
    "#     rec= recall_score(y_test, y_pred, average='weighted')\n",
    "#     roc = roc_auc_score(y_test, clf.predict_proba(X_test), multi_class='ovo')\n",
    "#     f1s= f1_score(y_test, y_pred, average='weighted')\n",
    "#     results_final = pd.DataFrame([[name, round(acc*100,3), round(logloss,3), \n",
    "#                                    round(cv*100,3), round(rec*100,3), round(roc*100,3),round(f1s*100,3),\n",
    "#                                    np.round(fpr*100,3),round(ers*100,3)]],columns=res_cols)\n",
    "#     results = results.append(results_final)"
   ]
  },
  {
   "cell_type": "code",
   "execution_count": null,
   "id": "c73b4a20",
   "metadata": {
    "id": "c73b4a20"
   },
   "outputs": [],
   "source": []
  },
  {
   "cell_type": "code",
   "execution_count": null,
   "id": "bdc871c0",
   "metadata": {
    "id": "bdc871c0"
   },
   "outputs": [],
   "source": []
  },
  {
   "cell_type": "code",
   "execution_count": null,
   "id": "12eaa2ba",
   "metadata": {
    "id": "12eaa2ba"
   },
   "outputs": [],
   "source": []
  },
  {
   "cell_type": "code",
   "execution_count": null,
   "id": "414fe086",
   "metadata": {
    "id": "414fe086"
   },
   "outputs": [],
   "source": []
  },
  {
   "cell_type": "code",
   "execution_count": null,
   "id": "7fdfc0b1",
   "metadata": {
    "id": "7fdfc0b1"
   },
   "outputs": [],
   "source": []
  },
  {
   "cell_type": "code",
   "execution_count": null,
   "id": "4c4278b4",
   "metadata": {
    "id": "4c4278b4"
   },
   "outputs": [],
   "source": []
  },
  {
   "cell_type": "code",
   "execution_count": null,
   "id": "2acf6c74",
   "metadata": {
    "id": "2acf6c74"
   },
   "outputs": [],
   "source": []
  },
  {
   "cell_type": "code",
   "execution_count": null,
   "id": "3d3aae15",
   "metadata": {
    "id": "3d3aae15"
   },
   "outputs": [],
   "source": []
  }
 ],
 "metadata": {
  "colab": {
   "provenance": []
  },
  "kernelspec": {
   "display_name": "Python 3 (ipykernel)",
   "language": "python",
   "name": "python3"
  },
  "language_info": {
   "codemirror_mode": {
    "name": "ipython",
    "version": 3
   },
   "file_extension": ".py",
   "mimetype": "text/x-python",
   "name": "python",
   "nbconvert_exporter": "python",
   "pygments_lexer": "ipython3",
   "version": "3.9.12"
  }
 },
 "nbformat": 4,
 "nbformat_minor": 5
}
